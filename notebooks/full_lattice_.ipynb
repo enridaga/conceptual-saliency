{
 "cells": [
  {
   "cell_type": "code",
   "execution_count": 2,
   "id": "642f50dc-c97d-4297-bc37-c0373ebab5f2",
   "metadata": {},
   "outputs": [
    {
     "name": "stderr",
     "output_type": "stream",
     "text": [
      "/Users/ed4565/Development/conceptual-saliency/.python3/lib/python3.12/site-packages/tqdm/auto.py:21: TqdmWarning: IProgress not found. Please update jupyter and ipywidgets. See https://ipywidgets.readthedocs.io/en/stable/user_install.html\n",
      "  from .autonotebook import tqdm as notebook_tqdm\n"
     ]
    }
   ],
   "source": [
    "import os\n",
    "import pandas as pd\n",
    "from fcapy.context import FormalContext\n",
    "from fcapy.lattice import ConceptLattice"
   ]
  },
  {
   "cell_type": "code",
   "execution_count": 3,
   "id": "2fb4bab1-74d6-4f37-986e-3f4186586029",
   "metadata": {},
   "outputs": [],
   "source": [
    "data_dir = '../data'\n",
    "#input_file_path = os.path.join(data_dir, 'full_artwork_subject_context.csv')\n",
    "input_file_path = os.path.join(data_dir, 'full_artwork_subject_binary_matrix.csv')\n",
    "output_lattice_file = os.path.join(data_dir, 'full_artwork_subject_concept.json')"
   ]
  },
  {
   "cell_type": "code",
   "execution_count": null,
   "id": "2dfa5777-7e9b-4aaf-a9b6-4b7f5362cab4",
   "metadata": {},
   "outputs": [],
   "source": [
    "df = pd.read_csv(input_file_path, index_col=0)"
   ]
  },
  {
   "cell_type": "code",
   "execution_count": null,
   "id": "cf91d203-faa6-4d86-8199-e926dd79e2cc",
   "metadata": {},
   "outputs": [],
   "source": [
    "df.index = df.index.map(str)"
   ]
  },
  {
   "cell_type": "code",
   "execution_count": 4,
   "id": "9b69d293-f2cb-48bc-97b1-6826c74c2316",
   "metadata": {},
   "outputs": [
    {
     "ename": "AssertionError",
     "evalue": "FormalContext.attribute_names.setter: Length of \"value\" should match number of columns in ``data``",
     "output_type": "error",
     "traceback": [
      "\u001b[0;31m---------------------------------------------------------------------------\u001b[0m",
      "\u001b[0;31mAssertionError\u001b[0m                            Traceback (most recent call last)",
      "Cell \u001b[0;32mIn[4], line 1\u001b[0m\n\u001b[0;32m----> 1\u001b[0m K \u001b[38;5;241m=\u001b[39m \u001b[43mFormalContext\u001b[49m\u001b[38;5;241;43m.\u001b[39;49m\u001b[43mread_csv\u001b[49m\u001b[43m(\u001b[49m\u001b[43minput_file_path\u001b[49m\u001b[43m,\u001b[49m\u001b[43m \u001b[49m\u001b[43msep\u001b[49m\u001b[38;5;241;43m=\u001b[39;49m\u001b[38;5;124;43m'\u001b[39;49m\u001b[38;5;124;43m,\u001b[39;49m\u001b[38;5;124;43m'\u001b[39;49m\u001b[43m,\u001b[49m\u001b[43mword_true\u001b[49m\u001b[38;5;241;43m=\u001b[39;49m\u001b[38;5;124;43m'\u001b[39;49m\u001b[38;5;124;43mTrue\u001b[39;49m\u001b[38;5;124;43m'\u001b[39;49m\u001b[43m,\u001b[49m\u001b[43mword_false\u001b[49m\u001b[38;5;241;43m=\u001b[39;49m\u001b[38;5;124;43m'\u001b[39;49m\u001b[38;5;124;43mFalse\u001b[39;49m\u001b[38;5;124;43m'\u001b[39;49m\u001b[43m)\u001b[49m\n",
      "File \u001b[0;32m~/Development/conceptual-saliency/.python3/lib/python3.12/site-packages/fcapy/context/formal_context.py:461\u001b[0m, in \u001b[0;36mFormalContext.read_csv\u001b[0;34m(path, sep, word_true, word_false)\u001b[0m\n\u001b[1;32m    458\u001b[0m \u001b[38;5;250m\u001b[39m\u001b[38;5;124;03m\"\"\"\"\"\"\u001b[39;00m\n\u001b[1;32m    460\u001b[0m \u001b[38;5;28;01mfrom\u001b[39;00m \u001b[38;5;21;01mfcapy\u001b[39;00m\u001b[38;5;21;01m.\u001b[39;00m\u001b[38;5;21;01mcontext\u001b[39;00m\u001b[38;5;21;01m.\u001b[39;00m\u001b[38;5;21;01mconverters\u001b[39;00m \u001b[38;5;28;01mimport\u001b[39;00m read_csv\n\u001b[0;32m--> 461\u001b[0m \u001b[38;5;28;01mreturn\u001b[39;00m \u001b[43mread_csv\u001b[49m\u001b[43m(\u001b[49m\u001b[43mpath\u001b[49m\u001b[43m,\u001b[49m\u001b[43m \u001b[49m\u001b[43msep\u001b[49m\u001b[43m,\u001b[49m\u001b[43m \u001b[49m\u001b[43mword_true\u001b[49m\u001b[43m,\u001b[49m\u001b[43m \u001b[49m\u001b[43mword_false\u001b[49m\u001b[43m)\u001b[49m\n",
      "File \u001b[0;32m~/Development/conceptual-saliency/.python3/lib/python3.12/site-packages/fcapy/context/converters.py:185\u001b[0m, in \u001b[0;36mread_csv\u001b[0;34m(path, sep, word_true, word_false)\u001b[0m\n\u001b[1;32m    182\u001b[0m             \u001b[38;5;28;01mraise\u001b[39;00m val_error\n\u001b[1;32m    183\u001b[0m     data\u001b[38;5;241m.\u001b[39mappend(data_line)\n\u001b[0;32m--> 185\u001b[0m ctx \u001b[38;5;241m=\u001b[39m \u001b[43mFormalContext\u001b[49m\u001b[43m(\u001b[49m\u001b[43mdata\u001b[49m\u001b[38;5;241;43m=\u001b[39;49m\u001b[43mdata\u001b[49m\u001b[43m,\u001b[49m\u001b[43m \u001b[49m\u001b[43mobject_names\u001b[49m\u001b[38;5;241;43m=\u001b[39;49m\u001b[43mobj_names\u001b[49m\u001b[43m,\u001b[49m\u001b[43m \u001b[49m\u001b[43mattribute_names\u001b[49m\u001b[38;5;241;43m=\u001b[39;49m\u001b[43mattr_names\u001b[49m\u001b[43m)\u001b[49m\n\u001b[1;32m    186\u001b[0m \u001b[38;5;28;01mreturn\u001b[39;00m ctx\n",
      "File \u001b[0;32m~/Development/conceptual-saliency/.python3/lib/python3.12/site-packages/fcapy/context/formal_context.py:73\u001b[0m, in \u001b[0;36mFormalContext.__init__\u001b[0;34m(self, data, object_names, attribute_names, description, target, backend)\u001b[0m\n\u001b[1;32m     71\u001b[0m \u001b[38;5;28mself\u001b[39m\u001b[38;5;241m.\u001b[39m_data \u001b[38;5;241m=\u001b[39m init_bintable(data, backend)\n\u001b[1;32m     72\u001b[0m \u001b[38;5;28mself\u001b[39m\u001b[38;5;241m.\u001b[39mobject_names \u001b[38;5;241m=\u001b[39m object_names\n\u001b[0;32m---> 73\u001b[0m \u001b[38;5;28;43mself\u001b[39;49m\u001b[38;5;241;43m.\u001b[39;49m\u001b[43mattribute_names\u001b[49m \u001b[38;5;241m=\u001b[39m attribute_names\n\u001b[1;32m     74\u001b[0m \u001b[38;5;28mself\u001b[39m\u001b[38;5;241m.\u001b[39mdescription \u001b[38;5;241m=\u001b[39m description\n\u001b[1;32m     75\u001b[0m \u001b[38;5;28mself\u001b[39m\u001b[38;5;241m.\u001b[39m_target \u001b[38;5;241m=\u001b[39m target\n",
      "File \u001b[0;32m~/Development/conceptual-saliency/.python3/lib/python3.12/site-packages/fcapy/context/formal_context.py:167\u001b[0m, in \u001b[0;36mFormalContext.attribute_names\u001b[0;34m(self, value)\u001b[0m\n\u001b[1;32m    163\u001b[0m \u001b[38;5;28;01melse\u001b[39;00m:\n\u001b[1;32m    165\u001b[0m     value \u001b[38;5;241m=\u001b[39m \u001b[38;5;28mtuple\u001b[39m(value)\n\u001b[0;32m--> 167\u001b[0m     \u001b[38;5;28;01massert\u001b[39;00m \u001b[38;5;28mlen\u001b[39m(value) \u001b[38;5;241m==\u001b[39m \u001b[38;5;28mself\u001b[39m\u001b[38;5;241m.\u001b[39m_data\u001b[38;5;241m.\u001b[39mshape[\u001b[38;5;241m1\u001b[39m],\\\n\u001b[1;32m    168\u001b[0m         \u001b[38;5;124m'\u001b[39m\u001b[38;5;124mFormalContext.attribute_names.setter: Length of \u001b[39m\u001b[38;5;124m\"\u001b[39m\u001b[38;5;124mvalue\u001b[39m\u001b[38;5;124m\"\u001b[39m\u001b[38;5;124m should match number of columns in ``data``\u001b[39m\u001b[38;5;124m'\u001b[39m\n\u001b[1;32m    169\u001b[0m     \u001b[38;5;28;01massert\u001b[39;00m \u001b[38;5;28mall\u001b[39m(\u001b[38;5;28mtype\u001b[39m(name) \u001b[38;5;241m==\u001b[39m \u001b[38;5;28mstr\u001b[39m \u001b[38;5;28;01mfor\u001b[39;00m name \u001b[38;5;129;01min\u001b[39;00m value),\\\n\u001b[1;32m    170\u001b[0m         \u001b[38;5;124m'\u001b[39m\u001b[38;5;124mFormalContext.object_names.setter: Object names should be of type str\u001b[39m\u001b[38;5;124m'\u001b[39m\n\u001b[1;32m    171\u001b[0m     \u001b[38;5;28mself\u001b[39m\u001b[38;5;241m.\u001b[39m_attribute_names \u001b[38;5;241m=\u001b[39m value\n",
      "\u001b[0;31mAssertionError\u001b[0m: FormalContext.attribute_names.setter: Length of \"value\" should match number of columns in ``data``"
     ]
    }
   ],
   "source": [
    "# Create the FormalContext\n",
    "K = FormalContext.from_pandas(df)"
   ]
  },
  {
   "cell_type": "code",
   "execution_count": null,
   "id": "ca948f8c-7489-4097-911e-22c8bf51d9f1",
   "metadata": {},
   "outputs": [],
   "source": [
    "# create the concept lattice\n",
    "L = ConceptLattice.from_context(K, algo='Sofia', L_max = 1000, min_supp = 0.1, use_tqdm=True)"
   ]
  },
  {
   "cell_type": "code",
   "execution_count": null,
   "id": "5c4f9363-17e7-44aa-9ba8-c13fad5287eb",
   "metadata": {},
   "outputs": [],
   "source": [
    "L.write_json(objs_order=K.object_names, attrs_order=K.attribute_names, path=output_lattice_file)"
   ]
  }
 ],
 "metadata": {
  "kernelspec": {
   "display_name": "Python 3 (ipykernel)",
   "language": "python",
   "name": "python3"
  },
  "language_info": {
   "codemirror_mode": {
    "name": "ipython",
    "version": 3
   },
   "file_extension": ".py",
   "mimetype": "text/x-python",
   "name": "python",
   "nbconvert_exporter": "python",
   "pygments_lexer": "ipython3",
   "version": "3.12.1"
  }
 },
 "nbformat": 4,
 "nbformat_minor": 5
}
