{
 "cells": [
  {
   "cell_type": "code",
   "execution_count": null,
   "id": "a0006079-e3ec-4713-99b8-b50faa0b6f1d",
   "metadata": {},
   "outputs": [],
   "source": [
    "from fcapy.context import FormalContext\n",
    "import os\n",
    "import pandas as pd"
   ]
  },
  {
   "cell_type": "code",
   "execution_count": null,
   "id": "cb289567-6e31-472b-a892-af63b22068d4",
   "metadata": {},
   "outputs": [],
   "source": [
    "data_dir = '../data'\n",
    "input_file_path = os.path.join(data_dir, 'full_artwork_subject_binary_matrix.csv')\n",
    "output_file_path = os.path.join(data_dir, 'full_artwork_subject_context.cxt')\n",
    "# load the CSV file and ensure the index (artworkId) is of type str\n",
    "df = pd.read_csv(input_file_path, index_col=0)"
   ]
  },
  {
   "cell_type": "code",
   "execution_count": null,
   "id": "a5838abc-d9bf-44ff-a0d7-922173628847",
   "metadata": {},
   "outputs": [],
   "source": [
    "df.index = df.index.map(str)"
   ]
  },
  {
   "cell_type": "code",
   "execution_count": null,
   "id": "1b1f7fb1-2716-4295-90b1-cbbbf7c768a6",
   "metadata": {},
   "outputs": [],
   "source": [
    "# Create the FormalContext\n",
    "K = FormalContext.from_pandas(df)"
   ]
  },
  {
   "cell_type": "code",
   "execution_count": null,
   "id": "46463903-96bc-4430-a80d-edf86b22265d",
   "metadata": {},
   "outputs": [],
   "source": [
    "# K.write_csv(output_file_path, sep=',')\n",
    "K.write_cxt(output_file_path)"
   ]
  }
 ],
 "metadata": {
  "kernelspec": {
   "display_name": "Python 3 (ipykernel)",
   "language": "python",
   "name": "python3"
  },
  "language_info": {
   "codemirror_mode": {
    "name": "ipython",
    "version": 3
   },
   "file_extension": ".py",
   "mimetype": "text/x-python",
   "name": "python",
   "nbconvert_exporter": "python",
   "pygments_lexer": "ipython3",
   "version": "3.12.1"
  }
 },
 "nbformat": 4,
 "nbformat_minor": 5
}
