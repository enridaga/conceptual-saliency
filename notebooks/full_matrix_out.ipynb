{
 "cells": [
  {
   "cell_type": "code",
   "execution_count": 1,
   "id": "44081baa-48d2-42e2-9af4-682e83088c8d",
   "metadata": {
    "execution": {
     "iopub.execute_input": "2024-07-24T13:57:16.597352Z",
     "iopub.status.busy": "2024-07-24T13:57:16.597055Z",
     "iopub.status.idle": "2024-07-24T13:57:18.572079Z",
     "shell.execute_reply": "2024-07-24T13:57:18.571313Z"
    },
    "papermill": {
     "duration": 1.982378,
     "end_time": "2024-07-24T13:57:18.574016",
     "exception": false,
     "start_time": "2024-07-24T13:57:16.591638",
     "status": "completed"
    },
    "tags": []
   },
   "outputs": [
    {
     "name": "stdout",
     "output_type": "stream",
     "text": [
      "1. Load subjects\n"
     ]
    }
   ],
   "source": [
    "import os\n",
    "import pandas as pd\n",
    "\n",
    "print(\"1. Load subjects\")\n",
    "subjects_artworks_df = pd.read_csv('https://raw.githubusercontent.com/SPARQL-Anything/showcase-tate/main/subjects-artworks-id.csv')\n",
    "subjects_df = pd.read_csv('https://raw.githubusercontent.com/SPARQL-Anything/showcase-tate/main/subjects.csv')\n",
    "\n"
   ]
  },
  {
   "cell_type": "code",
   "execution_count": 2,
   "id": "10ac793d-767b-40b2-8524-4edd3ec6cd5e",
   "metadata": {
    "execution": {
     "iopub.execute_input": "2024-07-24T13:57:18.582392Z",
     "iopub.status.busy": "2024-07-24T13:57:18.582148Z",
     "iopub.status.idle": "2024-07-24T13:57:18.664993Z",
     "shell.execute_reply": "2024-07-24T13:57:18.664362Z"
    },
    "papermill": {
     "duration": 0.087478,
     "end_time": "2024-07-24T13:57:18.666772",
     "exception": false,
     "start_time": "2024-07-24T13:57:18.579294",
     "status": "completed"
    },
    "tags": []
   },
   "outputs": [
    {
     "name": "stdout",
     "output_type": "stream",
     "text": [
      "2. Merge the filtered dataframe with the subjects dataframe on subjectId\n"
     ]
    }
   ],
   "source": [
    "# Merge the filtered dataframe with the subjects dataframe on subjectId\n",
    "print(\"2. Merge the filtered dataframe with the subjects dataframe on subjectId\")\n",
    "merged_df = pd.merge(subjects_artworks_df, subjects_df, on='subjectId')\n",
    "data_dir = '../data'\n",
    "output_file_path = os.path.join(data_dir, 'full_artwork_subject_binary_matrix.csv')\n"
   ]
  },
  {
   "cell_type": "code",
   "execution_count": 3,
   "id": "7d3f0702-465a-4f84-85b4-7e3b9d068391",
   "metadata": {
    "execution": {
     "iopub.execute_input": "2024-07-24T13:57:18.674747Z",
     "iopub.status.busy": "2024-07-24T13:57:18.674506Z",
     "iopub.status.idle": "2024-07-24T13:57:38.053820Z",
     "shell.execute_reply": "2024-07-24T13:57:38.053118Z"
    },
    "papermill": {
     "duration": 19.384052,
     "end_time": "2024-07-24T13:57:38.055555",
     "exception": false,
     "start_time": "2024-07-24T13:57:18.671503",
     "status": "completed"
    },
    "tags": []
   },
   "outputs": [
    {
     "name": "stdout",
     "output_type": "stream",
     "text": [
      "3. Set artworkId as the index for merged_df\n"
     ]
    }
   ],
   "source": [
    "# Set artworkId as the index for merged_df\n",
    "print(\"3. Set artworkId as the index for merged_df\")\n",
    "merged_df.set_index('artworkId', inplace=True)\n",
    "# Create a pivot table with artworkId as rows and subjectName as columns\n",
    "pivot_df = merged_df.pivot_table(index='artworkId', columns='subjectName', aggfunc=lambda x: True, fill_value=False)"
   ]
  },
  {
   "cell_type": "code",
   "execution_count": 4,
   "id": "644134cb-d20d-4d5e-a84b-0d305889562b",
   "metadata": {
    "execution": {
     "iopub.execute_input": "2024-07-24T13:57:38.074886Z",
     "iopub.status.busy": "2024-07-24T13:57:38.074525Z",
     "iopub.status.idle": "2024-07-24T13:57:38.080188Z",
     "shell.execute_reply": "2024-07-24T13:57:38.079477Z"
    },
    "papermill": {
     "duration": 0.012228,
     "end_time": "2024-07-24T13:57:38.082184",
     "exception": false,
     "start_time": "2024-07-24T13:57:38.069956",
     "status": "completed"
    },
    "tags": []
   },
   "outputs": [
    {
     "name": "stdout",
     "output_type": "stream",
     "text": [
      "4. Drop the 'subjectId' level from the columns\n"
     ]
    }
   ],
   "source": [
    "# Drop the 'subjectId' level from the columns\n",
    "print(\"4. Drop the 'subjectId' level from the columns\")\n",
    "pivot_df.columns = pivot_df.columns.droplevel()\n",
    "pivot_df.index.name = None"
   ]
  },
  {
   "cell_type": "code",
   "execution_count": 5,
   "id": "290615f8-fc71-4294-89a8-fd560db3605a",
   "metadata": {
    "execution": {
     "iopub.execute_input": "2024-07-24T13:57:38.091114Z",
     "iopub.status.busy": "2024-07-24T13:57:38.090836Z",
     "iopub.status.idle": "2024-07-24T14:03:27.047361Z",
     "shell.execute_reply": "2024-07-24T14:03:27.046811Z"
    },
    "papermill": {
     "duration": 348.961655,
     "end_time": "2024-07-24T14:03:27.049134",
     "exception": false,
     "start_time": "2024-07-24T13:57:38.087479",
     "status": "completed"
    },
    "tags": []
   },
   "outputs": [],
   "source": [
    "# Display the final pivot table\n",
    "#print(pivot_df)\n",
    "# Save the pivot_df as a CSV file\n",
    "pivot_df.to_csv(output_file_path)"
   ]
  }
 ],
 "metadata": {
  "kernelspec": {
   "display_name": "Python 3 (ipykernel)",
   "language": "python",
   "name": "python3"
  },
  "language_info": {
   "codemirror_mode": {
    "name": "ipython",
    "version": 3
   },
   "file_extension": ".py",
   "mimetype": "text/x-python",
   "name": "python",
   "nbconvert_exporter": "python",
   "pygments_lexer": "ipython3",
   "version": "3.12.1"
  },
  "papermill": {
   "default_parameters": {},
   "duration": 373.88784,
   "end_time": "2024-07-24T14:03:27.389038",
   "environment_variables": {},
   "exception": null,
   "input_path": "full_matrix_.ipynb",
   "output_path": "full_matrix_out.ipynb",
   "parameters": {},
   "start_time": "2024-07-24T13:57:13.501198",
   "version": "2.6.0"
  }
 },
 "nbformat": 4,
 "nbformat_minor": 5
}