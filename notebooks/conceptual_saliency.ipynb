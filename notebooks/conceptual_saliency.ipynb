{
 "cells": [
  {
   "cell_type": "markdown",
   "metadata": {},
   "source": [
    "# Conceptual Saliency\n",
    "\n",
    "Welcome to the **Conceptual Saliency** notebook! This project aims to apply Formal Concept Analysis (FCA) algorithms to a dataset and analyse the resulting visualizations using saliency mapping techniques.\n",
    "\n",
    "## Overview\n",
    "\n",
    "Formal Concept Analysis (FCA) is a mathematical technique used for data analysis, knowledge representation, and information retrieval. By using FCA, we can extract meaningful patterns and relationships from complex datasets. Saliency mapping, on the other hand, helps in identifying the most significant parts of a visualisation, aiding in better interpretation and insights.\n",
    "\n",
    "## Project Goals\n",
    "\n",
    "- Implement and test various FCA algorithms on different datasets.\n",
    "- Generate visualizations of the concept lattices and other FCA structures.\n",
    "- Apply saliency mapping techniques to these visualizations to highlight key insights.\n",
    "- Analyse and document the outcomes to refine the workflow and improve results.\n",
    "\n",
    "## Reference Libraries\n",
    "\n",
    "Python libraries that I will try:\n",
    "- For Formal Concept Analysis: [https://github.com/EgorDudyrev/FCApy](https://github.com/EgorDudyrev/FCApy) a python package to work with Formal Concept Analysis.\n",
    "- For Saliency mapping:\n",
    "  - [https://github.com/pair-code/saliency](https://github.com/pair-code/saliency)\n",
    "  - [https://github.com/matthias-k/pysaliency](https://github.com/matthias-k/pysaliency) analyzing and modeling of eye movement\n",
    "\n",
    "## Reference Datasets\n",
    "\n",
    "Datasets I will use for testing:\n",
    "- The Tate Collection: [https://github.com/tategallery/collection](https://github.com/tategallery/collection) starting from some pre-processed data already available here [https://github.com/SPARQL-Anything/showcase-tate](https://github.com/SPARQL-Anything/showcase-tate) "
   ]
  },
  {
   "cell_type": "markdown",
   "metadata": {},
   "source": [
    "## Data Preparation\n",
    "\n",
    "In order to apply FCA methods, the library needs a matrix as input, such as this one"
   ]
  },
  {
   "cell_type": "code",
   "execution_count": null,
   "metadata": {},
   "outputs": [],
   "source": [
    "'''\n",
    ",fly,hunt,run,swim\n",
    "dove,True,False,False,False\n",
    "hen,False,False,False,False\n",
    "duck,True,False,False,True\n",
    "goose,True,False,False,True\n",
    "owl,True,True,False,False\n",
    "hawk,True,True,False,False\n",
    "eagle,True,True,False,False\n",
    "fox,False,True,True,False\n",
    "dog,False,False,True,False\n",
    "wolf,False,True,True,False\n",
    "cat,False,True,True,False\n",
    "tiger,False,True,True,False\n",
    "lion,False,True,True,False\n",
    "horse,False,False,True,False\n",
    "zebra,False,False,True,False\n",
    "cow,False,False,False,False\n",
    "'''"
   ]
  },
  {
   "cell_type": "markdown",
   "metadata": {},
   "source": [
    "Understanding how to generalise this passage will be subject of further discussion. However, for the time being, I will create a binary matrix `artworkId x subjectName` starting from subjects.csv and subjects-artworks-id.csv files available [here](https://github.com/SPARQL-Anything/showcase-tate).\n",
    "Namely,"
   ]
  },
  {
   "cell_type": "code",
   "execution_count": null,
   "metadata": {},
   "outputs": [],
   "source": [
    "# subjects.csv\n",
    "'''\n",
    "subjectId,subjectName\n",
    ",\n",
    "1,subject\n",
    "4,group/movement\n",
    "13,architecture\n",
    "14,agricultural\n",
    "15,bridges and viaducts\n",
    "17,features\n",
    "18,garden structures\n",
    "19,industrial\n",
    "20,military\n",
    "21,monuments\n",
    "22,periods and styles\n",
    "23,places of entertainment\n",
    "24,public and municipal\n",
    "25,religious\n",
    "26,residential\n",
    "...\n",
    "'''\n",
    "\n",
    "# subjects-artworks-id.csv\n",
    "'''\n",
    "subjectId,artworkId\n",
    "25,5700\n",
    "13,5748\n",
    "4537,8416\n",
    "92,15718\n",
    "1519,23478\n",
    "29,15699\n",
    "166,105988\n",
    "92,10108\n",
    "78,7214\n",
    "91,23699\n",
    "14439,20199\n",
    "...\n",
    "'''"
   ]
  },
  {
   "cell_type": "markdown",
   "metadata": {},
   "source": [
    "I will:\n",
    "1. **Load the CSV files** into data structures.\n",
    "2. **Merge the data** based on the `subjectId`.\n",
    "3. **Create the binary matrix** with `artworkId` as rows and `subjectName` as columns, with `True` or `False` values."
   ]
  },
  {
   "cell_type": "code",
   "execution_count": 2,
   "metadata": {},
   "outputs": [],
   "source": [
    "from fcapy.context import FormalContext\n",
    "import os\n",
    "import pandas as pd"
   ]
  },
  {
   "cell_type": "code",
   "execution_count": 3,
   "metadata": {},
   "outputs": [
    {
     "name": "stdout",
     "output_type": "stream",
     "text": [
      "839432\n"
     ]
    }
   ],
   "source": [
    "# load subjects\n",
    "subjects = pd.read_csv('https://raw.githubusercontent.com/SPARQL-Anything/showcase-tate/main/subjects.csv')\n",
    "\n",
    "# load subjects-artworks relationships\n",
    "subjects_artworks = pd.read_csv('https://raw.githubusercontent.com/SPARQL-Anything/showcase-tate/main/subjects-artworks-id.csv')\n",
    "\n",
    "# merge subjects with subjects_artworks to get subject names for each artwork\n",
    "merged_data = pd.merge(subjects_artworks, subjects, on='subjectId')\n",
    "print(len(merged_data))"
   ]
  },
  {
   "cell_type": "code",
   "execution_count": 5,
   "metadata": {},
   "outputs": [
    {
     "name": "stdout",
     "output_type": "stream",
     "text": [
      "Binary matrix saved to '../results\\artwork_subject_binary_matrix.csv'\n"
     ]
    }
   ],
   "source": [
    "# calculate the number of rows to keep (1/20 of the total rows to run faster for test purposes)\n",
    "num_rows_to_keep = len(merged_data) // 20\n",
    "\n",
    "# keep only the first 1/20 of the merged_data\n",
    "subset_merged_data = merged_data.head(num_rows_to_keep)\n",
    "\n",
    "# create the binary matrix with True/False values\n",
    "binary_matrix = subset_merged_data.pivot_table(index='artworkId', columns='subjectName', aggfunc='size', fill_value=0)\n",
    "binary_matrix = binary_matrix.map(lambda x: True if x > 0 else False)\n",
    "\n",
    "# ensure the results directory exists\n",
    "results_dir = '../results'\n",
    "os.makedirs(results_dir, exist_ok=True)\n",
    "# define the path for the output file\n",
    "output_file_path = os.path.join(results_dir, 'artwork_subject_binary_matrix.csv')\n",
    "\n",
    "# save to CSV\n",
    "binary_matrix.to_csv(output_file_path)\n",
    "print(f\"Binary matrix saved to '{output_file_path}'\")"
   ]
  },
  {
   "cell_type": "markdown",
   "metadata": {},
   "source": [
    "## Formal Context"
   ]
  },
  {
   "cell_type": "code",
   "execution_count": 7,
   "metadata": {},
   "outputs": [
    {
     "name": "stdout",
     "output_type": "stream",
     "text": [
      "FormalContext (5 objects, 2852 attributes, 7 connections)\n",
      "  |'As You Like It'|'Bacchus of Sansovino', sculpture|'Belvedere Antinous', sculpture|'Discobolus Preparing for a Throw', sculpture|'Farnese Hercules', sculpture|...|wreath|wren|wrestling|yard|youth|\n",
      "3 |                |                                 |                               |                                             |                             |...|      |    |         |    |     |\n",
      "4 |                |                                 |                               |                                             |                             |...|      |    |         |    |     |\n",
      "5 |                |                                 |                               |                                             |                             |...|      |    |         |    |     |\n",
      "8 |                |                                 |                               |                                             |                             |...|      |    |         |    |     |\n",
      "10|                |                                 |                               |                                             |                             |...|      |    |         |    |     |\n"
     ]
    }
   ],
   "source": [
    "# load the CSV file and ensure the index (artworkId) is of type str\n",
    "df = pd.read_csv(output_file_path, index_col=0)\n",
    "df.index = df.index.map(str)\n",
    "\n",
    "# Create the FormalContext\n",
    "K = FormalContext.from_pandas(df)\n",
    "\n",
    "# Print the first five objects data\n",
    "print(K[:5])"
   ]
  },
  {
   "cell_type": "code",
   "execution_count": 12,
   "metadata": {},
   "outputs": [
    {
     "name": "stdout",
     "output_type": "stream",
     "text": [
      "['1121', '1155', '1582', '2449', '2509', '4728', '4730', '4731', '4732', '4733', '4736', '4748', '4912', '4916', '5184', '5238', '5700', '6215', '6680', '7063', '8339', '12136', '13028', '14303', '14323', '14631', '14632', '15110', '15112', '15113', '15118', '15119', '15127', '15128', '15129', '15455', '15684', '16513', '16629', '16630', '18844', '18853', '18854', '19582', '19583', '19588', '19590', '19593', '19594', '19595', '19599', '19640', '19643', '19644', '19647', '19649', '19650', '19655', '19656', '19657', '19886', '20121', '20246', '20779', '22901', '22974', '22978', '23133', '23447', '23856', '23857', '23859', '23972', '23973', '24170', '24171', '24463', '24464', '25317', '25694', '26680', '27654', '28093', '28094', '28303', '28323', '28325', '28326', '28328', '28329', '28411', '28413', '28416', '28417', '28422', '28425', '28428', '28429', '28884', '28885', '28888', '28889', '29741', '30360', '31596', '31597', '31804', '31805', '31811', '31812', '31815', '33300', '33303', '33304', '33309', '34647', '34649', '34650', '34651', '34652', '34653', '34657', '34658', '34659', '34661', '34662', '34667', '35526', '35531', '35543', '35652', '36144', '36871', '37172', '37174', '37879', '37880', '37881', '37884', '38584', '38599', '40120', '40407', '41040', '41042', '41043', '41044', '41046', '41047', '41753', '41755', '41756', '41757', '41758', '42358', '42652', '42790', '43132', '43133', '43134', '43136', '43143', '43146', '43151', '43153', '43158', '43159', '43162', '43674', '43678', '43679', '43680', '43686', '43688', '43689', '43787', '43931', '45011', '45012', '46317', '46483', '46486', '46752', '48142', '49025', '49026', '49028', '49315', '49731', '49732', '49733', '50034', '50065', '50067', '50381', '50431', '50435', '50436', '50441', '50448', '50849', '50957', '51036', '51037', '51038', '51039', '51293', '51321', '51330', '51331', '51338', '51914', '51920', '52370', '52374', '52654', '53021', '53387', '53391', '53663', '54537', '54538', '54936', '54991', '54992', '55002', '55004', '55010', '55012', '55520', '55522', '55523', '55535', '55537', '55538', '55982', '56310', '56321', '56323', '56326', '56329', '56332', '56334', '56336', '56340', '56445', '56448', '56863', '56866', '56867', '56868', '57205', '57207', '57208', '57670', '57677', '57678', '57680', '58100', '58106', '58956', '58958', '58966', '59362', '59363', '59373', '59376', '59377', '59378', '59389', '59469', '59930', '61084', '61300', '63427', '63868', '64035', '64756', '65061', '96189', '96198', '98364', '114615', '114618', '114619', '114620']\n"
     ]
    }
   ],
   "source": [
    "print(K.extension( ['religious'] ))"
   ]
  },
  {
   "cell_type": "markdown",
   "metadata": {},
   "source": [
    "## Concept Lattice"
   ]
  },
  {
   "cell_type": "code",
   "execution_count": 15,
   "metadata": {},
   "outputs": [
    {
     "name": "stderr",
     "output_type": "stream",
     "text": [
      "Iter. Sofia projections: 100%|██████████| 2852/2852 [00:03<00:00, 739.37it/s]\n"
     ]
    },
    {
     "name": "stdout",
     "output_type": "stream",
     "text": [
      "1\n"
     ]
    }
   ],
   "source": [
    "# create the concept lattice\n",
    "from fcapy.lattice import ConceptLattice\n",
    "L = ConceptLattice.from_context(K, algo='Sofia', L_max = 1000, min_supp = 0.1, use_tqdm=True)\n",
    "print(len(L))"
   ]
  },
  {
   "cell_type": "code",
   "execution_count": 16,
   "metadata": {},
   "outputs": [
    {
     "name": "stdout",
     "output_type": "stream",
     "text": [
      "0 0\n"
     ]
    }
   ],
   "source": [
    "print(L.top, L.bottom)"
   ]
  },
  {
   "cell_type": "markdown",
   "metadata": {},
   "source": [
    "### Visualisation"
   ]
  },
  {
   "cell_type": "code",
   "execution_count": 17,
   "metadata": {},
   "outputs": [
    {
     "data": {
      "image/png": "[encoded data removed]",
      "text/plain": [
       "<Figure size 1000x500 with 1 Axes>"
      ]
     },
     "metadata": {},
     "output_type": "display_data"
    }
   ],
   "source": [
    "import matplotlib.pyplot as plt\n",
    "from fcapy.visualizer import LineVizNx\n",
    "fig, ax = plt.subplots(figsize=(10, 5))\n",
    "vsl = LineVizNx()\n",
    "vsl.draw_concept_lattice(L, ax=ax, flg_node_indices=True)\n",
    "ax.set_title('Tate Gallery Artworks subjects', fontsize=18)\n",
    "plt.tight_layout()\n",
    "plt.show()"
   ]
  },
  {
   "cell_type": "markdown",
   "metadata": {},
   "source": [
    "Right now results are not significant because could be that I prepared data in a wrong way. Anyway, the process should be something similar. Now I will take a ready image (tha should be the output of the process so far) and try the saliency mapping library."
   ]
  },
  {
   "cell_type": "markdown",
   "metadata": {},
   "source": [
    "## Saliency Mapping\n",
    "\n"
   ]
  },
  {
   "cell_type": "code",
   "execution_count": 1,
   "metadata": {},
   "outputs": [],
   "source": [
    "# Boilerplate imports.\n",
    "import tensorflow as tf\n",
    "import numpy as np\n",
    "import PIL.Image\n",
    "from matplotlib import pylab as P\n",
    "\n",
    "# From our repository.\n",
    "import saliency.core as saliency\n",
    "\n",
    "%matplotlib inline"
   ]
  },
  {
   "cell_type": "code",
   "execution_count": 2,
   "metadata": {},
   "outputs": [],
   "source": [
    "# Boilerplate methods.\n",
    "def ShowImage(im, title='', ax=None):\n",
    "  if ax is None:\n",
    "    P.figure()\n",
    "  P.axis('off')\n",
    "  P.imshow(im)\n",
    "  P.title(title)\n",
    "\n",
    "def ShowGrayscaleImage(im, title='', ax=None):\n",
    "  if ax is None:\n",
    "    P.figure()\n",
    "  P.axis('off')\n",
    "\n",
    "  P.imshow(im, cmap=P.cm.gray, vmin=0, vmax=1)\n",
    "  P.title(title)\n",
    "\n",
    "def ShowHeatMap(im, title, ax=None):\n",
    "  if ax is None:\n",
    "    P.figure()\n",
    "  P.axis('off')\n",
    "  P.imshow(im, cmap='inferno')\n",
    "  P.title(title)\n",
    "\n",
    "def LoadImage(file_path):\n",
    "  im = PIL.Image.open(file_path)\n",
    "  im = im.resize((224,224))\n",
    "  im = np.asarray(im)\n",
    "  return im\n",
    "\n",
    "def PreprocessImage(im):\n",
    "  im = tf.keras.applications.vgg16.preprocess_input(im)\n",
    "  return im"
   ]
  },
  {
   "cell_type": "code",
   "execution_count": 10,
   "metadata": {},
   "outputs": [],
   "source": [
    "m = tf.keras.applications.vgg16.VGG16(weights='imagenet', include_top=True)\n",
    "conv_layer = m.get_layer('block5_conv3')\n",
    "model = tf.keras.models.Model(inputs=m.input, outputs=[conv_layer.output, m.output])\n",
    "\n",
    "class_idx_str = 'class_idx_str'\n",
    "def call_model_function(images, call_model_args=None, expected_keys=None):\n",
    "    target_class_idx =  call_model_args[class_idx_str]\n",
    "    images = tf.convert_to_tensor(images)\n",
    "    with tf.GradientTape() as tape:\n",
    "        if expected_keys==[saliency.base.INPUT_OUTPUT_GRADIENTS]:\n",
    "            tape.watch(images)\n",
    "            _, output_layer = model(images)\n",
    "            output_layer = output_layer[:,target_class_idx]\n",
    "            gradients = np.array(tape.gradient(output_layer, images))\n",
    "            return {saliency.base.INPUT_OUTPUT_GRADIENTS: gradients}\n",
    "        else:\n",
    "            conv_layer, output_layer = model(images)\n",
    "            gradients = np.array(tape.gradient(output_layer, conv_layer))\n",
    "            return {saliency.base.CONVOLUTION_LAYER_VALUES: conv_layer,\n",
    "                    saliency.base.CONVOLUTION_OUTPUT_GRADIENTS: gradients}"
   ]
  },
  {
   "cell_type": "code",
   "execution_count": 15,
   "metadata": {},
   "outputs": [
    {
     "ename": "AttributeError",
     "evalue": "'numpy.ndarray' object has no attribute 'convert'",
     "output_type": "error",
     "traceback": [
      "\u001b[1;31m---------------------------------------------------------------------------\u001b[0m",
      "\u001b[1;31mAttributeError\u001b[0m                            Traceback (most recent call last)",
      "Cell \u001b[1;32mIn[15], line 3\u001b[0m\n\u001b[0;32m      1\u001b[0m \u001b[38;5;66;03m# Load the image\u001b[39;00m\n\u001b[0;32m      2\u001b[0m im_orig \u001b[38;5;241m=\u001b[39m LoadImage(\u001b[38;5;124m'\u001b[39m\u001b[38;5;124m../results/live_in_water_lattice_color_short.png\u001b[39m\u001b[38;5;124m'\u001b[39m)\n\u001b[1;32m----> 3\u001b[0m im \u001b[38;5;241m=\u001b[39m \u001b[43mPreprocessImage\u001b[49m\u001b[43m(\u001b[49m\u001b[43mim_orig\u001b[49m\u001b[43m)\u001b[49m\n\u001b[0;32m      5\u001b[0m \u001b[38;5;66;03m# Show the image\u001b[39;00m\n\u001b[0;32m      6\u001b[0m ShowImage(im_orig)\n",
      "Cell \u001b[1;32mIn[14], line 4\u001b[0m, in \u001b[0;36mPreprocessImage\u001b[1;34m(im)\u001b[0m\n\u001b[0;32m      3\u001b[0m \u001b[38;5;28;01mdef\u001b[39;00m \u001b[38;5;21mPreprocessImage\u001b[39m(im):\n\u001b[1;32m----> 4\u001b[0m     im \u001b[38;5;241m=\u001b[39m \u001b[43mim\u001b[49m\u001b[38;5;241;43m.\u001b[39;49m\u001b[43mconvert\u001b[49m(\u001b[38;5;124m'\u001b[39m\u001b[38;5;124mRGB\u001b[39m\u001b[38;5;124m'\u001b[39m)  \u001b[38;5;66;03m# Convert image to RGB\u001b[39;00m\n\u001b[0;32m      5\u001b[0m     im \u001b[38;5;241m=\u001b[39m im\u001b[38;5;241m.\u001b[39mresize((\u001b[38;5;241m224\u001b[39m, \u001b[38;5;241m224\u001b[39m))  \u001b[38;5;66;03m# Resize image to 224x224\u001b[39;00m\n\u001b[0;32m      6\u001b[0m     im \u001b[38;5;241m=\u001b[39m np\u001b[38;5;241m.\u001b[39marray(im)  \u001b[38;5;66;03m# Convert image to numpy array\u001b[39;00m\n",
      "\u001b[1;31mAttributeError\u001b[0m: 'numpy.ndarray' object has no attribute 'convert'"
     ]
    }
   ],
   "source": [
    "# Load the image\n",
    "im_orig = LoadImage('../results/live_in_water_lattice_color_short.png')\n",
    "im = PreprocessImage(im_orig)\n",
    "\n",
    "# Show the image\n",
    "ShowImage(im_orig)\n",
    "\n",
    "_, predictions = model(np.array([im]))\n",
    "prediction_class = np.argmax(predictions[0])\n",
    "call_model_args = {class_idx_str: prediction_class}\n",
    "\n",
    "print(\"Prediction class: \" + str(prediction_class))"
   ]
  }
 ],
 "metadata": {
  "kernelspec": {
   "display_name": "venv",
   "language": "python",
   "name": "python3"
  },
  "language_info": {
   "codemirror_mode": {
    "name": "ipython",
    "version": 3
   },
   "file_extension": ".py",
   "mimetype": "text/x-python",
   "name": "python",
   "nbconvert_exporter": "python",
   "pygments_lexer": "ipython3",
   "version": "3.11.9"
  }
 },
 "nbformat": 4,
 "nbformat_minor": 2
}
