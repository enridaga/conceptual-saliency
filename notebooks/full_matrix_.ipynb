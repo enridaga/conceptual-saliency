{
 "cells": [
  {
   "cell_type": "code",
   "execution_count": null,
   "id": "44081baa-48d2-42e2-9af4-682e83088c8d",
   "metadata": {},
   "outputs": [],
   "source": [
    "import os\n",
    "import pandas as pd\n",
    "\n",
    "print(\"1. Load subjects\")\n",
    "subjects_artworks_df = pd.read_csv('https://raw.githubusercontent.com/SPARQL-Anything/showcase-tate/main/subjects-artworks-id.csv')\n",
    "subjects_df = pd.read_csv('https://raw.githubusercontent.com/SPARQL-Anything/showcase-tate/main/subjects.csv')\n",
    "\n"
   ]
  },
  {
   "cell_type": "code",
   "execution_count": null,
   "id": "10ac793d-767b-40b2-8524-4edd3ec6cd5e",
   "metadata": {},
   "outputs": [],
   "source": [
    "# Merge the filtered dataframe with the subjects dataframe on subjectId\n",
    "print(\"2. Merge the filtered dataframe with the subjects dataframe on subjectId\")\n",
    "merged_df = pd.merge(subjects_artworks_df, subjects_df, on='subjectId')\n",
    "data_dir = '../data'\n",
    "output_file_path = os.path.join(data_dir, 'full_artwork_subject_binary_matrix.csv')\n"
   ]
  },
  {
   "cell_type": "code",
   "execution_count": null,
   "id": "7d3f0702-465a-4f84-85b4-7e3b9d068391",
   "metadata": {},
   "outputs": [],
   "source": [
    "# Set artworkId as the index for merged_df\n",
    "print(\"3. Set artworkId as the index for merged_df\")\n",
    "merged_df.set_index('artworkId', inplace=True)\n",
    "# Create a pivot table with artworkId as rows and subjectName as columns\n",
    "pivot_df = merged_df.pivot_table(index='artworkId', columns='subjectName', aggfunc=lambda x: True, fill_value=False)"
   ]
  },
  {
   "cell_type": "code",
   "execution_count": null,
   "id": "644134cb-d20d-4d5e-a84b-0d305889562b",
   "metadata": {},
   "outputs": [],
   "source": [
    "# Drop the 'subjectId' level from the columns\n",
    "print(\"4. Drop the 'subjectId' level from the columns\")\n",
    "pivot_df.columns = pivot_df.columns.droplevel()\n",
    "pivot_df.index.name = None"
   ]
  },
  {
   "cell_type": "code",
   "execution_count": null,
   "id": "290615f8-fc71-4294-89a8-fd560db3605a",
   "metadata": {},
   "outputs": [],
   "source": [
    "# Display the final pivot table\n",
    "#print(pivot_df)\n",
    "# Save the pivot_df as a CSV file\n",
    "pivot_df.to_csv(output_file_path)"
   ]
  }
 ],
 "metadata": {
  "kernelspec": {
   "display_name": "Python 3 (ipykernel)",
   "language": "python",
   "name": "python3"
  },
  "language_info": {
   "codemirror_mode": {
    "name": "ipython",
    "version": 3
   },
   "file_extension": ".py",
   "mimetype": "text/x-python",
   "name": "python",
   "nbconvert_exporter": "python",
   "pygments_lexer": "ipython3",
   "version": "3.12.1"
  }
 },
 "nbformat": 4,
 "nbformat_minor": 5
}
