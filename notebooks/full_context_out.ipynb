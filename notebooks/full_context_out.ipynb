{
 "cells": [
  {
   "cell_type": "code",
   "execution_count": 1,
   "id": "a0006079-e3ec-4713-99b8-b50faa0b6f1d",
   "metadata": {
    "execution": {
     "iopub.execute_input": "2024-07-26T12:54:57.232196Z",
     "iopub.status.busy": "2024-07-26T12:54:57.231815Z",
     "iopub.status.idle": "2024-07-26T12:55:00.908501Z",
     "shell.execute_reply": "2024-07-26T12:55:00.907997Z"
    },
    "papermill": {
     "duration": 3.684393,
     "end_time": "2024-07-26T12:55:00.910259",
     "exception": false,
     "start_time": "2024-07-26T12:54:57.225866",
     "status": "completed"
    },
    "tags": []
   },
   "outputs": [],
   "source": [
    "from fcapy.context import FormalContext\n",
    "import os\n",
    "import pandas as pd"
   ]
  },
  {
   "cell_type": "code",
   "execution_count": 2,
   "id": "cb289567-6e31-472b-a892-af63b22068d4",
   "metadata": {
    "execution": {
     "iopub.execute_input": "2024-07-26T12:55:00.935605Z",
     "iopub.status.busy": "2024-07-26T12:55:00.935177Z",
     "iopub.status.idle": "2024-07-26T13:01:01.147075Z",
     "shell.execute_reply": "2024-07-26T13:01:01.146243Z"
    },
    "papermill": {
     "duration": 360.218253,
     "end_time": "2024-07-26T13:01:01.149430",
     "exception": false,
     "start_time": "2024-07-26T12:55:00.931177",
     "status": "completed"
    },
    "tags": []
   },
   "outputs": [],
   "source": [
    "data_dir = '../data'\n",
    "input_file_path = os.path.join(data_dir, 'full_artwork_subject_binary_matrix.csv')\n",
    "output_file_path = os.path.join(data_dir, 'full_artwork_subject_context.cxt')\n",
    "# load the CSV file and ensure the index (artworkId) is of type str\n",
    "df = pd.read_csv(input_file_path, index_col=0)"
   ]
  },
  {
   "cell_type": "code",
   "execution_count": 3,
   "id": "a5838abc-d9bf-44ff-a0d7-922173628847",
   "metadata": {
    "execution": {
     "iopub.execute_input": "2024-07-26T13:01:01.174696Z",
     "iopub.status.busy": "2024-07-26T13:01:01.174408Z",
     "iopub.status.idle": "2024-07-26T13:01:01.193800Z",
     "shell.execute_reply": "2024-07-26T13:01:01.193248Z"
    },
    "papermill": {
     "duration": 0.041356,
     "end_time": "2024-07-26T13:01:01.195411",
     "exception": false,
     "start_time": "2024-07-26T13:01:01.154055",
     "status": "completed"
    },
    "tags": []
   },
   "outputs": [],
   "source": [
    "df.index = df.index.map(str)"
   ]
  },
  {
   "cell_type": "code",
   "execution_count": 4,
   "id": "1b1f7fb1-2716-4295-90b1-cbbbf7c768a6",
   "metadata": {
    "execution": {
     "iopub.execute_input": "2024-07-26T13:01:01.202428Z",
     "iopub.status.busy": "2024-07-26T13:01:01.202164Z",
     "iopub.status.idle": "2024-07-26T13:02:02.564488Z",
     "shell.execute_reply": "2024-07-26T13:02:02.563557Z"
    },
    "papermill": {
     "duration": 61.366915,
     "end_time": "2024-07-26T13:02:02.566380",
     "exception": false,
     "start_time": "2024-07-26T13:01:01.199465",
     "status": "completed"
    },
    "tags": []
   },
   "outputs": [],
   "source": [
    "# Create the FormalContext\n",
    "K = FormalContext.from_pandas(df)"
   ]
  },
  {
   "cell_type": "code",
   "execution_count": 5,
   "id": "46463903-96bc-4430-a80d-edf86b22265d",
   "metadata": {
    "execution": {
     "iopub.execute_input": "2024-07-26T13:02:02.577698Z",
     "iopub.status.busy": "2024-07-26T13:02:02.577443Z",
     "iopub.status.idle": "2024-07-26T13:03:03.401608Z",
     "shell.execute_reply": "2024-07-26T13:03:03.400985Z"
    },
    "papermill": {
     "duration": 60.829093,
     "end_time": "2024-07-26T13:03:03.403557",
     "exception": false,
     "start_time": "2024-07-26T13:02:02.574464",
     "status": "completed"
    },
    "tags": []
   },
   "outputs": [],
   "source": [
    "# K.write_csv(output_file_path, sep=',')\n",
    "K.write_cxt(output_file_path)"
   ]
  }
 ],
 "metadata": {
  "kernelspec": {
   "display_name": "Python 3 (ipykernel)",
   "language": "python",
   "name": "python3"
  },
  "language_info": {
   "codemirror_mode": {
    "name": "ipython",
    "version": 3
   },
   "file_extension": ".py",
   "mimetype": "text/x-python",
   "name": "python",
   "nbconvert_exporter": "python",
   "pygments_lexer": "ipython3",
   "version": "3.12.1"
  },
  "papermill": {
   "default_parameters": {},
   "duration": 490.109432,
   "end_time": "2024-07-26T13:03:04.152836",
   "environment_variables": {},
   "exception": null,
   "input_path": "full_context_.ipynb",
   "output_path": "full_context_out.ipynb",
   "parameters": {},
   "start_time": "2024-07-26T12:54:54.043404",
   "version": "2.6.0"
  }
 },
 "nbformat": 4,
 "nbformat_minor": 5
}