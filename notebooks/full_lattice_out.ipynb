{
 "cells": [
  {
   "cell_type": "code",
   "execution_count": 1,
   "id": "642f50dc-c97d-4297-bc37-c0373ebab5f2",
   "metadata": {
    "execution": {
     "iopub.execute_input": "2024-07-27T11:14:17.812561Z",
     "iopub.status.busy": "2024-07-27T11:14:17.812147Z",
     "iopub.status.idle": "2024-07-27T11:14:23.308049Z",
     "shell.execute_reply": "2024-07-27T11:14:23.307199Z"
    },
    "papermill": {
     "duration": 5.517028,
     "end_time": "2024-07-27T11:14:23.310216",
     "exception": false,
     "start_time": "2024-07-27T11:14:17.793188",
     "status": "completed"
    },
    "tags": []
   },
   "outputs": [
    {
     "name": "stderr",
     "output_type": "stream",
     "text": [
      "/Users/ed4565/Development/conceptual-saliency/.python3/lib/python3.12/site-packages/tqdm/auto.py:21: TqdmWarning: IProgress not found. Please update jupyter and ipywidgets. See https://ipywidgets.readthedocs.io/en/stable/user_install.html\n",
      "  from .autonotebook import tqdm as notebook_tqdm\n"
     ]
    }
   ],
   "source": [
    "import os\n",
    "import pandas as pd\n",
    "from fcapy.context import FormalContext\n",
    "from fcapy.lattice import ConceptLattice"
   ]
  },
  {
   "cell_type": "code",
   "execution_count": 2,
   "id": "2fb4bab1-74d6-4f37-986e-3f4186586029",
   "metadata": {
    "execution": {
     "iopub.execute_input": "2024-07-27T11:14:23.318952Z",
     "iopub.status.busy": "2024-07-27T11:14:23.318574Z",
     "iopub.status.idle": "2024-07-27T11:14:23.322049Z",
     "shell.execute_reply": "2024-07-27T11:14:23.321545Z"
    },
    "papermill": {
     "duration": 0.008471,
     "end_time": "2024-07-27T11:14:23.323684",
     "exception": false,
     "start_time": "2024-07-27T11:14:23.315213",
     "status": "completed"
    },
    "tags": []
   },
   "outputs": [],
   "source": [
    "data_dir = '../data'\n",
    "#input_file_path = os.path.join(data_dir, 'full_artwork_subject_context.csv')\n",
    "input_file_path = os.path.join(data_dir, 'full_artwork_subject_binary_matrix.csv')\n",
    "output_lattice_file = os.path.join(data_dir, 'full_artwork_subject_concept.json')"
   ]
  },
  {
   "cell_type": "code",
   "execution_count": 3,
   "id": "2dfa5777-7e9b-4aaf-a9b6-4b7f5362cab4",
   "metadata": {
    "execution": {
     "iopub.execute_input": "2024-07-27T11:14:23.331295Z",
     "iopub.status.busy": "2024-07-27T11:14:23.331023Z",
     "iopub.status.idle": "2024-07-27T11:20:22.154581Z",
     "shell.execute_reply": "2024-07-27T11:20:22.153743Z"
    },
    "papermill": {
     "duration": 358.828502,
     "end_time": "2024-07-27T11:20:22.156619",
     "exception": false,
     "start_time": "2024-07-27T11:14:23.328117",
     "status": "completed"
    },
    "tags": []
   },
   "outputs": [],
   "source": [
    "df = pd.read_csv(input_file_path, index_col=0)"
   ]
  },
  {
   "cell_type": "code",
   "execution_count": 4,
   "id": "cf91d203-faa6-4d86-8199-e926dd79e2cc",
   "metadata": {
    "execution": {
     "iopub.execute_input": "2024-07-27T11:20:22.168410Z",
     "iopub.status.busy": "2024-07-27T11:20:22.168098Z",
     "iopub.status.idle": "2024-07-27T11:20:22.192274Z",
     "shell.execute_reply": "2024-07-27T11:20:22.191349Z"
    },
    "papermill": {
     "duration": 0.03068,
     "end_time": "2024-07-27T11:20:22.194668",
     "exception": false,
     "start_time": "2024-07-27T11:20:22.163988",
     "status": "completed"
    },
    "tags": []
   },
   "outputs": [],
   "source": [
    "df.index = df.index.map(str)"
   ]
  },
  {
   "cell_type": "code",
   "execution_count": 5,
   "id": "9b69d293-f2cb-48bc-97b1-6826c74c2316",
   "metadata": {
    "execution": {
     "iopub.execute_input": "2024-07-27T11:20:22.216685Z",
     "iopub.status.busy": "2024-07-27T11:20:22.216422Z",
     "iopub.status.idle": "2024-07-27T11:21:14.523689Z",
     "shell.execute_reply": "2024-07-27T11:21:14.522857Z"
    },
    "papermill": {
     "duration": 52.312121,
     "end_time": "2024-07-27T11:21:14.525428",
     "exception": false,
     "start_time": "2024-07-27T11:20:22.213307",
     "status": "completed"
    },
    "tags": []
   },
   "outputs": [],
   "source": [
    "# Create the FormalContext\n",
    "K = FormalContext.from_pandas(df)"
   ]
  },
  {
   "cell_type": "code",
   "execution_count": 6,
   "id": "ca948f8c-7489-4097-911e-22c8bf51d9f1",
   "metadata": {
    "execution": {
     "iopub.execute_input": "2024-07-27T11:21:14.533533Z",
     "iopub.status.busy": "2024-07-27T11:21:14.533277Z",
     "iopub.status.idle": "2024-07-27T13:55:30.123089Z",
     "shell.execute_reply": "2024-07-27T13:55:30.122378Z"
    },
    "papermill": {
     "duration": 9255.594609,
     "end_time": "2024-07-27T13:55:30.124885",
     "exception": false,
     "start_time": "2024-07-27T11:21:14.530276",
     "status": "completed"
    },
    "tags": []
   },
   "outputs": [
    {
     "name": "stderr",
     "output_type": "stream",
     "text": [
      "\r",
      "Iter. Sofia projections:   0%|                                                                             | 0/16232 [00:00<?, ?it/s]"
     ]
    },
    {
     "name": "stderr",
     "output_type": "stream",
     "text": [
      "\r",
      "Iter. Sofia projections:   0%|                                                                     | 9/16232 [00:00<03:13, 83.78it/s]"
     ]
    },
    {
     "name": "stderr",
     "output_type": "stream",
     "text": [
      "\r",
      "Iter. Sofia projections:   0%|                                                                    | 20/16232 [00:00<02:52, 93.91it/s]"
     ]
    },
    {
     "name": "stderr",
     "output_type": "stream",
     "text": [
      "\r",
      "Iter. Sofia projections:   0%|▏                                                                   | 31/16232 [00:00<02:45, 97.75it/s]"
     ]
    },
    {
     "name": "stderr",
     "output_type": "stream",
     "text": [
      "\r",
      "Iter. Sofia projections:   0%|▏                                                                   | 41/16232 [00:00<02:47, 96.71it/s]"
     ]
    },
    {
     "name": "stderr",
     "output_type": "stream",
     "text": [
      "\r",
      "Iter. Sofia projections:   0%|▏                                                                  | 52/16232 [00:00<02:40, 101.03it/s]"
     ]
    },
    {
     "name": "stderr",
     "output_type": "stream",
     "text": [
      "\r",
      "Iter. Sofia projections:   0%|▎                                                                  | 63/16232 [00:00<02:35, 103.97it/s]"
     ]
    },
    {
     "name": "stderr",
     "output_type": "stream",
     "text": [
      "\r",
      "Iter. Sofia projections:   0%|▎                                                                  | 74/16232 [00:00<02:35, 103.82it/s]"
     ]
    },
    {
     "name": "stderr",
     "output_type": "stream",
     "text": [
      "\r",
      "Iter. Sofia projections:   1%|▎                                                                  | 85/16232 [00:00<02:41, 100.04it/s]"
     ]
    },
    {
     "name": "stderr",
     "output_type": "stream",
     "text": [
      "\r",
      "Iter. Sofia projections:   1%|▍                                                                   | 96/16232 [00:00<02:43, 98.55it/s]"
     ]
    },
    {
     "name": "stderr",
     "output_type": "stream",
     "text": [
      "\r",
      "Iter. Sofia projections:   1%|▍                                                                  | 107/16232 [00:01<02:41, 99.64it/s]"
     ]
    },
    {
     "name": "stderr",
     "output_type": "stream",
     "text": [
      "\r",
      "Iter. Sofia projections:   1%|▍                                                                 | 118/16232 [00:01<02:40, 100.62it/s]"
     ]
    },
    {
     "name": "stderr",
     "output_type": "stream",
     "text": [
      "\r",
      "Iter. Sofia projections:   1%|▌                                                                 | 129/16232 [00:01<02:40, 100.41it/s]"
     ]
    },
    {
     "name": "stderr",
     "output_type": "stream",
     "text": [
      "\r",
      "Iter. Sofia projections:   1%|▌                                                                 | 140/16232 [00:01<02:36, 103.07it/s]"
     ]
    },
    {
     "name": "stderr",
     "output_type": "stream",
     "text": [
      "\r",
      "Iter. Sofia projections:   1%|▌                                                                 | 151/16232 [00:01<02:34, 104.41it/s]"
     ]
    },
    {
     "name": "stderr",
     "output_type": "stream",
     "text": [
      "\r",
      "Iter. Sofia projections:   1%|▋                                                                 | 162/16232 [00:01<02:34, 103.88it/s]"
     ]
    },
    {
     "name": "stderr",
     "output_type": "stream",
     "text": [
      "\r",
      "Iter. Sofia projections:   1%|▋                                                                 | 173/16232 [00:01<02:36, 102.94it/s]"
     ]
    },
    {
     "name": "stderr",
     "output_type": "stream",
     "text": [
      "\r",
      "Iter. Sofia projections:   1%|▋                                                                 | 184/16232 [00:01<02:34, 103.58it/s]"
     ]
    },
    {
     "name": "stderr",
     "output_type": "stream",
     "text": [
      "\r",
      "Iter. Sofia projections:   1%|▊                                                                 | 196/16232 [00:01<02:30, 106.25it/s]"
     ]
    },
    {
     "name": "stderr",
     "output_type": "stream",
     "text": [
      "\r",
      "Iter. Sofia projections:   1%|▊                                                                 | 207/16232 [00:02<02:31, 105.69it/s]"
     ]
    },
    {
     "name": "stderr",
     "output_type": "stream",
     "text": [
      "\r",
      "Iter. Sofia projections:   1%|▉                                                                 | 219/16232 [00:02<02:27, 108.73it/s]"
     ]
    },
    {
     "name": "stderr",
     "output_type": "stream",
     "text": [
      "\r",
      "Iter. Sofia projections:   1%|▉                                                                 | 231/16232 [00:02<02:25, 110.00it/s]"
     ]
    },
    {
     "name": "stderr",
     "output_type": "stream",
     "text": [
      "\r",
      "Iter. Sofia projections:   1%|▉                                                                 | 243/16232 [00:02<02:26, 108.99it/s]"
     ]
    },
    {
     "name": "stderr",
     "output_type": "stream",
     "text": [
      "\r",
      "Iter. Sofia projections:   2%|█                                                                 | 254/16232 [00:02<02:28, 107.80it/s]"
     ]
    },
    {
     "name": "stderr",
     "output_type": "stream",
     "text": [
      "\r",
      "Iter. Sofia projections:   2%|█                                                                 | 265/16232 [00:02<02:28, 107.77it/s]"
     ]
    },
    {
     "name": "stderr",
     "output_type": "stream",
     "text": [
      "\r",
      "Iter. Sofia projections:   2%|█                                                                 | 276/16232 [00:02<02:30, 105.81it/s]"
     ]
    },
    {
     "name": "stderr",
     "output_type": "stream",
     "text": [
      "\r",
      "Iter. Sofia projections:   2%|█▏                                                                | 287/16232 [00:02<02:29, 106.63it/s]"
     ]
    },
    {
     "name": "stderr",
     "output_type": "stream",
     "text": [
      "\r",
      "Iter. Sofia projections:   2%|█▏                                                                | 298/16232 [00:02<02:29, 106.61it/s]"
     ]
    },
    {
     "name": "stderr",
     "output_type": "stream",
     "text": [
      "\r",
      "Iter. Sofia projections:   2%|█▎                                                                | 309/16232 [00:02<02:29, 106.72it/s]"
     ]
    },
    {
     "name": "stderr",
     "output_type": "stream",
     "text": [
      "\r",
      "Iter. Sofia projections:   2%|█▎                                                                | 320/16232 [00:03<02:32, 104.07it/s]"
     ]
    },
    {
     "name": "stderr",
     "output_type": "stream",
     "text": [
      "\r",
      "Iter. Sofia projections:   2%|█▎                                                                | 331/16232 [00:03<02:38, 100.44it/s]"
     ]
    },
    {
     "name": "stderr",
     "output_type": "stream",
     "text": [
      "\r",
      "Iter. Sofia projections:   2%|█▍                                                                 | 342/16232 [00:03<02:38, 99.98it/s]"
     ]
    },
    {
     "name": "stderr",
     "output_type": "stream",
     "text": [
      "\r",
      "Iter. Sofia projections:   2%|█▍                                                                | 353/16232 [00:03<02:36, 101.30it/s]"
     ]
    },
    {
     "name": "stderr",
     "output_type": "stream",
     "text": [
      "\r",
      "Iter. Sofia projections:   2%|█▍                                                                | 364/16232 [00:03<02:34, 102.69it/s]"
     ]
    },
    {
     "name": "stderr",
     "output_type": "stream",
     "text": [
      "\r",
      "Iter. Sofia projections:   2%|█▌                                                                | 375/16232 [00:03<02:33, 103.40it/s]"
     ]
    },
    {
     "name": "stderr",
     "output_type": "stream",
     "text": [
      "\r",
      "Iter. Sofia projections:   2%|█▌                                                                | 386/16232 [00:03<02:32, 103.68it/s]"
     ]
    },
    {
     "name": "stderr",
     "output_type": "stream",
     "text": [
      "\r",
      "Iter. Sofia projections:   2%|█▌                                                                | 398/16232 [00:03<02:28, 106.41it/s]"
     ]
    },
    {
     "name": "stderr",
     "output_type": "stream",
     "text": [
      "\r",
      "Iter. Sofia projections:   3%|█▋                                                                | 410/16232 [00:03<02:26, 107.79it/s]"
     ]
    },
    {
     "name": "stderr",
     "output_type": "stream",
     "text": [
      "\r",
      "Iter. Sofia projections:   3%|█▋                                                                | 421/16232 [00:04<02:27, 107.06it/s]"
     ]
    },
    {
     "name": "stderr",
     "output_type": "stream",
     "text": [
      "\r",
      "Iter. Sofia projections:   3%|█▊                                                                | 433/16232 [00:04<02:25, 108.69it/s]"
     ]
    },
    {
     "name": "stderr",
     "output_type": "stream",
     "text": [
      "\r",
      "Iter. Sofia projections:   3%|█▊                                                                | 444/16232 [00:04<02:29, 105.67it/s]"
     ]
    },
    {
     "name": "stderr",
     "output_type": "stream",
     "text": [
      "\r",
      "Iter. Sofia projections:   3%|█▉                                                                 | 455/16232 [00:04<02:38, 99.85it/s]"
     ]
    },
    {
     "name": "stderr",
     "output_type": "stream",
     "text": [
      "\r",
      "Iter. Sofia projections:   3%|█▉                                                                | 466/16232 [00:04<02:34, 101.77it/s]"
     ]
    },
    {
     "name": "stderr",
     "output_type": "stream",
     "text": [
      "\r",
      "Iter. Sofia projections:   3%|█▉                                                                | 477/16232 [00:04<02:31, 103.99it/s]"
     ]
    },
    {
     "name": "stderr",
     "output_type": "stream",
     "text": [
      "\r",
      "Iter. Sofia projections:   3%|█▉                                                                | 488/16232 [00:04<02:30, 104.41it/s]"
     ]
    },
    {
     "name": "stderr",
     "output_type": "stream",
     "text": [
      "\r",
      "Iter. Sofia projections:   3%|██                                                                | 499/16232 [00:04<02:31, 103.75it/s]"
     ]
    },
    {
     "name": "stderr",
     "output_type": "stream",
     "text": [
      "\r",
      "Iter. Sofia projections:   3%|██                                                                | 510/16232 [00:04<02:29, 104.83it/s]"
     ]
    },
    {
     "name": "stderr",
     "output_type": "stream",
     "text": [
      "\r",
      "Iter. Sofia projections:   3%|██                                                                | 521/16232 [00:05<02:29, 105.39it/s]"
     ]
    },
    {
     "name": "stderr",
     "output_type": "stream",
     "text": [
      "\r",
      "Iter. Sofia projections:   3%|██▏                                                               | 532/16232 [00:05<02:31, 103.55it/s]"
     ]
    },
    {
     "name": "stderr",
     "output_type": "stream",
     "text": [
      "\r",
      "Iter. Sofia projections:   3%|██▏                                                               | 543/16232 [00:05<02:30, 104.57it/s]"
     ]
    },
    {
     "name": "stderr",
     "output_type": "stream",
     "text": [
      "\r",
      "Iter. Sofia projections:   3%|██▎                                                               | 554/16232 [00:05<02:29, 104.82it/s]"
     ]
    },
    {
     "name": "stderr",
     "output_type": "stream",
     "text": [
      "\r",
      "Iter. Sofia projections:   3%|██▎                                                               | 565/16232 [00:05<02:28, 105.80it/s]"
     ]
    },
    {
     "name": "stderr",
     "output_type": "stream",
     "text": [
      "\r",
      "Iter. Sofia projections:   4%|██▎                                                               | 576/16232 [00:05<02:32, 102.90it/s]"
     ]
    },
    {
     "name": "stderr",
     "output_type": "stream",
     "text": [
      "\r",
      "Iter. Sofia projections:   4%|██▍                                                                | 587/16232 [00:05<02:52, 90.44it/s]"
     ]
    },
    {
     "name": "stderr",
     "output_type": "stream",
     "text": [
      "\r",
      "Iter. Sofia projections:   4%|██▍                                                                | 598/16232 [00:05<02:43, 95.40it/s]"
     ]
    },
    {
     "name": "stderr",
     "output_type": "stream",
     "text": [
      "\r",
      "Iter. Sofia projections:   4%|██▌                                                                | 609/16232 [00:05<02:40, 97.24it/s]"
     ]
    },
    {
     "name": "stderr",
     "output_type": "stream",
     "text": [
      "\r",
      "Iter. Sofia projections:   4%|██▌                                                               | 620/16232 [00:06<02:35, 100.19it/s]"
     ]
    },
    {
     "name": "stderr",
     "output_type": "stream",
     "text": [
      "\r",
      "Iter. Sofia projections:   4%|██▌                                                               | 631/16232 [00:06<02:33, 101.84it/s]"
     ]
    },
    {
     "name": "stderr",
     "output_type": "stream",
     "text": [
      "\r",
      "Iter. Sofia projections:   4%|██▌                                                               | 642/16232 [00:06<02:30, 103.30it/s]"
     ]
    },
    {
     "name": "stderr",
     "output_type": "stream",
     "text": [
      "\r",
      "Iter. Sofia projections:   4%|██▋                                                               | 653/16232 [00:06<02:30, 103.50it/s]"
     ]
    },
    {
     "name": "stderr",
     "output_type": "stream",
     "text": [
      "\r",
      "Iter. Sofia projections:   4%|██▋                                                               | 664/16232 [00:06<02:32, 102.26it/s]"
     ]
    },
    {
     "name": "stderr",
     "output_type": "stream",
     "text": [
      "\r",
      "Iter. Sofia projections:   4%|██▋                                                               | 675/16232 [00:06<02:30, 103.42it/s]"
     ]
    },
    {
     "name": "stderr",
     "output_type": "stream",
     "text": [
      "\r",
      "Iter. Sofia projections:   4%|██▊                                                               | 686/16232 [00:06<02:30, 103.51it/s]"
     ]
    },
    {
     "name": "stderr",
     "output_type": "stream",
     "text": [
      "\r",
      "Iter. Sofia projections:   4%|██▊                                                               | 697/16232 [00:06<02:32, 101.90it/s]"
     ]
    },
    {
     "name": "stderr",
     "output_type": "stream",
     "text": [
      "\r",
      "Iter. Sofia projections:   4%|██▉                                                               | 708/16232 [00:06<02:31, 102.50it/s]"
     ]
    },
    {
     "name": "stderr",
     "output_type": "stream",
     "text": [
      "\r",
      "Iter. Sofia projections:   4%|██▉                                                               | 719/16232 [00:06<02:32, 101.81it/s]"
     ]
    },
    {
     "name": "stderr",
     "output_type": "stream",
     "text": [
      "\r",
      "Iter. Sofia projections:   5%|██▉                                                               | 731/16232 [00:07<02:27, 105.03it/s]"
     ]
    },
    {
     "name": "stderr",
     "output_type": "stream",
     "text": [
      "\r",
      "Iter. Sofia projections:   5%|███                                                               | 742/16232 [00:07<02:26, 105.40it/s]"
     ]
    },
    {
     "name": "stderr",
     "output_type": "stream",
     "text": [
      "\r",
      "Iter. Sofia projections:   5%|███                                                               | 753/16232 [00:07<02:28, 104.23it/s]"
     ]
    },
    {
     "name": "stderr",
     "output_type": "stream",
     "text": [
      "\r",
      "Iter. Sofia projections:   5%|███                                                               | 765/16232 [00:07<02:25, 106.63it/s]"
     ]
    },
    {
     "name": "stderr",
     "output_type": "stream",
     "text": [
      "\r",
      "Iter. Sofia projections:   5%|███▏                                                              | 776/16232 [00:07<02:24, 106.68it/s]"
     ]
    },
    {
     "name": "stderr",
     "output_type": "stream",
     "text": [
      "\r",
      "Iter. Sofia projections:   5%|███▏                                                              | 787/16232 [00:07<02:23, 107.61it/s]"
     ]
    },
    {
     "name": "stderr",
     "output_type": "stream",
     "text": [
      "\r",
      "Iter. Sofia projections:   5%|███▏                                                              | 798/16232 [00:07<02:25, 106.21it/s]"
     ]
    },
    {
     "name": "stderr",
     "output_type": "stream",
     "text": [
      "\r",
      "Iter. Sofia projections:   5%|███▎                                                              | 809/16232 [00:07<02:28, 103.61it/s]"
     ]
    },
    {
     "name": "stderr",
     "output_type": "stream",
     "text": [
      "\r",
      "Iter. Sofia projections:   5%|███▎                                                              | 820/16232 [00:07<02:29, 102.83it/s]"
     ]
    },
    {
     "name": "stderr",
     "output_type": "stream",
     "text": [
      "\r",
      "Iter. Sofia projections:   5%|███▍                                                              | 831/16232 [00:08<02:29, 102.80it/s]"
     ]
    },
    {
     "name": "stderr",
     "output_type": "stream",
     "text": [
      "\r",
      "Iter. Sofia projections:   5%|███▍                                                              | 843/16232 [00:08<02:24, 106.22it/s]"
     ]
    },
    {
     "name": "stderr",
     "output_type": "stream",
     "text": [
      "\r",
      "Iter. Sofia projections:   5%|███▍                                                              | 854/16232 [00:08<02:24, 106.16it/s]"
     ]
    },
    {
     "name": "stderr",
     "output_type": "stream",
     "text": [
      "\r",
      "Iter. Sofia projections:   5%|███▌                                                              | 865/16232 [00:08<02:23, 107.11it/s]"
     ]
    },
    {
     "name": "stderr",
     "output_type": "stream",
     "text": [
      "\r",
      "Iter. Sofia projections:   5%|███▌                                                              | 877/16232 [00:08<02:19, 110.18it/s]"
     ]
    },
    {
     "name": "stderr",
     "output_type": "stream",
     "text": [
      "\r",
      "Iter. Sofia projections:   5%|███▌                                                              | 889/16232 [00:08<02:17, 111.31it/s]"
     ]
    },
    {
     "name": "stderr",
     "output_type": "stream",
     "text": [
      "\r",
      "Iter. Sofia projections:   6%|███▋                                                              | 901/16232 [00:08<02:19, 109.54it/s]"
     ]
    },
    {
     "name": "stderr",
     "output_type": "stream",
     "text": [
      "\r",
      "Iter. Sofia projections:   6%|███▋                                                              | 912/16232 [00:08<02:21, 108.42it/s]"
     ]
    },
    {
     "name": "stderr",
     "output_type": "stream",
     "text": [
      "\r",
      "Iter. Sofia projections:   6%|███▊                                                              | 923/16232 [00:08<02:20, 108.70it/s]"
     ]
    },
    {
     "name": "stderr",
     "output_type": "stream",
     "text": [
      "\r",
      "Iter. Sofia projections:   6%|███▊                                                              | 934/16232 [00:08<02:22, 107.17it/s]"
     ]
    },
    {
     "name": "stderr",
     "output_type": "stream",
     "text": [
      "\r",
      "Iter. Sofia projections:   6%|███▊                                                              | 945/16232 [00:09<02:28, 103.13it/s]"
     ]
    },
    {
     "name": "stderr",
     "output_type": "stream",
     "text": [
      "\r",
      "Iter. Sofia projections:   6%|███▉                                                              | 956/16232 [00:09<02:31, 100.92it/s]"
     ]
    },
    {
     "name": "stderr",
     "output_type": "stream",
     "text": [
      "\r",
      "Iter. Sofia projections:   6%|███▉                                                              | 967/16232 [00:09<02:28, 102.97it/s]"
     ]
    },
    {
     "name": "stderr",
     "output_type": "stream",
     "text": [
      "\r",
      "Iter. Sofia projections:   6%|███▉                                                              | 978/16232 [00:09<02:28, 103.04it/s]"
     ]
    },
    {
     "name": "stderr",
     "output_type": "stream",
     "text": [
      "\r",
      "Iter. Sofia projections:   6%|████                                                              | 989/16232 [00:09<02:26, 103.98it/s]"
     ]
    },
    {
     "name": "stderr",
     "output_type": "stream",
     "text": [
      "\r",
      "Iter. Sofia projections:   6%|████                                                             | 1000/16232 [00:09<02:26, 104.16it/s]"
     ]
    },
    {
     "name": "stderr",
     "output_type": "stream",
     "text": [
      "\r",
      "Iter. Sofia projections:   6%|████                                                             | 1011/16232 [00:09<02:25, 104.47it/s]"
     ]
    },
    {
     "name": "stderr",
     "output_type": "stream",
     "text": [
      "\r",
      "Iter. Sofia projections:   6%|████                                                             | 1022/16232 [00:09<02:26, 103.97it/s]"
     ]
    },
    {
     "name": "stderr",
     "output_type": "stream",
     "text": [
      "\r",
      "Iter. Sofia projections:   6%|████▏                                                            | 1033/16232 [00:09<02:25, 104.29it/s]"
     ]
    },
    {
     "name": "stderr",
     "output_type": "stream",
     "text": [
      "\r",
      "Iter. Sofia projections:   6%|████▏                                                            | 1044/16232 [00:10<02:25, 104.52it/s]"
     ]
    },
    {
     "name": "stderr",
     "output_type": "stream",
     "text": [
      "\r",
      "Iter. Sofia projections:   6%|████▏                                                            | 1055/16232 [00:10<02:25, 104.35it/s]"
     ]
    },
    {
     "name": "stderr",
     "output_type": "stream",
     "text": [
      "\r",
      "Iter. Sofia projections:   7%|████▎                                                            | 1066/16232 [00:10<02:30, 101.09it/s]"
     ]
    },
    {
     "name": "stderr",
     "output_type": "stream",
     "text": [
      "\r",
      "Iter. Sofia projections:   7%|████▎                                                            | 1077/16232 [00:10<02:28, 101.96it/s]"
     ]
    },
    {
     "name": "stderr",
     "output_type": "stream",
     "text": [
      "\r",
      "Iter. Sofia projections:   7%|████▎                                                            | 1088/16232 [00:10<02:25, 104.03it/s]"
     ]
    },
    {
     "name": "stderr",
     "output_type": "stream",
     "text": [
      "\r",
      "Iter. Sofia projections:   7%|████▍                                                            | 1099/16232 [00:10<02:24, 104.48it/s]"
     ]
    },
    {
     "name": "stderr",
     "output_type": "stream",
     "text": [
      "\r",
      "Iter. Sofia projections:   7%|████▍                                                            | 1110/16232 [00:10<02:23, 105.08it/s]"
     ]
    },
    {
     "name": "stderr",
     "output_type": "stream",
     "text": [
      "\r",
      "Iter. Sofia projections:   7%|████▍                                                            | 1121/16232 [00:10<02:25, 104.13it/s]"
     ]
    },
    {
     "name": "stderr",
     "output_type": "stream",
     "text": [
      "\r",
      "Iter. Sofia projections:   7%|████▌                                                            | 1132/16232 [00:10<02:27, 102.37it/s]"
     ]
    },
    {
     "name": "stderr",
     "output_type": "stream",
     "text": [
      "\r",
      "Iter. Sofia projections:   7%|████▌                                                            | 1143/16232 [00:11<02:27, 102.05it/s]"
     ]
    },
    {
     "name": "stderr",
     "output_type": "stream",
     "text": [
      "\r",
      "Iter. Sofia projections:   7%|████▌                                                            | 1154/16232 [00:11<02:27, 101.88it/s]"
     ]
    },
    {
     "name": "stderr",
     "output_type": "stream",
     "text": [
      "\r",
      "Iter. Sofia projections:   7%|████▋                                                            | 1165/16232 [00:11<02:26, 102.58it/s]"
     ]
    },
    {
     "name": "stderr",
     "output_type": "stream",
     "text": [
      "\r",
      "Iter. Sofia projections:   7%|████▋                                                            | 1176/16232 [00:11<02:25, 103.56it/s]"
     ]
    },
    {
     "name": "stderr",
     "output_type": "stream",
     "text": [
      "\r",
      "Iter. Sofia projections:   7%|████▊                                                            | 1187/16232 [00:11<02:30, 100.02it/s]"
     ]
    },
    {
     "name": "stderr",
     "output_type": "stream",
     "text": [
      "\r",
      "Iter. Sofia projections:   7%|████▊                                                            | 1198/16232 [00:11<02:30, 100.02it/s]"
     ]
    },
    {
     "name": "stderr",
     "output_type": "stream",
     "text": [
      "\r",
      "Iter. Sofia projections:   7%|████▊                                                            | 1209/16232 [00:11<02:28, 101.42it/s]"
     ]
    },
    {
     "name": "stderr",
     "output_type": "stream",
     "text": [
      "\r",
      "Iter. Sofia projections:   8%|████▉                                                            | 1220/16232 [00:11<02:27, 101.66it/s]"
     ]
    },
    {
     "name": "stderr",
     "output_type": "stream",
     "text": [
      "\r",
      "Iter. Sofia projections:   8%|████▉                                                            | 1231/16232 [00:11<02:24, 104.02it/s]"
     ]
    },
    {
     "name": "stderr",
     "output_type": "stream",
     "text": [
      "\r",
      "Iter. Sofia projections:   8%|████▉                                                            | 1242/16232 [00:11<02:23, 104.50it/s]"
     ]
    },
    {
     "name": "stderr",
     "output_type": "stream",
     "text": [
      "\r",
      "Iter. Sofia projections:   8%|█████                                                            | 1253/16232 [00:12<02:21, 105.65it/s]"
     ]
    },
    {
     "name": "stderr",
     "output_type": "stream",
     "text": [
      "\r",
      "Iter. Sofia projections:   8%|█████                                                            | 1264/16232 [00:12<02:20, 106.84it/s]"
     ]
    },
    {
     "name": "stderr",
     "output_type": "stream",
     "text": [
      "\r",
      "Iter. Sofia projections:   8%|█████                                                            | 1275/16232 [00:12<02:23, 104.35it/s]"
     ]
    },
    {
     "name": "stderr",
     "output_type": "stream",
     "text": [
      "\r",
      "Iter. Sofia projections:   8%|█████▏                                                           | 1286/16232 [00:12<02:21, 105.42it/s]"
     ]
    },
    {
     "name": "stderr",
     "output_type": "stream",
     "text": [
      "\r",
      "Iter. Sofia projections:   8%|█████▏                                                           | 1297/16232 [00:12<02:23, 103.92it/s]"
     ]
    },
    {
     "name": "stderr",
     "output_type": "stream",
     "text": [
      "\r",
      "Iter. Sofia projections:   8%|█████▎                                                            | 1308/16232 [00:12<02:30, 99.09it/s]"
     ]
    },
    {
     "name": "stderr",
     "output_type": "stream",
     "text": [
      "\r",
      "Iter. Sofia projections:   8%|█████▎                                                           | 1319/16232 [00:12<02:27, 100.97it/s]"
     ]
    },
    {
     "name": "stderr",
     "output_type": "stream",
     "text": [
      "\r",
      "Iter. Sofia projections:   8%|█████▎                                                           | 1330/16232 [00:12<02:25, 102.38it/s]"
     ]
    },
    {
     "name": "stderr",
     "output_type": "stream",
     "text": [
      "\r",
      "Iter. Sofia projections:   8%|█████▎                                                           | 1341/16232 [00:12<02:24, 103.16it/s]"
     ]
    },
    {
     "name": "stderr",
     "output_type": "stream",
     "text": [
      "\r",
      "Iter. Sofia projections:   8%|█████▍                                                           | 1352/16232 [00:13<02:23, 103.44it/s]"
     ]
    },
    {
     "name": "stderr",
     "output_type": "stream",
     "text": [
      "\r",
      "Iter. Sofia projections:   8%|█████▍                                                           | 1363/16232 [00:13<02:23, 103.48it/s]"
     ]
    },
    {
     "name": "stderr",
     "output_type": "stream",
     "text": [
      "\r",
      "Iter. Sofia projections:   8%|█████▌                                                           | 1374/16232 [00:13<02:23, 103.67it/s]"
     ]
    },
    {
     "name": "stderr",
     "output_type": "stream",
     "text": [
      "\r",
      "Iter. Sofia projections:   9%|█████▌                                                           | 1385/16232 [00:13<02:22, 104.05it/s]"
     ]
    },
    {
     "name": "stderr",
     "output_type": "stream",
     "text": [
      "\r",
      "Iter. Sofia projections:   9%|█████▌                                                           | 1396/16232 [00:13<02:21, 104.51it/s]"
     ]
    },
    {
     "name": "stderr",
     "output_type": "stream",
     "text": [
      "\r",
      "Iter. Sofia projections:   9%|█████▋                                                           | 1407/16232 [00:13<02:22, 103.71it/s]"
     ]
    },
    {
     "name": "stderr",
     "output_type": "stream",
     "text": [
      "\r",
      "Iter. Sofia projections:   9%|█████▋                                                           | 1418/16232 [00:13<02:25, 101.81it/s]"
     ]
    },
    {
     "name": "stderr",
     "output_type": "stream",
     "text": [
      "\r",
      "Iter. Sofia projections:   9%|█████▊                                                            | 1429/16232 [00:13<02:28, 99.72it/s]"
     ]
    },
    {
     "name": "stderr",
     "output_type": "stream",
     "text": [
      "\r",
      "Iter. Sofia projections:   9%|█████▊                                                            | 1439/16232 [00:13<02:29, 99.14it/s]"
     ]
    },
    {
     "name": "stderr",
     "output_type": "stream",
     "text": [
      "\r",
      "Iter. Sofia projections:   9%|█████▊                                                           | 1450/16232 [00:14<02:27, 100.48it/s]"
     ]
    },
    {
     "name": "stderr",
     "output_type": "stream",
     "text": [
      "\r",
      "Iter. Sofia projections:   9%|█████▊                                                           | 1461/16232 [00:14<02:25, 101.76it/s]"
     ]
    },
    {
     "name": "stderr",
     "output_type": "stream",
     "text": [
      "\r",
      "Iter. Sofia projections:   9%|█████▉                                                           | 1472/16232 [00:14<02:25, 101.40it/s]"
     ]
    },
    {
     "name": "stderr",
     "output_type": "stream",
     "text": [
      "\r",
      "Iter. Sofia projections:   9%|█████▉                                                           | 1483/16232 [00:14<02:24, 102.17it/s]"
     ]
    },
    {
     "name": "stderr",
     "output_type": "stream",
     "text": [
      "\r",
      "Iter. Sofia projections:   9%|█████▉                                                           | 1494/16232 [00:14<02:22, 103.09it/s]"
     ]
    },
    {
     "name": "stderr",
     "output_type": "stream",
     "text": [
      "\r",
      "Iter. Sofia projections:   9%|██████                                                           | 1505/16232 [00:14<02:23, 102.77it/s]"
     ]
    },
    {
     "name": "stderr",
     "output_type": "stream",
     "text": [
      "\r",
      "Iter. Sofia projections:   9%|██████                                                           | 1516/16232 [00:14<02:20, 104.41it/s]"
     ]
    },
    {
     "name": "stderr",
     "output_type": "stream",
     "text": [
      "\r",
      "Iter. Sofia projections:   9%|██████                                                           | 1527/16232 [00:14<02:19, 105.60it/s]"
     ]
    },
    {
     "name": "stderr",
     "output_type": "stream",
     "text": [
      "\r",
      "Iter. Sofia projections:   9%|██████▏                                                          | 1538/16232 [00:14<02:19, 105.56it/s]"
     ]
    },
    {
     "name": "stderr",
     "output_type": "stream",
     "text": [
      "\r",
      "Iter. Sofia projections:  10%|██████▏                                                          | 1549/16232 [00:14<02:21, 103.90it/s]"
     ]
    },
    {
     "name": "stderr",
     "output_type": "stream",
     "text": [
      "\r",
      "Iter. Sofia projections:  10%|██████▏                                                          | 1560/16232 [00:15<02:21, 103.70it/s]"
     ]
    },
    {
     "name": "stderr",
     "output_type": "stream",
     "text": [
      "\r",
      "Iter. Sofia projections:  10%|██████▎                                                          | 1571/16232 [00:15<02:23, 102.52it/s]"
     ]
    },
    {
     "name": "stderr",
     "output_type": "stream",
     "text": [
      "\r",
      "Iter. Sofia projections:  10%|██████▎                                                          | 1582/16232 [00:15<02:24, 101.41it/s]"
     ]
    },
    {
     "name": "stderr",
     "output_type": "stream",
     "text": [
      "\r",
      "Iter. Sofia projections:  10%|██████▍                                                          | 1593/16232 [00:15<02:24, 101.51it/s]"
     ]
    },
    {
     "name": "stderr",
     "output_type": "stream",
     "text": [
      "\r",
      "Iter. Sofia projections:  10%|██████▍                                                          | 1604/16232 [00:15<02:24, 101.45it/s]"
     ]
    },
    {
     "name": "stderr",
     "output_type": "stream",
     "text": [
      "\r",
      "Iter. Sofia projections:  10%|██████▍                                                          | 1615/16232 [00:15<02:24, 101.44it/s]"
     ]
    },
    {
     "name": "stderr",
     "output_type": "stream",
     "text": [
      "\r",
      "Iter. Sofia projections:  10%|██████▌                                                          | 1626/16232 [00:15<02:24, 101.14it/s]"
     ]
    },
    {
     "name": "stderr",
     "output_type": "stream",
     "text": [
      "\r",
      "Iter. Sofia projections:  10%|██████▋                                                           | 1637/16232 [00:15<02:26, 99.66it/s]"
     ]
    },
    {
     "name": "stderr",
     "output_type": "stream",
     "text": [
      "\r",
      "Iter. Sofia projections:  10%|██████▌                                                          | 1648/16232 [00:15<02:24, 100.78it/s]"
     ]
    },
    {
     "name": "stderr",
     "output_type": "stream",
     "text": [
      "\r",
      "Iter. Sofia projections:  10%|██████▋                                                           | 1659/16232 [00:16<02:28, 98.27it/s]"
     ]
    },
    {
     "name": "stderr",
     "output_type": "stream",
     "text": [
      "\r",
      "Iter. Sofia projections:  10%|██████▊                                                           | 1670/16232 [00:16<02:28, 98.29it/s]"
     ]
    },
    {
     "name": "stderr",
     "output_type": "stream",
     "text": [
      "\r",
      "Iter. Sofia projections:  10%|██████▊                                                           | 1681/16232 [00:16<02:25, 99.96it/s]"
     ]
    },
    {
     "name": "stderr",
     "output_type": "stream",
     "text": [
      "\r",
      "Iter. Sofia projections:  10%|██████▊                                                          | 1693/16232 [00:16<02:20, 103.24it/s]"
     ]
    },
    {
     "name": "stderr",
     "output_type": "stream",
     "text": [
      "\r",
      "Iter. Sofia projections:  10%|██████▊                                                          | 1704/16232 [00:16<02:20, 103.46it/s]"
     ]
    },
    {
     "name": "stderr",
     "output_type": "stream",
     "text": [
      "\r",
      "Iter. Sofia projections:  11%|██████▊                                                          | 1716/16232 [00:16<02:18, 104.75it/s]"
     ]
    },
    {
     "name": "stderr",
     "output_type": "stream",
     "text": [
      "\r",
      "Iter. Sofia projections:  11%|██████▉                                                          | 1727/16232 [00:16<02:19, 104.10it/s]"
     ]
    },
    {
     "name": "stderr",
     "output_type": "stream",
     "text": [
      "\r",
      "Iter. Sofia projections:  11%|██████▉                                                          | 1738/16232 [00:16<02:20, 103.52it/s]"
     ]
    },
    {
     "name": "stderr",
     "output_type": "stream",
     "text": [
      "\r",
      "Iter. Sofia projections:  11%|███████                                                          | 1749/16232 [00:16<02:19, 104.10it/s]"
     ]
    },
    {
     "name": "stderr",
     "output_type": "stream",
     "text": [
      "\r",
      "Iter. Sofia projections:  11%|███████                                                          | 1760/16232 [00:17<02:18, 104.14it/s]"
     ]
    },
    {
     "name": "stderr",
     "output_type": "stream",
     "text": [
      "\r",
      "Iter. Sofia projections:  11%|███████                                                          | 1771/16232 [00:17<02:18, 104.78it/s]"
     ]
    },
    {
     "name": "stderr",
     "output_type": "stream",
     "text": [
      "\r",
      "Iter. Sofia projections:  11%|███████▏                                                         | 1782/16232 [00:17<02:23, 100.91it/s]"
     ]
    },
    {
     "name": "stderr",
     "output_type": "stream",
     "text": [
      "\r",
      "Iter. Sofia projections:  11%|███████▏                                                         | 1793/16232 [00:17<02:23, 100.28it/s]"
     ]
    },
    {
     "name": "stderr",
     "output_type": "stream",
     "text": [
      "\r",
      "Iter. Sofia projections:  11%|███████▏                                                         | 1804/16232 [00:17<02:23, 100.45it/s]"
     ]
    },
    {
     "name": "stderr",
     "output_type": "stream",
     "text": [
      "\r",
      "Iter. Sofia projections:  11%|███████▎                                                         | 1815/16232 [00:17<02:21, 101.75it/s]"
     ]
    },
    {
     "name": "stderr",
     "output_type": "stream",
     "text": [
      "\r",
      "Iter. Sofia projections:  11%|███████▎                                                         | 1826/16232 [00:17<02:20, 102.76it/s]"
     ]
    },
    {
     "name": "stderr",
     "output_type": "stream",
     "text": [
      "\r",
      "Iter. Sofia projections:  11%|███████▎                                                         | 1838/16232 [00:17<02:16, 105.71it/s]"
     ]
    },
    {
     "name": "stderr",
     "output_type": "stream",
     "text": [
      "\r",
      "Iter. Sofia projections:  11%|███████▍                                                         | 1849/16232 [00:17<02:15, 106.21it/s]"
     ]
    },
    {
     "name": "stderr",
     "output_type": "stream",
     "text": [
      "\r",
      "Iter. Sofia projections:  11%|███████▍                                                         | 1860/16232 [00:17<02:15, 105.82it/s]"
     ]
    },
    {
     "name": "stderr",
     "output_type": "stream",
     "text": [
      "\r",
      "Iter. Sofia projections:  12%|███████▍                                                         | 1871/16232 [00:18<02:14, 106.96it/s]"
     ]
    },
    {
     "name": "stderr",
     "output_type": "stream",
     "text": [
      "\r",
      "Iter. Sofia projections:  12%|███████▌                                                         | 1882/16232 [00:18<02:14, 106.94it/s]"
     ]
    },
    {
     "name": "stderr",
     "output_type": "stream",
     "text": [
      "\r",
      "Iter. Sofia projections:  12%|███████▌                                                         | 1893/16232 [00:18<02:17, 104.17it/s]"
     ]
    },
    {
     "name": "stderr",
     "output_type": "stream",
     "text": [
      "\r",
      "Iter. Sofia projections:  12%|███████▌                                                         | 1904/16232 [00:18<02:17, 104.21it/s]"
     ]
    },
    {
     "name": "stderr",
     "output_type": "stream",
     "text": [
      "\r",
      "Iter. Sofia projections:  12%|███████▋                                                         | 1915/16232 [00:18<02:18, 103.66it/s]"
     ]
    },
    {
     "name": "stderr",
     "output_type": "stream",
     "text": [
      "\r",
      "Iter. Sofia projections:  12%|███████▋                                                         | 1927/16232 [00:18<02:14, 106.52it/s]"
     ]
    },
    {
     "name": "stderr",
     "output_type": "stream",
     "text": [
      "\r",
      "Iter. Sofia projections:  12%|███████▊                                                         | 1939/16232 [00:18<02:13, 107.39it/s]"
     ]
    },
    {
     "name": "stderr",
     "output_type": "stream",
     "text": [
      "\r",
      "Iter. Sofia projections:  12%|███████▊                                                         | 1951/16232 [00:18<02:11, 108.81it/s]"
     ]
    },
    {
     "name": "stderr",
     "output_type": "stream",
     "text": [
      "\r",
      "Iter. Sofia projections:  12%|███████▊                                                         | 1964/16232 [00:18<02:06, 112.84it/s]"
     ]
    },
    {
     "name": "stderr",
     "output_type": "stream",
     "text": [
      "\r",
      "Iter. Sofia projections:  12%|███████▉                                                         | 1976/16232 [00:19<02:08, 111.00it/s]"
     ]
    },
    {
     "name": "stderr",
     "output_type": "stream",
     "text": [
      "\r",
      "Iter. Sofia projections:  12%|███████▉                                                         | 1988/16232 [00:19<02:07, 112.11it/s]"
     ]
    },
    {
     "name": "stderr",
     "output_type": "stream",
     "text": [
      "\r",
      "Iter. Sofia projections:  12%|████████                                                         | 2000/16232 [00:19<02:05, 113.16it/s]"
     ]
    },
    {
     "name": "stderr",
     "output_type": "stream",
     "text": [
      "\r",
      "Iter. Sofia projections:  12%|████████                                                         | 2012/16232 [00:19<02:05, 112.93it/s]"
     ]
    },
    {
     "name": "stderr",
     "output_type": "stream",
     "text": [
      "\r",
      "Iter. Sofia projections:  12%|████████                                                         | 2024/16232 [00:19<02:10, 108.61it/s]"
     ]
    },
    {
     "name": "stderr",
     "output_type": "stream",
     "text": [
      "\r",
      "Iter. Sofia projections:  13%|████████▏                                                        | 2035/16232 [00:19<02:13, 106.28it/s]"
     ]
    },
    {
     "name": "stderr",
     "output_type": "stream",
     "text": [
      "\r",
      "Iter. Sofia projections:  13%|████████▏                                                        | 2046/16232 [00:19<02:16, 104.11it/s]"
     ]
    },
    {
     "name": "stderr",
     "output_type": "stream",
     "text": [
      "\r",
      "Iter. Sofia projections:  13%|████████▏                                                        | 2057/16232 [00:19<02:17, 103.42it/s]"
     ]
    },
    {
     "name": "stderr",
     "output_type": "stream",
     "text": [
      "\r",
      "Iter. Sofia projections:  13%|████████▎                                                        | 2068/16232 [00:19<02:20, 100.91it/s]"
     ]
    },
    {
     "name": "stderr",
     "output_type": "stream",
     "text": [
      "\r",
      "Iter. Sofia projections:  13%|████████▎                                                        | 2079/16232 [00:20<02:18, 101.98it/s]"
     ]
    },
    {
     "name": "stderr",
     "output_type": "stream",
     "text": [
      "\r",
      "Iter. Sofia projections:  13%|████████▎                                                        | 2090/16232 [00:20<02:16, 103.41it/s]"
     ]
    },
    {
     "name": "stderr",
     "output_type": "stream",
     "text": [
      "\r",
      "Iter. Sofia projections:  13%|████████▍                                                        | 2101/16232 [00:20<02:17, 102.66it/s]"
     ]
    },
    {
     "name": "stderr",
     "output_type": "stream",
     "text": [
      "\r",
      "Iter. Sofia projections:  13%|████████▍                                                        | 2112/16232 [00:20<02:15, 104.21it/s]"
     ]
    },
    {
     "name": "stderr",
     "output_type": "stream",
     "text": [
      "\r",
      "Iter. Sofia projections:  13%|████████▌                                                        | 2123/16232 [00:20<02:13, 105.31it/s]"
     ]
    },
    {
     "name": "stderr",
     "output_type": "stream",
     "text": [
      "\r",
      "Iter. Sofia projections:  13%|████████▌                                                        | 2134/16232 [00:20<02:16, 103.60it/s]"
     ]
    },
    {
     "name": "stderr",
     "output_type": "stream",
     "text": [
      "\r",
      "Iter. Sofia projections:  13%|████████▌                                                        | 2145/16232 [00:20<02:14, 104.95it/s]"
     ]
    },
    {
     "name": "stderr",
     "output_type": "stream",
     "text": [
      "\r",
      "Iter. Sofia projections:  13%|████████▋                                                        | 2156/16232 [00:20<02:16, 103.04it/s]"
     ]
    },
    {
     "name": "stderr",
     "output_type": "stream",
     "text": [
      "\r",
      "Iter. Sofia projections:  13%|████████▋                                                        | 2167/16232 [00:20<02:14, 104.23it/s]"
     ]
    },
    {
     "name": "stderr",
     "output_type": "stream",
     "text": [
      "\r",
      "Iter. Sofia projections:  13%|████████▋                                                        | 2178/16232 [00:20<02:15, 103.35it/s]"
     ]
    },
    {
     "name": "stderr",
     "output_type": "stream",
     "text": [
      "\r",
      "Iter. Sofia projections:  13%|████████▊                                                        | 2189/16232 [00:21<02:14, 104.44it/s]"
     ]
    },
    {
     "name": "stderr",
     "output_type": "stream",
     "text": [
      "\r",
      "Iter. Sofia projections:  14%|████████▊                                                        | 2200/16232 [00:21<02:13, 105.01it/s]"
     ]
    },
    {
     "name": "stderr",
     "output_type": "stream",
     "text": [
      "\r",
      "Iter. Sofia projections:  14%|████████▊                                                        | 2211/16232 [00:21<02:15, 103.84it/s]"
     ]
    },
    {
     "name": "stderr",
     "output_type": "stream",
     "text": [
      "\r",
      "Iter. Sofia projections:  14%|████████▉                                                        | 2222/16232 [00:21<02:15, 103.48it/s]"
     ]
    },
    {
     "name": "stderr",
     "output_type": "stream",
     "text": [
      "\r",
      "Iter. Sofia projections:  14%|████████▉                                                        | 2233/16232 [00:21<02:13, 104.66it/s]"
     ]
    },
    {
     "name": "stderr",
     "output_type": "stream",
     "text": [
      "\r",
      "Iter. Sofia projections:  14%|████████▉                                                        | 2244/16232 [00:21<02:14, 104.04it/s]"
     ]
    },
    {
     "name": "stderr",
     "output_type": "stream",
     "text": [
      "\r",
      "Iter. Sofia projections:  14%|█████████                                                        | 2255/16232 [00:21<02:14, 104.27it/s]"
     ]
    },
    {
     "name": "stderr",
     "output_type": "stream",
     "text": [
      "\r",
      "Iter. Sofia projections:  14%|█████████                                                        | 2266/16232 [00:21<02:14, 103.65it/s]"
     ]
    },
    {
     "name": "stderr",
     "output_type": "stream",
     "text": [
      "\r",
      "Iter. Sofia projections:  14%|█████████                                                        | 2277/16232 [00:21<02:18, 100.76it/s]"
     ]
    },
    {
     "name": "stderr",
     "output_type": "stream",
     "text": [
      "\r",
      "Iter. Sofia projections:  14%|█████████▎                                                        | 2288/16232 [00:22<02:19, 99.86it/s]"
     ]
    },
    {
     "name": "stderr",
     "output_type": "stream",
     "text": [
      "\r",
      "Iter. Sofia projections:  14%|█████████▏                                                       | 2299/16232 [00:22<02:17, 101.26it/s]"
     ]
    },
    {
     "name": "stderr",
     "output_type": "stream",
     "text": [
      "\r",
      "Iter. Sofia projections:  14%|█████████▎                                                       | 2310/16232 [00:22<02:15, 102.92it/s]"
     ]
    },
    {
     "name": "stderr",
     "output_type": "stream",
     "text": [
      "\r",
      "Iter. Sofia projections:  14%|█████████▎                                                       | 2321/16232 [00:22<02:13, 104.55it/s]"
     ]
    },
    {
     "name": "stderr",
     "output_type": "stream",
     "text": [
      "\r",
      "Iter. Sofia projections:  14%|█████████▎                                                       | 2332/16232 [00:22<02:13, 104.05it/s]"
     ]
    },
    {
     "name": "stderr",
     "output_type": "stream",
     "text": [
      "\r",
      "Iter. Sofia projections:  14%|█████████▍                                                       | 2343/16232 [00:22<02:12, 104.91it/s]"
     ]
    },
    {
     "name": "stderr",
     "output_type": "stream",
     "text": [
      "\r",
      "Iter. Sofia projections:  15%|█████████▍                                                       | 2354/16232 [00:22<02:11, 105.20it/s]"
     ]
    },
    {
     "name": "stderr",
     "output_type": "stream",
     "text": [
      "\r",
      "Iter. Sofia projections:  15%|█████████▍                                                       | 2365/16232 [00:22<02:13, 103.75it/s]"
     ]
    },
    {
     "name": "stderr",
     "output_type": "stream",
     "text": [
      "\r",
      "Iter. Sofia projections:  15%|█████████▌                                                       | 2376/16232 [00:22<02:12, 104.96it/s]"
     ]
    },
    {
     "name": "stderr",
     "output_type": "stream",
     "text": [
      "\r",
      "Iter. Sofia projections:  15%|█████████▌                                                       | 2387/16232 [00:23<02:12, 104.44it/s]"
     ]
    },
    {
     "name": "stderr",
     "output_type": "stream",
     "text": [
      "\r",
      "Iter. Sofia projections:  15%|█████████▌                                                       | 2398/16232 [00:23<02:15, 101.93it/s]"
     ]
    },
    {
     "name": "stderr",
     "output_type": "stream",
     "text": [
      "\r",
      "Iter. Sofia projections:  15%|█████████▋                                                       | 2409/16232 [00:23<02:15, 101.93it/s]"
     ]
    },
    {
     "name": "stderr",
     "output_type": "stream",
     "text": [
      "\r",
      "Iter. Sofia projections:  15%|█████████▋                                                       | 2420/16232 [00:23<02:14, 102.75it/s]"
     ]
    },
    {
     "name": "stderr",
     "output_type": "stream",
     "text": [
      "\r",
      "Iter. Sofia projections:  15%|█████████▋                                                       | 2431/16232 [00:23<02:12, 104.07it/s]"
     ]
    },
    {
     "name": "stderr",
     "output_type": "stream",
     "text": [
      "\r",
      "Iter. Sofia projections:  15%|█████████▊                                                       | 2442/16232 [00:23<02:11, 105.12it/s]"
     ]
    },
    {
     "name": "stderr",
     "output_type": "stream",
     "text": [
      "\r",
      "Iter. Sofia projections:  15%|█████████▊                                                       | 2453/16232 [00:23<02:12, 104.14it/s]"
     ]
    },
    {
     "name": "stderr",
     "output_type": "stream",
     "text": [
      "\r",
      "Iter. Sofia projections:  15%|█████████▊                                                       | 2464/16232 [00:23<02:10, 105.30it/s]"
     ]
    },
    {
     "name": "stderr",
     "output_type": "stream",
     "text": [
      "\r",
      "Iter. Sofia projections:  15%|█████████▉                                                       | 2475/16232 [00:23<02:12, 104.19it/s]"
     ]
    },
    {
     "name": "stderr",
     "output_type": "stream",
     "text": [
      "\r",
      "Iter. Sofia projections:  15%|█████████▉                                                       | 2486/16232 [00:23<02:11, 104.22it/s]"
     ]
    },
    {
     "name": "stderr",
     "output_type": "stream",
     "text": [
      "\r",
      "Iter. Sofia projections:  15%|█████████▉                                                       | 2497/16232 [00:24<02:14, 102.29it/s]"
     ]
    },
    {
     "name": "stderr",
     "output_type": "stream",
     "text": [
      "\r",
      "Iter. Sofia projections:  15%|██████████                                                       | 2508/16232 [00:24<02:15, 100.93it/s]"
     ]
    },
    {
     "name": "stderr",
     "output_type": "stream",
     "text": [
      "\r",
      "Iter. Sofia projections:  16%|██████████                                                       | 2519/16232 [00:24<02:16, 100.32it/s]"
     ]
    },
    {
     "name": "stderr",
     "output_type": "stream",
     "text": [
      "\r",
      "Iter. Sofia projections:  16%|██████████▏                                                      | 2530/16232 [00:24<02:15, 100.77it/s]"
     ]
    },
    {
     "name": "stderr",
     "output_type": "stream",
     "text": [
      "\r",
      "Iter. Sofia projections:  16%|██████████▏                                                      | 2542/16232 [00:24<02:11, 104.30it/s]"
     ]
    },
    {
     "name": "stderr",
     "output_type": "stream",
     "text": [
      "\r",
      "Iter. Sofia projections:  16%|██████████▏                                                      | 2553/16232 [00:24<02:10, 104.67it/s]"
     ]
    },
    {
     "name": "stderr",
     "output_type": "stream",
     "text": [
      "\r",
      "Iter. Sofia projections:  16%|██████████▎                                                      | 2564/16232 [00:24<02:09, 105.33it/s]"
     ]
    },
    {
     "name": "stderr",
     "output_type": "stream",
     "text": [
      "\r",
      "Iter. Sofia projections:  16%|██████████▎                                                      | 2575/16232 [00:24<02:08, 106.30it/s]"
     ]
    },
    {
     "name": "stderr",
     "output_type": "stream",
     "text": [
      "\r",
      "Iter. Sofia projections:  16%|██████████▎                                                      | 2586/16232 [00:24<02:07, 106.88it/s]"
     ]
    },
    {
     "name": "stderr",
     "output_type": "stream",
     "text": [
      "\r",
      "Iter. Sofia projections:  16%|██████████▍                                                      | 2598/16232 [00:25<02:05, 108.72it/s]"
     ]
    },
    {
     "name": "stderr",
     "output_type": "stream",
     "text": [
      "\r",
      "Iter. Sofia projections:  16%|██████████▍                                                      | 2610/16232 [00:25<02:02, 111.46it/s]"
     ]
    },
    {
     "name": "stderr",
     "output_type": "stream",
     "text": [
      "\r",
      "Iter. Sofia projections:  16%|██████████▍                                                      | 2622/16232 [00:25<02:05, 108.74it/s]"
     ]
    },
    {
     "name": "stderr",
     "output_type": "stream",
     "text": [
      "\r",
      "Iter. Sofia projections:  16%|██████████▌                                                      | 2633/16232 [00:25<02:07, 106.96it/s]"
     ]
    },
    {
     "name": "stderr",
     "output_type": "stream",
     "text": [
      "\r",
      "Iter. Sofia projections:  16%|██████████▌                                                      | 2644/16232 [00:25<02:11, 103.29it/s]"
     ]
    },
    {
     "name": "stderr",
     "output_type": "stream",
     "text": [
      "\r",
      "Iter. Sofia projections:  16%|██████████▋                                                      | 2655/16232 [00:25<02:10, 103.81it/s]"
     ]
    },
    {
     "name": "stderr",
     "output_type": "stream",
     "text": [
      "\r",
      "Iter. Sofia projections:  16%|██████████▋                                                      | 2666/16232 [00:25<02:12, 102.59it/s]"
     ]
    },
    {
     "name": "stderr",
     "output_type": "stream",
     "text": [
      "\r",
      "Iter. Sofia projections:  16%|██████████▋                                                      | 2677/16232 [00:25<02:10, 103.65it/s]"
     ]
    },
    {
     "name": "stderr",
     "output_type": "stream",
     "text": [
      "\r",
      "Iter. Sofia projections:  17%|██████████▊                                                      | 2688/16232 [00:25<02:08, 105.37it/s]"
     ]
    },
    {
     "name": "stderr",
     "output_type": "stream",
     "text": [
      "\r",
      "Iter. Sofia projections:  17%|██████████▊                                                      | 2700/16232 [00:25<02:05, 108.20it/s]"
     ]
    },
    {
     "name": "stderr",
     "output_type": "stream",
     "text": [
      "\r",
      "Iter. Sofia projections:  17%|██████████▊                                                      | 2712/16232 [00:26<02:02, 109.95it/s]"
     ]
    },
    {
     "name": "stderr",
     "output_type": "stream",
     "text": [
      "\r",
      "Iter. Sofia projections:  17%|██████████▉                                                      | 2724/16232 [00:26<02:07, 106.20it/s]"
     ]
    },
    {
     "name": "stderr",
     "output_type": "stream",
     "text": [
      "\r",
      "Iter. Sofia projections:  17%|██████████▉                                                      | 2736/16232 [00:26<02:05, 107.90it/s]"
     ]
    },
    {
     "name": "stderr",
     "output_type": "stream",
     "text": [
      "\r",
      "Iter. Sofia projections:  17%|███████████                                                      | 2747/16232 [00:26<02:07, 106.17it/s]"
     ]
    },
    {
     "name": "stderr",
     "output_type": "stream",
     "text": [
      "\r",
      "Iter. Sofia projections:  17%|███████████                                                      | 2758/16232 [00:26<02:10, 102.89it/s]"
     ]
    },
    {
     "name": "stderr",
     "output_type": "stream",
     "text": [
      "\r",
      "Iter. Sofia projections:  17%|███████████                                                      | 2769/16232 [00:26<02:12, 101.69it/s]"
     ]
    },
    {
     "name": "stderr",
     "output_type": "stream",
     "text": [
      "\r",
      "Iter. Sofia projections:  17%|███████████▏                                                     | 2780/16232 [00:26<02:09, 103.66it/s]"
     ]
    },
    {
     "name": "stderr",
     "output_type": "stream",
     "text": [
      "\r",
      "Iter. Sofia projections:  17%|███████████▏                                                     | 2791/16232 [00:26<02:08, 104.20it/s]"
     ]
    },
    {
     "name": "stderr",
     "output_type": "stream",
     "text": [
      "\r",
      "Iter. Sofia projections:  17%|███████████▏                                                     | 2803/16232 [00:26<02:04, 107.68it/s]"
     ]
    },
    {
     "name": "stderr",
     "output_type": "stream",
     "text": [
      "\r",
      "Iter. Sofia projections:  17%|███████████▎                                                     | 2815/16232 [00:27<02:01, 110.25it/s]"
     ]
    },
    {
     "name": "stderr",
     "output_type": "stream",
     "text": [
      "\r",
      "Iter. Sofia projections:  17%|███████████▎                                                     | 2827/16232 [00:27<02:02, 109.79it/s]"
     ]
    },
    {
     "name": "stderr",
     "output_type": "stream",
     "text": [
      "\r",
      "Iter. Sofia projections:  17%|███████████▎                                                     | 2839/16232 [00:27<02:01, 110.61it/s]"
     ]
    },
    {
     "name": "stderr",
     "output_type": "stream",
     "text": [
      "\r",
      "Iter. Sofia projections:  18%|███████████▍                                                     | 2851/16232 [00:27<02:00, 110.96it/s]"
     ]
    },
    {
     "name": "stderr",
     "output_type": "stream",
     "text": [
      "\r",
      "Iter. Sofia projections:  18%|███████████▍                                                     | 2863/16232 [00:27<02:00, 111.22it/s]"
     ]
    },
    {
     "name": "stderr",
     "output_type": "stream",
     "text": [
      "\r",
      "Iter. Sofia projections:  18%|███████████▌                                                     | 2875/16232 [00:27<02:02, 109.19it/s]"
     ]
    },
    {
     "name": "stderr",
     "output_type": "stream",
     "text": [
      "\r",
      "Iter. Sofia projections:  18%|███████████▌                                                     | 2886/16232 [00:27<02:06, 105.50it/s]"
     ]
    },
    {
     "name": "stderr",
     "output_type": "stream",
     "text": [
      "\r",
      "Iter. Sofia projections:  18%|███████████▌                                                     | 2897/16232 [00:27<02:09, 102.62it/s]"
     ]
    },
    {
     "name": "stderr",
     "output_type": "stream",
     "text": [
      "\r",
      "Iter. Sofia projections:  18%|███████████▋                                                     | 2908/16232 [00:27<02:08, 103.65it/s]"
     ]
    },
    {
     "name": "stderr",
     "output_type": "stream",
     "text": [
      "\r",
      "Iter. Sofia projections:  18%|███████████▋                                                     | 2919/16232 [00:28<02:09, 102.68it/s]"
     ]
    },
    {
     "name": "stderr",
     "output_type": "stream",
     "text": [
      "\r",
      "Iter. Sofia projections:  18%|███████████▋                                                     | 2931/16232 [00:28<02:04, 106.44it/s]"
     ]
    },
    {
     "name": "stderr",
     "output_type": "stream",
     "text": [
      "\r",
      "Iter. Sofia projections:  18%|███████████▊                                                     | 2942/16232 [00:28<02:04, 106.55it/s]"
     ]
    },
    {
     "name": "stderr",
     "output_type": "stream",
     "text": [
      "\r",
      "Iter. Sofia projections:  18%|███████████▊                                                     | 2954/16232 [00:28<02:00, 109.92it/s]"
     ]
    },
    {
     "name": "stderr",
     "output_type": "stream",
     "text": [
      "\r",
      "Iter. Sofia projections:  18%|███████████▉                                                     | 2966/16232 [00:28<01:58, 111.94it/s]"
     ]
    },
    {
     "name": "stderr",
     "output_type": "stream",
     "text": [
      "\r",
      "Iter. Sofia projections:  18%|███████████▉                                                     | 2978/16232 [00:28<01:56, 113.63it/s]"
     ]
    },
    {
     "name": "stderr",
     "output_type": "stream",
     "text": [
      "\r",
      "Iter. Sofia projections:  18%|███████████▉                                                     | 2990/16232 [00:28<01:55, 115.04it/s]"
     ]
    },
    {
     "name": "stderr",
     "output_type": "stream",
     "text": [
      "\r",
      "Iter. Sofia projections:  18%|████████████                                                     | 3002/16232 [00:28<01:54, 115.40it/s]"
     ]
    },
    {
     "name": "stderr",
     "output_type": "stream",
     "text": [
      "\r",
      "Iter. Sofia projections:  19%|████████████                                                     | 3014/16232 [00:28<02:00, 109.95it/s]"
     ]
    },
    {
     "name": "stderr",
     "output_type": "stream",
     "text": [
      "\r",
      "Iter. Sofia projections:  19%|████████████                                                     | 3026/16232 [00:29<02:04, 106.18it/s]"
     ]
    },
    {
     "name": "stderr",
     "output_type": "stream",
     "text": [
      "\r",
      "Iter. Sofia projections:  19%|████████████▏                                                    | 3037/16232 [00:29<02:05, 104.79it/s]"
     ]
    },
    {
     "name": "stderr",
     "output_type": "stream",
     "text": [
      "\r",
      "Iter. Sofia projections:  19%|████████████▏                                                    | 3048/16232 [00:29<02:05, 105.17it/s]"
     ]
    },
    {
     "name": "stderr",
     "output_type": "stream",
     "text": [
      "\r",
      "Iter. Sofia projections:  19%|████████████▏                                                    | 3059/16232 [00:29<02:04, 105.96it/s]"
     ]
    },
    {
     "name": "stderr",
     "output_type": "stream",
     "text": [
      "\r",
      "Iter. Sofia projections:  19%|████████████▎                                                    | 3070/16232 [00:29<02:03, 106.53it/s]"
     ]
    },
    {
     "name": "stderr",
     "output_type": "stream",
     "text": [
      "\r",
      "Iter. Sofia projections:  19%|████████████▎                                                    | 3081/16232 [00:29<02:03, 106.83it/s]"
     ]
    },
    {
     "name": "stderr",
     "output_type": "stream",
     "text": [
      "\r",
      "Iter. Sofia projections:  19%|████████████▍                                                    | 3092/16232 [00:29<02:05, 104.84it/s]"
     ]
    },
    {
     "name": "stderr",
     "output_type": "stream",
     "text": [
      "\r",
      "Iter. Sofia projections:  19%|████████████▍                                                    | 3103/16232 [00:29<02:06, 103.84it/s]"
     ]
    },
    {
     "name": "stderr",
     "output_type": "stream",
     "text": [
      "\r",
      "Iter. Sofia projections:  19%|████████████▍                                                    | 3114/16232 [00:29<02:05, 104.19it/s]"
     ]
    },
    {
     "name": "stderr",
     "output_type": "stream",
     "text": [
      "\r",
      "Iter. Sofia projections:  19%|████████████▌                                                    | 3125/16232 [00:29<02:05, 104.14it/s]"
     ]
    },
    {
     "name": "stderr",
     "output_type": "stream",
     "text": [
      "\r",
      "Iter. Sofia projections:  19%|████████████▌                                                    | 3136/16232 [00:30<02:06, 103.66it/s]"
     ]
    },
    {
     "name": "stderr",
     "output_type": "stream",
     "text": [
      "\r",
      "Iter. Sofia projections:  19%|████████████▌                                                    | 3147/16232 [00:30<02:09, 101.02it/s]"
     ]
    },
    {
     "name": "stderr",
     "output_type": "stream",
     "text": [
      "\r",
      "Iter. Sofia projections:  19%|████████████▊                                                     | 3158/16232 [00:30<02:11, 99.34it/s]"
     ]
    },
    {
     "name": "stderr",
     "output_type": "stream",
     "text": [
      "\r",
      "Iter. Sofia projections:  20%|████████████▋                                                    | 3169/16232 [00:30<02:08, 101.90it/s]"
     ]
    },
    {
     "name": "stderr",
     "output_type": "stream",
     "text": [
      "\r",
      "Iter. Sofia projections:  20%|████████████▋                                                    | 3180/16232 [00:30<02:07, 102.06it/s]"
     ]
    },
    {
     "name": "stderr",
     "output_type": "stream",
     "text": [
      "\r",
      "Iter. Sofia projections:  20%|████████████▊                                                    | 3191/16232 [00:30<02:06, 103.02it/s]"
     ]
    },
    {
     "name": "stderr",
     "output_type": "stream",
     "text": [
      "\r",
      "Iter. Sofia projections:  20%|████████████▊                                                    | 3202/16232 [00:30<02:06, 103.11it/s]"
     ]
    },
    {
     "name": "stderr",
     "output_type": "stream",
     "text": [
      "\r",
      "Iter. Sofia projections:  20%|████████████▊                                                    | 3213/16232 [00:30<02:06, 102.69it/s]"
     ]
    },
    {
     "name": "stderr",
     "output_type": "stream",
     "text": [
      "\r",
      "Iter. Sofia projections:  20%|████████████▉                                                    | 3224/16232 [00:30<02:06, 103.21it/s]"
     ]
    },
    {
     "name": "stderr",
     "output_type": "stream",
     "text": [
      "\r",
      "Iter. Sofia projections:  20%|████████████▉                                                    | 3235/16232 [00:31<02:07, 101.95it/s]"
     ]
    },
    {
     "name": "stderr",
     "output_type": "stream",
     "text": [
      "\r",
      "Iter. Sofia projections:  20%|████████████▉                                                    | 3246/16232 [00:31<02:05, 103.15it/s]"
     ]
    },
    {
     "name": "stderr",
     "output_type": "stream",
     "text": [
      "\r",
      "Iter. Sofia projections:  20%|█████████████                                                    | 3257/16232 [00:31<02:05, 103.00it/s]"
     ]
    },
    {
     "name": "stderr",
     "output_type": "stream",
     "text": [
      "\r",
      "Iter. Sofia projections:  20%|█████████████                                                    | 3268/16232 [00:31<02:07, 101.29it/s]"
     ]
    },
    {
     "name": "stderr",
     "output_type": "stream",
     "text": [
      "\r",
      "Iter. Sofia projections:  20%|█████████████▏                                                   | 3279/16232 [00:31<02:07, 101.23it/s]"
     ]
    },
    {
     "name": "stderr",
     "output_type": "stream",
     "text": [
      "\r",
      "Iter. Sofia projections:  20%|█████████████▏                                                   | 3290/16232 [00:31<02:07, 101.78it/s]"
     ]
    },
    {
     "name": "stderr",
     "output_type": "stream",
     "text": [
      "\r",
      "Iter. Sofia projections:  20%|█████████████▏                                                   | 3301/16232 [00:31<02:05, 102.80it/s]"
     ]
    },
    {
     "name": "stderr",
     "output_type": "stream",
     "text": [
      "\r",
      "Iter. Sofia projections:  20%|█████████████▎                                                   | 3312/16232 [00:31<02:05, 102.88it/s]"
     ]
    },
    {
     "name": "stderr",
     "output_type": "stream",
     "text": [
      "\r",
      "Iter. Sofia projections:  20%|█████████████▎                                                   | 3323/16232 [00:31<02:07, 101.53it/s]"
     ]
    },
    {
     "name": "stderr",
     "output_type": "stream",
     "text": [
      "\r",
      "Iter. Sofia projections:  21%|█████████████▎                                                   | 3334/16232 [00:32<02:07, 100.91it/s]"
     ]
    },
    {
     "name": "stderr",
     "output_type": "stream",
     "text": [
      "\r",
      "Iter. Sofia projections:  21%|█████████████▍                                                   | 3345/16232 [00:32<02:05, 102.68it/s]"
     ]
    },
    {
     "name": "stderr",
     "output_type": "stream",
     "text": [
      "\r",
      "Iter. Sofia projections:  21%|█████████████▍                                                   | 3356/16232 [00:32<02:07, 101.00it/s]"
     ]
    },
    {
     "name": "stderr",
     "output_type": "stream",
     "text": [
      "\r",
      "Iter. Sofia projections:  21%|█████████████▍                                                   | 3367/16232 [00:32<02:05, 102.39it/s]"
     ]
    },
    {
     "name": "stderr",
     "output_type": "stream",
     "text": [
      "\r",
      "Iter. Sofia projections:  21%|█████████████▌                                                   | 3378/16232 [00:32<02:06, 101.47it/s]"
     ]
    },
    {
     "name": "stderr",
     "output_type": "stream",
     "text": [
      "\r",
      "Iter. Sofia projections:  21%|█████████████▊                                                    | 3389/16232 [00:32<02:09, 99.27it/s]"
     ]
    },
    {
     "name": "stderr",
     "output_type": "stream",
     "text": [
      "\r",
      "Iter. Sofia projections:  21%|█████████████▌                                                   | 3400/16232 [00:32<02:07, 100.33it/s]"
     ]
    },
    {
     "name": "stderr",
     "output_type": "stream",
     "text": [
      "\r",
      "Iter. Sofia projections:  21%|█████████████▋                                                   | 3411/16232 [00:32<02:07, 100.25it/s]"
     ]
    },
    {
     "name": "stderr",
     "output_type": "stream",
     "text": [
      "\r",
      "Iter. Sofia projections:  21%|█████████████▋                                                   | 3422/16232 [00:32<02:07, 100.72it/s]"
     ]
    },
    {
     "name": "stderr",
     "output_type": "stream",
     "text": [
      "\r",
      "Iter. Sofia projections:  21%|█████████████▋                                                   | 3433/16232 [00:33<02:05, 101.70it/s]"
     ]
    },
    {
     "name": "stderr",
     "output_type": "stream",
     "text": [
      "\r",
      "Iter. Sofia projections:  21%|█████████████▊                                                   | 3444/16232 [00:33<02:06, 101.06it/s]"
     ]
    },
    {
     "name": "stderr",
     "output_type": "stream",
     "text": [
      "\r",
      "Iter. Sofia projections:  21%|█████████████▊                                                   | 3455/16232 [00:33<02:06, 101.13it/s]"
     ]
    },
    {
     "name": "stderr",
     "output_type": "stream",
     "text": [
      "\r",
      "Iter. Sofia projections:  21%|█████████████▉                                                   | 3466/16232 [00:33<02:03, 103.01it/s]"
     ]
    },
    {
     "name": "stderr",
     "output_type": "stream",
     "text": [
      "\r",
      "Iter. Sofia projections:  21%|█████████████▉                                                   | 3477/16232 [00:33<02:02, 103.94it/s]"
     ]
    },
    {
     "name": "stderr",
     "output_type": "stream",
     "text": [
      "\r",
      "Iter. Sofia projections:  21%|█████████████▉                                                   | 3488/16232 [00:33<02:04, 102.56it/s]"
     ]
    },
    {
     "name": "stderr",
     "output_type": "stream",
     "text": [
      "\r",
      "Iter. Sofia projections:  22%|██████████████▏                                                   | 3499/16232 [00:33<02:07, 99.84it/s]"
     ]
    },
    {
     "name": "stderr",
     "output_type": "stream",
     "text": [
      "\r",
      "Iter. Sofia projections:  22%|██████████████                                                   | 3510/16232 [00:33<02:05, 101.06it/s]"
     ]
    },
    {
     "name": "stderr",
     "output_type": "stream",
     "text": [
      "\r",
      "Iter. Sofia projections:  22%|██████████████                                                   | 3521/16232 [00:33<02:05, 101.07it/s]"
     ]
    },
    {
     "name": "stderr",
     "output_type": "stream",
     "text": [
      "\r",
      "Iter. Sofia projections:  22%|██████████████▏                                                  | 3532/16232 [00:33<02:03, 103.15it/s]"
     ]
    },
    {
     "name": "stderr",
     "output_type": "stream",
     "text": [
      "\r",
      "Iter. Sofia projections:  22%|██████████████▏                                                  | 3543/16232 [00:34<02:02, 103.54it/s]"
     ]
    },
    {
     "name": "stderr",
     "output_type": "stream",
     "text": [
      "\r",
      "Iter. Sofia projections:  22%|██████████████▏                                                  | 3554/16232 [00:34<02:04, 102.00it/s]"
     ]
    },
    {
     "name": "stderr",
     "output_type": "stream",
     "text": [
      "\r",
      "Iter. Sofia projections:  22%|██████████████▎                                                  | 3565/16232 [00:34<02:03, 102.81it/s]"
     ]
    },
    {
     "name": "stderr",
     "output_type": "stream",
     "text": [
      "\r",
      "Iter. Sofia projections:  22%|██████████████▎                                                  | 3577/16232 [00:34<01:59, 105.96it/s]"
     ]
    },
    {
     "name": "stderr",
     "output_type": "stream",
     "text": [
      "\r",
      "Iter. Sofia projections:  22%|██████████████▍                                                  | 3590/16232 [00:34<01:54, 110.53it/s]"
     ]
    },
    {
     "name": "stderr",
     "output_type": "stream",
     "text": [
      "\r",
      "Iter. Sofia projections:  22%|██████████████▍                                                  | 3602/16232 [00:34<01:54, 110.19it/s]"
     ]
    },
    {
     "name": "stderr",
     "output_type": "stream",
     "text": [
      "\r",
      "Iter. Sofia projections:  22%|██████████████▍                                                  | 3614/16232 [00:34<01:55, 109.21it/s]"
     ]
    },
    {
     "name": "stderr",
     "output_type": "stream",
     "text": [
      "\r",
      "Iter. Sofia projections:  22%|██████████████▌                                                  | 3625/16232 [00:34<02:01, 103.49it/s]"
     ]
    },
    {
     "name": "stderr",
     "output_type": "stream",
     "text": [
      "\r",
      "Iter. Sofia projections:  22%|██████████████▌                                                  | 3636/16232 [00:34<02:02, 102.84it/s]"
     ]
    },
    {
     "name": "stderr",
     "output_type": "stream",
     "text": [
      "\r",
      "Iter. Sofia projections:  22%|██████████████▌                                                  | 3647/16232 [00:35<02:00, 104.39it/s]"
     ]
    },
    {
     "name": "stderr",
     "output_type": "stream",
     "text": [
      "\r",
      "Iter. Sofia projections:  23%|██████████████▋                                                  | 3658/16232 [00:35<02:01, 103.09it/s]"
     ]
    },
    {
     "name": "stderr",
     "output_type": "stream",
     "text": [
      "\r",
      "Iter. Sofia projections:  23%|██████████████▋                                                  | 3669/16232 [00:35<02:02, 102.17it/s]"
     ]
    },
    {
     "name": "stderr",
     "output_type": "stream",
     "text": [
      "\r",
      "Iter. Sofia projections:  23%|██████████████▋                                                  | 3680/16232 [00:35<02:00, 103.98it/s]"
     ]
    },
    {
     "name": "stderr",
     "output_type": "stream",
     "text": [
      "\r",
      "Iter. Sofia projections:  23%|██████████████▊                                                  | 3691/16232 [00:35<02:01, 103.64it/s]"
     ]
    },
    {
     "name": "stderr",
     "output_type": "stream",
     "text": [
      "\r",
      "Iter. Sofia projections:  23%|██████████████▊                                                  | 3702/16232 [00:35<02:01, 102.85it/s]"
     ]
    },
    {
     "name": "stderr",
     "output_type": "stream",
     "text": [
      "\r",
      "Iter. Sofia projections:  23%|██████████████▊                                                  | 3713/16232 [00:35<02:01, 102.78it/s]"
     ]
    },
    {
     "name": "stderr",
     "output_type": "stream",
     "text": [
      "\r",
      "Iter. Sofia projections:  23%|██████████████▉                                                  | 3725/16232 [00:35<01:58, 105.10it/s]"
     ]
    },
    {
     "name": "stderr",
     "output_type": "stream",
     "text": [
      "\r",
      "Iter. Sofia projections:  23%|██████████████▉                                                  | 3736/16232 [00:35<02:00, 103.32it/s]"
     ]
    },
    {
     "name": "stderr",
     "output_type": "stream",
     "text": [
      "\r",
      "Iter. Sofia projections:  23%|███████████████                                                  | 3747/16232 [00:36<02:04, 100.35it/s]"
     ]
    },
    {
     "name": "stderr",
     "output_type": "stream",
     "text": [
      "\r",
      "Iter. Sofia projections:  23%|███████████████                                                  | 3758/16232 [00:36<02:02, 101.87it/s]"
     ]
    },
    {
     "name": "stderr",
     "output_type": "stream",
     "text": [
      "\r",
      "Iter. Sofia projections:  23%|███████████████                                                  | 3769/16232 [00:36<02:03, 100.61it/s]"
     ]
    },
    {
     "name": "stderr",
     "output_type": "stream",
     "text": [
      "\r",
      "Iter. Sofia projections:  23%|███████████████▏                                                 | 3780/16232 [00:36<02:02, 101.42it/s]"
     ]
    },
    {
     "name": "stderr",
     "output_type": "stream",
     "text": [
      "\r",
      "Iter. Sofia projections:  23%|███████████████▏                                                 | 3791/16232 [00:36<02:01, 102.47it/s]"
     ]
    },
    {
     "name": "stderr",
     "output_type": "stream",
     "text": [
      "\r",
      "Iter. Sofia projections:  23%|███████████████▏                                                 | 3803/16232 [00:36<01:58, 104.72it/s]"
     ]
    },
    {
     "name": "stderr",
     "output_type": "stream",
     "text": [
      "\r",
      "Iter. Sofia projections:  23%|███████████████▎                                                 | 3814/16232 [00:36<01:57, 105.26it/s]"
     ]
    },
    {
     "name": "stderr",
     "output_type": "stream",
     "text": [
      "\r",
      "Iter. Sofia projections:  24%|███████████████▎                                                 | 3825/16232 [00:36<01:59, 104.05it/s]"
     ]
    },
    {
     "name": "stderr",
     "output_type": "stream",
     "text": [
      "\r",
      "Iter. Sofia projections:  24%|███████████████▎                                                 | 3836/16232 [00:36<01:57, 105.53it/s]"
     ]
    },
    {
     "name": "stderr",
     "output_type": "stream",
     "text": [
      "\r",
      "Iter. Sofia projections:  24%|███████████████▍                                                 | 3848/16232 [00:36<01:56, 106.68it/s]"
     ]
    },
    {
     "name": "stderr",
     "output_type": "stream",
     "text": [
      "\r",
      "Iter. Sofia projections:  24%|███████████████▍                                                 | 3859/16232 [00:37<01:58, 104.14it/s]"
     ]
    },
    {
     "name": "stderr",
     "output_type": "stream",
     "text": [
      "\r",
      "Iter. Sofia projections:  24%|███████████████▍                                                 | 3870/16232 [00:37<02:01, 101.52it/s]"
     ]
    },
    {
     "name": "stderr",
     "output_type": "stream",
     "text": [
      "\r",
      "Iter. Sofia projections:  24%|███████████████▌                                                 | 3881/16232 [00:37<02:01, 101.54it/s]"
     ]
    },
    {
     "name": "stderr",
     "output_type": "stream",
     "text": [
      "\r",
      "Iter. Sofia projections:  24%|███████████████▌                                                 | 3892/16232 [00:37<01:59, 103.05it/s]"
     ]
    },
    {
     "name": "stderr",
     "output_type": "stream",
     "text": [
      "\r",
      "Iter. Sofia projections:  24%|███████████████▋                                                 | 3903/16232 [00:37<02:01, 101.75it/s]"
     ]
    },
    {
     "name": "stderr",
     "output_type": "stream",
     "text": [
      "\r",
      "Iter. Sofia projections:  24%|███████████████▋                                                 | 3914/16232 [00:37<01:58, 103.90it/s]"
     ]
    },
    {
     "name": "stderr",
     "output_type": "stream",
     "text": [
      "\r",
      "Iter. Sofia projections:  24%|███████████████▋                                                 | 3925/16232 [00:37<01:58, 104.01it/s]"
     ]
    },
    {
     "name": "stderr",
     "output_type": "stream",
     "text": [
      "\r",
      "Iter. Sofia projections:  24%|███████████████▊                                                 | 3936/16232 [00:37<01:57, 105.04it/s]"
     ]
    },
    {
     "name": "stderr",
     "output_type": "stream",
     "text": [
      "\r",
      "Iter. Sofia projections:  24%|███████████████▊                                                 | 3948/16232 [00:37<01:54, 107.66it/s]"
     ]
    },
    {
     "name": "stderr",
     "output_type": "stream",
     "text": [
      "\r",
      "Iter. Sofia projections:  24%|███████████████▊                                                 | 3959/16232 [00:38<01:54, 107.18it/s]"
     ]
    },
    {
     "name": "stderr",
     "output_type": "stream",
     "text": [
      "\r",
      "Iter. Sofia projections:  24%|███████████████▉                                                 | 3970/16232 [00:38<01:53, 107.57it/s]"
     ]
    },
    {
     "name": "stderr",
     "output_type": "stream",
     "text": [
      "\r",
      "Iter. Sofia projections:  25%|███████████████▉                                                 | 3981/16232 [00:38<01:57, 104.68it/s]"
     ]
    },
    {
     "name": "stderr",
     "output_type": "stream",
     "text": [
      "\r",
      "Iter. Sofia projections:  25%|███████████████▉                                                 | 3992/16232 [00:38<01:59, 102.16it/s]"
     ]
    },
    {
     "name": "stderr",
     "output_type": "stream",
     "text": [
      "\r",
      "Iter. Sofia projections:  25%|████████████████                                                 | 4003/16232 [00:38<01:59, 102.62it/s]"
     ]
    },
    {
     "name": "stderr",
     "output_type": "stream",
     "text": [
      "\r",
      "Iter. Sofia projections:  25%|████████████████                                                 | 4014/16232 [00:38<01:59, 102.19it/s]"
     ]
    },
    {
     "name": "stderr",
     "output_type": "stream",
     "text": [
      "\r",
      "Iter. Sofia projections:  25%|████████████████                                                 | 4025/16232 [00:38<01:58, 103.19it/s]"
     ]
    },
    {
     "name": "stderr",
     "output_type": "stream",
     "text": [
      "\r",
      "Iter. Sofia projections:  25%|████████████████▏                                                | 4036/16232 [00:38<01:57, 103.38it/s]"
     ]
    },
    {
     "name": "stderr",
     "output_type": "stream",
     "text": [
      "\r",
      "Iter. Sofia projections:  25%|████████████████▏                                                | 4048/16232 [00:38<01:55, 105.67it/s]"
     ]
    },
    {
     "name": "stderr",
     "output_type": "stream",
     "text": [
      "\r",
      "Iter. Sofia projections:  25%|████████████████▎                                                | 4059/16232 [00:39<01:55, 105.28it/s]"
     ]
    },
    {
     "name": "stderr",
     "output_type": "stream",
     "text": [
      "\r",
      "Iter. Sofia projections:  25%|████████████████▎                                                | 4071/16232 [00:39<01:53, 106.80it/s]"
     ]
    },
    {
     "name": "stderr",
     "output_type": "stream",
     "text": [
      "\r",
      "Iter. Sofia projections:  25%|████████████████▎                                                | 4082/16232 [00:39<01:55, 104.79it/s]"
     ]
    },
    {
     "name": "stderr",
     "output_type": "stream",
     "text": [
      "\r",
      "Iter. Sofia projections:  25%|████████████████▍                                                | 4093/16232 [00:39<01:55, 105.35it/s]"
     ]
    },
    {
     "name": "stderr",
     "output_type": "stream",
     "text": [
      "\r",
      "Iter. Sofia projections:  25%|████████████████▍                                                | 4104/16232 [00:39<01:59, 101.14it/s]"
     ]
    },
    {
     "name": "stderr",
     "output_type": "stream",
     "text": [
      "\r",
      "Iter. Sofia projections:  25%|████████████████▍                                                | 4115/16232 [00:39<02:00, 100.71it/s]"
     ]
    },
    {
     "name": "stderr",
     "output_type": "stream",
     "text": [
      "\r",
      "Iter. Sofia projections:  25%|████████████████▌                                                | 4126/16232 [00:39<01:58, 102.30it/s]"
     ]
    },
    {
     "name": "stderr",
     "output_type": "stream",
     "text": [
      "\r",
      "Iter. Sofia projections:  25%|████████████████▌                                                | 4137/16232 [00:39<01:56, 104.03it/s]"
     ]
    },
    {
     "name": "stderr",
     "output_type": "stream",
     "text": [
      "\r",
      "Iter. Sofia projections:  26%|████████████████▌                                                | 4149/16232 [00:39<01:53, 106.52it/s]"
     ]
    },
    {
     "name": "stderr",
     "output_type": "stream",
     "text": [
      "\r",
      "Iter. Sofia projections:  26%|████████████████▋                                                | 4160/16232 [00:39<01:52, 107.19it/s]"
     ]
    },
    {
     "name": "stderr",
     "output_type": "stream",
     "text": [
      "\r",
      "Iter. Sofia projections:  26%|████████████████▋                                                | 4171/16232 [00:40<01:53, 106.46it/s]"
     ]
    },
    {
     "name": "stderr",
     "output_type": "stream",
     "text": [
      "\r",
      "Iter. Sofia projections:  26%|████████████████▋                                                | 4182/16232 [00:40<01:53, 106.58it/s]"
     ]
    },
    {
     "name": "stderr",
     "output_type": "stream",
     "text": [
      "\r",
      "Iter. Sofia projections:  26%|████████████████▊                                                | 4193/16232 [00:40<01:53, 105.75it/s]"
     ]
    },
    {
     "name": "stderr",
     "output_type": "stream",
     "text": [
      "\r",
      "Iter. Sofia projections:  26%|████████████████▊                                                | 4204/16232 [00:40<01:55, 103.98it/s]"
     ]
    },
    {
     "name": "stderr",
     "output_type": "stream",
     "text": [
      "\r",
      "Iter. Sofia projections:  26%|████████████████▉                                                | 4215/16232 [00:40<01:58, 101.31it/s]"
     ]
    },
    {
     "name": "stderr",
     "output_type": "stream",
     "text": [
      "\r",
      "Iter. Sofia projections:  26%|█████████████████▏                                                | 4226/16232 [00:40<02:01, 99.15it/s]"
     ]
    },
    {
     "name": "stderr",
     "output_type": "stream",
     "text": [
      "\r",
      "Iter. Sofia projections:  26%|█████████████████▏                                                | 4236/16232 [00:40<02:00, 99.37it/s]"
     ]
    },
    {
     "name": "stderr",
     "output_type": "stream",
     "text": [
      "\r",
      "Iter. Sofia projections:  26%|█████████████████                                                | 4247/16232 [00:40<01:59, 100.09it/s]"
     ]
    },
    {
     "name": "stderr",
     "output_type": "stream",
     "text": [
      "\r",
      "Iter. Sofia projections:  26%|█████████████████▎                                                | 4258/16232 [00:40<02:00, 99.72it/s]"
     ]
    },
    {
     "name": "stderr",
     "output_type": "stream",
     "text": [
      "\r",
      "Iter. Sofia projections:  26%|█████████████████                                                | 4269/16232 [00:41<01:57, 102.24it/s]"
     ]
    },
    {
     "name": "stderr",
     "output_type": "stream",
     "text": [
      "\r",
      "Iter. Sofia projections:  26%|█████████████████▏                                               | 4281/16232 [00:41<01:54, 104.59it/s]"
     ]
    },
    {
     "name": "stderr",
     "output_type": "stream",
     "text": [
      "\r",
      "Iter. Sofia projections:  26%|█████████████████▏                                               | 4292/16232 [00:41<01:54, 104.12it/s]"
     ]
    },
    {
     "name": "stderr",
     "output_type": "stream",
     "text": [
      "\r",
      "Iter. Sofia projections:  27%|█████████████████▏                                               | 4303/16232 [00:41<01:54, 103.85it/s]"
     ]
    },
    {
     "name": "stderr",
     "output_type": "stream",
     "text": [
      "\r",
      "Iter. Sofia projections:  27%|█████████████████▎                                               | 4314/16232 [00:41<01:56, 102.18it/s]"
     ]
    },
    {
     "name": "stderr",
     "output_type": "stream",
     "text": [
      "\r",
      "Iter. Sofia projections:  27%|█████████████████▎                                               | 4325/16232 [00:41<01:56, 102.43it/s]"
     ]
    },
    {
     "name": "stderr",
     "output_type": "stream",
     "text": [
      "\r",
      "Iter. Sofia projections:  27%|█████████████████▎                                               | 4336/16232 [00:41<01:54, 103.69it/s]"
     ]
    },
    {
     "name": "stderr",
     "output_type": "stream",
     "text": [
      "\r",
      "Iter. Sofia projections:  27%|█████████████████▍                                               | 4347/16232 [00:41<01:55, 102.83it/s]"
     ]
    },
    {
     "name": "stderr",
     "output_type": "stream",
     "text": [
      "\r",
      "Iter. Sofia projections:  27%|█████████████████▍                                               | 4358/16232 [00:41<01:57, 101.44it/s]"
     ]
    },
    {
     "name": "stderr",
     "output_type": "stream",
     "text": [
      "\r",
      "Iter. Sofia projections:  27%|█████████████████▍                                               | 4369/16232 [00:42<01:55, 102.49it/s]"
     ]
    },
    {
     "name": "stderr",
     "output_type": "stream",
     "text": [
      "\r",
      "Iter. Sofia projections:  27%|█████████████████▌                                               | 4381/16232 [00:42<01:51, 106.08it/s]"
     ]
    },
    {
     "name": "stderr",
     "output_type": "stream",
     "text": [
      "\r",
      "Iter. Sofia projections:  27%|█████████████████▌                                               | 4392/16232 [00:42<01:51, 106.13it/s]"
     ]
    },
    {
     "name": "stderr",
     "output_type": "stream",
     "text": [
      "\r",
      "Iter. Sofia projections:  27%|█████████████████▋                                               | 4403/16232 [00:42<01:50, 106.64it/s]"
     ]
    },
    {
     "name": "stderr",
     "output_type": "stream",
     "text": [
      "\r",
      "Iter. Sofia projections:  27%|█████████████████▋                                               | 4415/16232 [00:42<01:49, 108.04it/s]"
     ]
    },
    {
     "name": "stderr",
     "output_type": "stream",
     "text": [
      "\r",
      "Iter. Sofia projections:  27%|█████████████████▋                                               | 4427/16232 [00:42<01:47, 109.67it/s]"
     ]
    },
    {
     "name": "stderr",
     "output_type": "stream",
     "text": [
      "\r",
      "Iter. Sofia projections:  27%|█████████████████▊                                               | 4438/16232 [00:42<01:48, 108.29it/s]"
     ]
    },
    {
     "name": "stderr",
     "output_type": "stream",
     "text": [
      "\r",
      "Iter. Sofia projections:  27%|█████████████████▊                                               | 4449/16232 [00:42<01:48, 108.18it/s]"
     ]
    },
    {
     "name": "stderr",
     "output_type": "stream",
     "text": [
      "\r",
      "Iter. Sofia projections:  27%|█████████████████▊                                               | 4461/16232 [00:42<01:47, 109.04it/s]"
     ]
    },
    {
     "name": "stderr",
     "output_type": "stream",
     "text": [
      "\r",
      "Iter. Sofia projections:  28%|█████████████████▉                                               | 4472/16232 [00:42<01:50, 106.63it/s]"
     ]
    },
    {
     "name": "stderr",
     "output_type": "stream",
     "text": [
      "\r",
      "Iter. Sofia projections:  28%|█████████████████▉                                               | 4483/16232 [00:43<01:52, 104.25it/s]"
     ]
    },
    {
     "name": "stderr",
     "output_type": "stream",
     "text": [
      "\r",
      "Iter. Sofia projections:  28%|██████████████████▎                                               | 4494/16232 [00:43<01:58, 99.46it/s]"
     ]
    },
    {
     "name": "stderr",
     "output_type": "stream",
     "text": [
      "\r",
      "Iter. Sofia projections:  28%|██████████████████                                               | 4505/16232 [00:43<01:56, 100.60it/s]"
     ]
    },
    {
     "name": "stderr",
     "output_type": "stream",
     "text": [
      "\r",
      "Iter. Sofia projections:  28%|██████████████████                                               | 4516/16232 [00:43<01:53, 103.05it/s]"
     ]
    },
    {
     "name": "stderr",
     "output_type": "stream",
     "text": [
      "\r",
      "Iter. Sofia projections:  28%|██████████████████▏                                              | 4528/16232 [00:43<01:49, 106.61it/s]"
     ]
    },
    {
     "name": "stderr",
     "output_type": "stream",
     "text": [
      "\r",
      "Iter. Sofia projections:  28%|██████████████████▏                                              | 4540/16232 [00:43<01:46, 109.44it/s]"
     ]
    },
    {
     "name": "stderr",
     "output_type": "stream",
     "text": [
      "\r",
      "Iter. Sofia projections:  28%|██████████████████▏                                              | 4551/16232 [00:43<01:48, 107.36it/s]"
     ]
    },
    {
     "name": "stderr",
     "output_type": "stream",
     "text": [
      "\r",
      "Iter. Sofia projections:  28%|██████████████████▎                                              | 4562/16232 [00:43<01:51, 104.83it/s]"
     ]
    },
    {
     "name": "stderr",
     "output_type": "stream",
     "text": [
      "\r",
      "Iter. Sofia projections:  28%|██████████████████▎                                              | 4573/16232 [00:43<01:50, 105.36it/s]"
     ]
    },
    {
     "name": "stderr",
     "output_type": "stream",
     "text": [
      "\r",
      "Iter. Sofia projections:  28%|██████████████████▎                                              | 4584/16232 [00:44<01:52, 103.66it/s]"
     ]
    },
    {
     "name": "stderr",
     "output_type": "stream",
     "text": [
      "\r",
      "Iter. Sofia projections:  28%|██████████████████▍                                              | 4595/16232 [00:44<01:53, 102.29it/s]"
     ]
    },
    {
     "name": "stderr",
     "output_type": "stream",
     "text": [
      "\r",
      "Iter. Sofia projections:  28%|██████████████████▍                                              | 4606/16232 [00:44<01:53, 102.25it/s]"
     ]
    },
    {
     "name": "stderr",
     "output_type": "stream",
     "text": [
      "\r",
      "Iter. Sofia projections:  28%|██████████████████▍                                              | 4617/16232 [00:44<01:53, 102.55it/s]"
     ]
    },
    {
     "name": "stderr",
     "output_type": "stream",
     "text": [
      "\r",
      "Iter. Sofia projections:  29%|██████████████████▌                                              | 4628/16232 [00:44<01:51, 104.46it/s]"
     ]
    },
    {
     "name": "stderr",
     "output_type": "stream",
     "text": [
      "\r",
      "Iter. Sofia projections:  29%|██████████████████▌                                              | 4640/16232 [00:44<01:48, 106.96it/s]"
     ]
    },
    {
     "name": "stderr",
     "output_type": "stream",
     "text": [
      "\r",
      "Iter. Sofia projections:  29%|██████████████████▋                                              | 4652/16232 [00:44<01:47, 107.61it/s]"
     ]
    },
    {
     "name": "stderr",
     "output_type": "stream",
     "text": [
      "\r",
      "Iter. Sofia projections:  29%|██████████████████▋                                              | 4665/16232 [00:44<01:43, 111.70it/s]"
     ]
    },
    {
     "name": "stderr",
     "output_type": "stream",
     "text": [
      "\r",
      "Iter. Sofia projections:  29%|██████████████████▋                                              | 4677/16232 [00:44<01:42, 113.12it/s]"
     ]
    },
    {
     "name": "stderr",
     "output_type": "stream",
     "text": [
      "\r",
      "Iter. Sofia projections:  29%|██████████████████▊                                              | 4690/16232 [00:45<01:40, 114.82it/s]"
     ]
    },
    {
     "name": "stderr",
     "output_type": "stream",
     "text": [
      "\r",
      "Iter. Sofia projections:  29%|██████████████████▊                                              | 4702/16232 [00:45<01:39, 115.88it/s]"
     ]
    },
    {
     "name": "stderr",
     "output_type": "stream",
     "text": [
      "\r",
      "Iter. Sofia projections:  29%|██████████████████▉                                              | 4714/16232 [00:45<01:39, 116.33it/s]"
     ]
    },
    {
     "name": "stderr",
     "output_type": "stream",
     "text": [
      "\r",
      "Iter. Sofia projections:  29%|██████████████████▉                                              | 4726/16232 [00:45<01:43, 111.07it/s]"
     ]
    },
    {
     "name": "stderr",
     "output_type": "stream",
     "text": [
      "\r",
      "Iter. Sofia projections:  29%|██████████████████▉                                              | 4739/16232 [00:45<01:40, 114.32it/s]"
     ]
    },
    {
     "name": "stderr",
     "output_type": "stream",
     "text": [
      "\r",
      "Iter. Sofia projections:  29%|███████████████████                                              | 4751/16232 [00:45<01:40, 114.29it/s]"
     ]
    },
    {
     "name": "stderr",
     "output_type": "stream",
     "text": [
      "\r",
      "Iter. Sofia projections:  29%|███████████████████                                              | 4763/16232 [00:45<01:41, 112.50it/s]"
     ]
    },
    {
     "name": "stderr",
     "output_type": "stream",
     "text": [
      "\r",
      "Iter. Sofia projections:  29%|███████████████████                                              | 4775/16232 [00:45<01:44, 109.92it/s]"
     ]
    },
    {
     "name": "stderr",
     "output_type": "stream",
     "text": [
      "\r",
      "Iter. Sofia projections:  29%|███████████████████▏                                             | 4787/16232 [00:45<01:45, 108.02it/s]"
     ]
    },
    {
     "name": "stderr",
     "output_type": "stream",
     "text": [
      "\r",
      "Iter. Sofia projections:  30%|███████████████████▏                                             | 4798/16232 [00:46<01:47, 106.71it/s]"
     ]
    },
    {
     "name": "stderr",
     "output_type": "stream",
     "text": [
      "\r",
      "Iter. Sofia projections:  30%|███████████████████▎                                             | 4810/16232 [00:46<01:45, 108.36it/s]"
     ]
    },
    {
     "name": "stderr",
     "output_type": "stream",
     "text": [
      "\r",
      "Iter. Sofia projections:  30%|███████████████████▎                                             | 4821/16232 [00:46<01:48, 105.43it/s]"
     ]
    },
    {
     "name": "stderr",
     "output_type": "stream",
     "text": [
      "\r",
      "Iter. Sofia projections:  30%|███████████████████▎                                             | 4832/16232 [00:46<01:49, 104.08it/s]"
     ]
    },
    {
     "name": "stderr",
     "output_type": "stream",
     "text": [
      "\r",
      "Iter. Sofia projections:  30%|███████████████████▍                                             | 4843/16232 [00:46<01:52, 101.19it/s]"
     ]
    },
    {
     "name": "stderr",
     "output_type": "stream",
     "text": [
      "\r",
      "Iter. Sofia projections:  30%|███████████████████▍                                             | 4854/16232 [00:46<01:52, 101.30it/s]"
     ]
    },
    {
     "name": "stderr",
     "output_type": "stream",
     "text": [
      "\r",
      "Iter. Sofia projections:  30%|███████████████████▍                                             | 4865/16232 [00:46<01:51, 102.38it/s]"
     ]
    },
    {
     "name": "stderr",
     "output_type": "stream",
     "text": [
      "\r",
      "Iter. Sofia projections:  30%|███████████████████▌                                             | 4876/16232 [00:46<01:50, 102.68it/s]"
     ]
    },
    {
     "name": "stderr",
     "output_type": "stream",
     "text": [
      "\r",
      "Iter. Sofia projections:  30%|███████████████████▌                                             | 4887/16232 [00:46<01:48, 104.29it/s]"
     ]
    },
    {
     "name": "stderr",
     "output_type": "stream",
     "text": [
      "\r",
      "Iter. Sofia projections:  30%|███████████████████▌                                             | 4899/16232 [00:46<01:46, 106.40it/s]"
     ]
    },
    {
     "name": "stderr",
     "output_type": "stream",
     "text": [
      "\r",
      "Iter. Sofia projections:  30%|███████████████████▋                                             | 4910/16232 [00:47<01:47, 105.69it/s]"
     ]
    },
    {
     "name": "stderr",
     "output_type": "stream",
     "text": [
      "\r",
      "Iter. Sofia projections:  30%|███████████████████▋                                             | 4921/16232 [00:47<01:49, 103.76it/s]"
     ]
    },
    {
     "name": "stderr",
     "output_type": "stream",
     "text": [
      "\r",
      "Iter. Sofia projections:  30%|███████████████████▋                                             | 4932/16232 [00:47<01:48, 104.11it/s]"
     ]
    },
    {
     "name": "stderr",
     "output_type": "stream",
     "text": [
      "\r",
      "Iter. Sofia projections:  30%|███████████████████▊                                             | 4943/16232 [00:47<01:47, 105.04it/s]"
     ]
    },
    {
     "name": "stderr",
     "output_type": "stream",
     "text": [
      "\r",
      "Iter. Sofia projections:  31%|███████████████████▊                                             | 4955/16232 [00:47<01:45, 107.12it/s]"
     ]
    },
    {
     "name": "stderr",
     "output_type": "stream",
     "text": [
      "\r",
      "Iter. Sofia projections:  31%|████████████████████▏                                             | 4966/16232 [00:47<01:53, 99.57it/s]"
     ]
    },
    {
     "name": "stderr",
     "output_type": "stream",
     "text": [
      "\r",
      "Iter. Sofia projections:  31%|███████████████████▉                                             | 4977/16232 [00:47<01:52, 100.09it/s]"
     ]
    },
    {
     "name": "stderr",
     "output_type": "stream",
     "text": [
      "\r",
      "Iter. Sofia projections:  31%|███████████████████▉                                             | 4988/16232 [00:47<01:51, 100.51it/s]"
     ]
    },
    {
     "name": "stderr",
     "output_type": "stream",
     "text": [
      "\r",
      "Iter. Sofia projections:  31%|████████████████████                                             | 5000/16232 [00:47<01:48, 103.57it/s]"
     ]
    },
    {
     "name": "stderr",
     "output_type": "stream",
     "text": [
      "\r",
      "Iter. Sofia projections:  31%|████████████████████                                             | 5011/16232 [00:48<01:46, 105.05it/s]"
     ]
    },
    {
     "name": "stderr",
     "output_type": "stream",
     "text": [
      "\r",
      "Iter. Sofia projections:  31%|████████████████████                                             | 5022/16232 [00:48<01:46, 105.67it/s]"
     ]
    },
    {
     "name": "stderr",
     "output_type": "stream",
     "text": [
      "\r",
      "Iter. Sofia projections:  31%|████████████████████▏                                            | 5034/16232 [00:48<01:44, 107.62it/s]"
     ]
    },
    {
     "name": "stderr",
     "output_type": "stream",
     "text": [
      "\r",
      "Iter. Sofia projections:  31%|████████████████████▏                                            | 5045/16232 [00:48<01:44, 106.59it/s]"
     ]
    },
    {
     "name": "stderr",
     "output_type": "stream",
     "text": [
      "\r",
      "Iter. Sofia projections:  31%|████████████████████▏                                            | 5056/16232 [00:48<01:44, 107.26it/s]"
     ]
    },
    {
     "name": "stderr",
     "output_type": "stream",
     "text": [
      "\r",
      "Iter. Sofia projections:  31%|████████████████████▌                                             | 5067/16232 [00:48<01:58, 94.44it/s]"
     ]
    },
    {
     "name": "stderr",
     "output_type": "stream",
     "text": [
      "\r",
      "Iter. Sofia projections:  31%|████████████████████▋                                             | 5077/16232 [00:48<01:56, 95.35it/s]"
     ]
    },
    {
     "name": "stderr",
     "output_type": "stream",
     "text": [
      "\r",
      "Iter. Sofia projections:  31%|████████████████████▋                                             | 5087/16232 [00:48<01:55, 96.41it/s]"
     ]
    },
    {
     "name": "stderr",
     "output_type": "stream",
     "text": [
      "\r",
      "Iter. Sofia projections:  31%|████████████████████▋                                             | 5098/16232 [00:48<01:53, 98.39it/s]"
     ]
    },
    {
     "name": "stderr",
     "output_type": "stream",
     "text": [
      "\r",
      "Iter. Sofia projections:  31%|████████████████████▍                                            | 5109/16232 [00:49<01:50, 100.77it/s]"
     ]
    },
    {
     "name": "stderr",
     "output_type": "stream",
     "text": [
      "\r",
      "Iter. Sofia projections:  32%|████████████████████▌                                            | 5120/16232 [00:49<01:48, 102.03it/s]"
     ]
    },
    {
     "name": "stderr",
     "output_type": "stream",
     "text": [
      "\r",
      "Iter. Sofia projections:  32%|████████████████████▌                                            | 5131/16232 [00:49<01:47, 103.26it/s]"
     ]
    },
    {
     "name": "stderr",
     "output_type": "stream",
     "text": [
      "\r",
      "Iter. Sofia projections:  32%|████████████████████▌                                            | 5142/16232 [00:49<01:47, 103.15it/s]"
     ]
    },
    {
     "name": "stderr",
     "output_type": "stream",
     "text": [
      "\r",
      "Iter. Sofia projections:  32%|████████████████████▋                                            | 5153/16232 [00:49<01:48, 101.89it/s]"
     ]
    },
    {
     "name": "stderr",
     "output_type": "stream",
     "text": [
      "\r",
      "Iter. Sofia projections:  32%|████████████████████▋                                            | 5164/16232 [00:49<01:47, 102.80it/s]"
     ]
    },
    {
     "name": "stderr",
     "output_type": "stream",
     "text": [
      "\r",
      "Iter. Sofia projections:  32%|████████████████████▋                                            | 5175/16232 [00:49<01:48, 102.20it/s]"
     ]
    },
    {
     "name": "stderr",
     "output_type": "stream",
     "text": [
      "\r",
      "Iter. Sofia projections:  32%|████████████████████▊                                            | 5186/16232 [00:49<01:47, 102.73it/s]"
     ]
    },
    {
     "name": "stderr",
     "output_type": "stream",
     "text": [
      "\r",
      "Iter. Sofia projections:  32%|████████████████████▊                                            | 5197/16232 [00:49<01:49, 100.37it/s]"
     ]
    },
    {
     "name": "stderr",
     "output_type": "stream",
     "text": [
      "\r",
      "Iter. Sofia projections:  32%|████████████████████▊                                            | 5208/16232 [00:50<01:50, 100.07it/s]"
     ]
    },
    {
     "name": "stderr",
     "output_type": "stream",
     "text": [
      "\r",
      "Iter. Sofia projections:  32%|████████████████████▉                                            | 5219/16232 [00:50<01:47, 102.45it/s]"
     ]
    },
    {
     "name": "stderr",
     "output_type": "stream",
     "text": [
      "\r",
      "Iter. Sofia projections:  32%|████████████████████▉                                            | 5230/16232 [00:50<01:48, 101.53it/s]"
     ]
    },
    {
     "name": "stderr",
     "output_type": "stream",
     "text": [
      "\r",
      "Iter. Sofia projections:  32%|████████████████████▉                                            | 5241/16232 [00:50<01:46, 103.66it/s]"
     ]
    },
    {
     "name": "stderr",
     "output_type": "stream",
     "text": [
      "\r",
      "Iter. Sofia projections:  32%|█████████████████████                                            | 5253/16232 [00:50<01:43, 106.13it/s]"
     ]
    },
    {
     "name": "stderr",
     "output_type": "stream",
     "text": [
      "\r",
      "Iter. Sofia projections:  32%|█████████████████████                                            | 5264/16232 [00:50<01:45, 104.05it/s]"
     ]
    },
    {
     "name": "stderr",
     "output_type": "stream",
     "text": [
      "\r",
      "Iter. Sofia projections:  32%|█████████████████████                                            | 5275/16232 [00:50<01:47, 101.73it/s]"
     ]
    },
    {
     "name": "stderr",
     "output_type": "stream",
     "text": [
      "\r",
      "Iter. Sofia projections:  33%|█████████████████████▏                                           | 5286/16232 [00:50<01:47, 101.40it/s]"
     ]
    },
    {
     "name": "stderr",
     "output_type": "stream",
     "text": [
      "\r",
      "Iter. Sofia projections:  33%|█████████████████████▏                                           | 5297/16232 [00:50<01:46, 102.88it/s]"
     ]
    },
    {
     "name": "stderr",
     "output_type": "stream",
     "text": [
      "\r",
      "Iter. Sofia projections:  33%|█████████████████████▎                                           | 5308/16232 [00:50<01:45, 103.39it/s]"
     ]
    },
    {
     "name": "stderr",
     "output_type": "stream",
     "text": [
      "\r",
      "Iter. Sofia projections:  33%|█████████████████████▎                                           | 5319/16232 [00:51<01:48, 100.22it/s]"
     ]
    },
    {
     "name": "stderr",
     "output_type": "stream",
     "text": [
      "\r",
      "Iter. Sofia projections:  33%|█████████████████████▋                                            | 5330/16232 [00:51<01:49, 99.44it/s]"
     ]
    },
    {
     "name": "stderr",
     "output_type": "stream",
     "text": [
      "\r",
      "Iter. Sofia projections:  33%|█████████████████████▋                                            | 5341/16232 [00:51<01:49, 99.20it/s]"
     ]
    },
    {
     "name": "stderr",
     "output_type": "stream",
     "text": [
      "\r",
      "Iter. Sofia projections:  33%|█████████████████████▍                                           | 5352/16232 [00:51<01:46, 101.95it/s]"
     ]
    },
    {
     "name": "stderr",
     "output_type": "stream",
     "text": [
      "\r",
      "Iter. Sofia projections:  33%|█████████████████████▍                                           | 5363/16232 [00:51<01:47, 101.28it/s]"
     ]
    },
    {
     "name": "stderr",
     "output_type": "stream",
     "text": [
      "\r",
      "Iter. Sofia projections:  33%|█████████████████████▌                                           | 5374/16232 [00:51<01:46, 101.54it/s]"
     ]
    },
    {
     "name": "stderr",
     "output_type": "stream",
     "text": [
      "\r",
      "Iter. Sofia projections:  33%|█████████████████████▌                                           | 5385/16232 [00:51<01:48, 100.43it/s]"
     ]
    },
    {
     "name": "stderr",
     "output_type": "stream",
     "text": [
      "\r",
      "Iter. Sofia projections:  33%|█████████████████████▌                                           | 5396/16232 [00:51<01:46, 101.72it/s]"
     ]
    },
    {
     "name": "stderr",
     "output_type": "stream",
     "text": [
      "\r",
      "Iter. Sofia projections:  33%|█████████████████████▋                                           | 5407/16232 [00:51<01:44, 103.68it/s]"
     ]
    },
    {
     "name": "stderr",
     "output_type": "stream",
     "text": [
      "\r",
      "Iter. Sofia projections:  33%|█████████████████████▋                                           | 5418/16232 [00:52<01:43, 104.68it/s]"
     ]
    },
    {
     "name": "stderr",
     "output_type": "stream",
     "text": [
      "\r",
      "Iter. Sofia projections:  33%|█████████████████████▋                                           | 5429/16232 [00:52<01:42, 105.46it/s]"
     ]
    },
    {
     "name": "stderr",
     "output_type": "stream",
     "text": [
      "\r",
      "Iter. Sofia projections:  34%|█████████████████████▊                                           | 5440/16232 [00:52<01:47, 100.32it/s]"
     ]
    },
    {
     "name": "stderr",
     "output_type": "stream",
     "text": [
      "\r",
      "Iter. Sofia projections:  34%|██████████████████████▏                                           | 5451/16232 [00:52<01:48, 99.17it/s]"
     ]
    },
    {
     "name": "stderr",
     "output_type": "stream",
     "text": [
      "\r",
      "Iter. Sofia projections:  34%|█████████████████████▊                                           | 5462/16232 [00:52<01:47, 100.45it/s]"
     ]
    },
    {
     "name": "stderr",
     "output_type": "stream",
     "text": [
      "\r",
      "Iter. Sofia projections:  34%|██████████████████████▎                                           | 5473/16232 [00:52<01:48, 99.13it/s]"
     ]
    },
    {
     "name": "stderr",
     "output_type": "stream",
     "text": [
      "\r",
      "Iter. Sofia projections:  34%|█████████████████████▉                                           | 5484/16232 [00:52<01:47, 100.13it/s]"
     ]
    },
    {
     "name": "stderr",
     "output_type": "stream",
     "text": [
      "\r",
      "Iter. Sofia projections:  34%|██████████████████████                                           | 5495/16232 [00:52<01:45, 102.22it/s]"
     ]
    },
    {
     "name": "stderr",
     "output_type": "stream",
     "text": [
      "\r",
      "Iter. Sofia projections:  34%|██████████████████████                                           | 5506/16232 [00:52<01:44, 102.27it/s]"
     ]
    },
    {
     "name": "stderr",
     "output_type": "stream",
     "text": [
      "\r",
      "Iter. Sofia projections:  34%|██████████████████████                                           | 5518/16232 [00:53<01:42, 104.62it/s]"
     ]
    },
    {
     "name": "stderr",
     "output_type": "stream",
     "text": [
      "\r",
      "Iter. Sofia projections:  34%|██████████████████████▏                                          | 5529/16232 [00:53<01:43, 102.98it/s]"
     ]
    },
    {
     "name": "stderr",
     "output_type": "stream",
     "text": [
      "\r",
      "Iter. Sofia projections:  34%|██████████████████████▏                                          | 5540/16232 [00:53<01:45, 101.62it/s]"
     ]
    },
    {
     "name": "stderr",
     "output_type": "stream",
     "text": [
      "\r",
      "Iter. Sofia projections:  34%|██████████████████████▏                                          | 5551/16232 [00:53<01:43, 102.80it/s]"
     ]
    },
    {
     "name": "stderr",
     "output_type": "stream",
     "text": [
      "\r",
      "Iter. Sofia projections:  34%|██████████████████████▎                                          | 5562/16232 [00:53<01:43, 103.38it/s]"
     ]
    },
    {
     "name": "stderr",
     "output_type": "stream",
     "text": [
      "\r",
      "Iter. Sofia projections:  34%|██████████████████████▎                                          | 5573/16232 [00:53<01:46, 100.02it/s]"
     ]
    },
    {
     "name": "stderr",
     "output_type": "stream",
     "text": [
      "\r",
      "Iter. Sofia projections:  34%|██████████████████████▎                                          | 5584/16232 [00:53<01:46, 100.42it/s]"
     ]
    },
    {
     "name": "stderr",
     "output_type": "stream",
     "text": [
      "\r",
      "Iter. Sofia projections:  34%|██████████████████████▍                                          | 5595/16232 [00:53<01:45, 100.78it/s]"
     ]
    },
    {
     "name": "stderr",
     "output_type": "stream",
     "text": [
      "\r",
      "Iter. Sofia projections:  35%|██████████████████████▍                                          | 5606/16232 [00:53<01:44, 101.85it/s]"
     ]
    },
    {
     "name": "stderr",
     "output_type": "stream",
     "text": [
      "\r",
      "Iter. Sofia projections:  35%|██████████████████████▍                                          | 5617/16232 [00:54<01:44, 101.32it/s]"
     ]
    },
    {
     "name": "stderr",
     "output_type": "stream",
     "text": [
      "\r",
      "Iter. Sofia projections:  35%|██████████████████████▌                                          | 5628/16232 [00:54<01:42, 103.22it/s]"
     ]
    },
    {
     "name": "stderr",
     "output_type": "stream",
     "text": [
      "\r",
      "Iter. Sofia projections:  35%|██████████████████████▌                                          | 5639/16232 [00:54<01:43, 101.97it/s]"
     ]
    },
    {
     "name": "stderr",
     "output_type": "stream",
     "text": [
      "\r",
      "Iter. Sofia projections:  35%|██████████████████████▋                                          | 5651/16232 [00:54<01:40, 105.52it/s]"
     ]
    },
    {
     "name": "stderr",
     "output_type": "stream",
     "text": [
      "\r",
      "Iter. Sofia projections:  35%|██████████████████████▋                                          | 5663/16232 [00:54<01:37, 108.17it/s]"
     ]
    },
    {
     "name": "stderr",
     "output_type": "stream",
     "text": [
      "\r",
      "Iter. Sofia projections:  35%|██████████████████████▋                                          | 5674/16232 [00:54<01:37, 107.84it/s]"
     ]
    },
    {
     "name": "stderr",
     "output_type": "stream",
     "text": [
      "\r",
      "Iter. Sofia projections:  35%|██████████████████████▊                                          | 5685/16232 [00:54<01:39, 106.24it/s]"
     ]
    },
    {
     "name": "stderr",
     "output_type": "stream",
     "text": [
      "\r",
      "Iter. Sofia projections:  35%|██████████████████████▊                                          | 5696/16232 [00:54<01:42, 103.02it/s]"
     ]
    },
    {
     "name": "stderr",
     "output_type": "stream",
     "text": [
      "\r",
      "Iter. Sofia projections:  35%|██████████████████████▊                                          | 5708/16232 [00:54<01:39, 105.65it/s]"
     ]
    },
    {
     "name": "stderr",
     "output_type": "stream",
     "text": [
      "\r",
      "Iter. Sofia projections:  35%|██████████████████████▉                                          | 5719/16232 [00:54<01:38, 106.84it/s]"
     ]
    },
    {
     "name": "stderr",
     "output_type": "stream",
     "text": [
      "\r",
      "Iter. Sofia projections:  35%|██████████████████████▉                                          | 5730/16232 [00:55<01:38, 106.34it/s]"
     ]
    },
    {
     "name": "stderr",
     "output_type": "stream",
     "text": [
      "\r",
      "Iter. Sofia projections:  35%|██████████████████████▉                                          | 5742/16232 [00:55<01:36, 108.15it/s]"
     ]
    },
    {
     "name": "stderr",
     "output_type": "stream",
     "text": [
      "\r",
      "Iter. Sofia projections:  35%|███████████████████████                                          | 5753/16232 [00:55<01:36, 108.60it/s]"
     ]
    },
    {
     "name": "stderr",
     "output_type": "stream",
     "text": [
      "\r",
      "Iter. Sofia projections:  36%|███████████████████████                                          | 5764/16232 [00:55<01:37, 107.87it/s]"
     ]
    },
    {
     "name": "stderr",
     "output_type": "stream",
     "text": [
      "\r",
      "Iter. Sofia projections:  36%|███████████████████████▏                                         | 5776/16232 [00:55<01:36, 108.61it/s]"
     ]
    },
    {
     "name": "stderr",
     "output_type": "stream",
     "text": [
      "\r",
      "Iter. Sofia projections:  36%|███████████████████████▏                                         | 5787/16232 [00:55<01:36, 107.79it/s]"
     ]
    },
    {
     "name": "stderr",
     "output_type": "stream",
     "text": [
      "\r",
      "Iter. Sofia projections:  36%|███████████████████████▏                                         | 5798/16232 [00:55<01:38, 106.24it/s]"
     ]
    },
    {
     "name": "stderr",
     "output_type": "stream",
     "text": [
      "\r",
      "Iter. Sofia projections:  36%|███████████████████████▎                                         | 5809/16232 [00:55<01:39, 104.81it/s]"
     ]
    },
    {
     "name": "stderr",
     "output_type": "stream",
     "text": [
      "\r",
      "Iter. Sofia projections:  36%|███████████████████████▎                                         | 5820/16232 [00:55<01:39, 104.94it/s]"
     ]
    },
    {
     "name": "stderr",
     "output_type": "stream",
     "text": [
      "\r",
      "Iter. Sofia projections:  36%|███████████████████████▎                                         | 5831/16232 [00:56<01:38, 105.30it/s]"
     ]
    },
    {
     "name": "stderr",
     "output_type": "stream",
     "text": [
      "\r",
      "Iter. Sofia projections:  36%|███████████████████████▍                                         | 5842/16232 [00:56<01:38, 105.88it/s]"
     ]
    },
    {
     "name": "stderr",
     "output_type": "stream",
     "text": [
      "\r",
      "Iter. Sofia projections:  36%|███████████████████████▍                                         | 5853/16232 [00:56<01:38, 105.20it/s]"
     ]
    },
    {
     "name": "stderr",
     "output_type": "stream",
     "text": [
      "\r",
      "Iter. Sofia projections:  36%|███████████████████████▍                                         | 5864/16232 [00:56<01:38, 105.06it/s]"
     ]
    },
    {
     "name": "stderr",
     "output_type": "stream",
     "text": [
      "\r",
      "Iter. Sofia projections:  36%|███████████████████████▌                                         | 5876/16232 [00:56<01:35, 107.94it/s]"
     ]
    },
    {
     "name": "stderr",
     "output_type": "stream",
     "text": [
      "\r",
      "Iter. Sofia projections:  36%|███████████████████████▌                                         | 5887/16232 [00:56<01:35, 108.49it/s]"
     ]
    },
    {
     "name": "stderr",
     "output_type": "stream",
     "text": [
      "\r",
      "Iter. Sofia projections:  36%|███████████████████████▌                                         | 5898/16232 [00:56<01:36, 107.22it/s]"
     ]
    },
    {
     "name": "stderr",
     "output_type": "stream",
     "text": [
      "\r",
      "Iter. Sofia projections:  36%|███████████████████████▋                                         | 5909/16232 [00:56<01:37, 106.28it/s]"
     ]
    },
    {
     "name": "stderr",
     "output_type": "stream",
     "text": [
      "\r",
      "Iter. Sofia projections:  36%|███████████████████████▋                                         | 5921/16232 [00:56<01:36, 107.10it/s]"
     ]
    },
    {
     "name": "stderr",
     "output_type": "stream",
     "text": [
      "\r",
      "Iter. Sofia projections:  37%|███████████████████████▊                                         | 5932/16232 [00:56<01:37, 105.69it/s]"
     ]
    },
    {
     "name": "stderr",
     "output_type": "stream",
     "text": [
      "\r",
      "Iter. Sofia projections:  37%|███████████████████████▊                                         | 5943/16232 [00:57<01:38, 104.70it/s]"
     ]
    },
    {
     "name": "stderr",
     "output_type": "stream",
     "text": [
      "\r",
      "Iter. Sofia projections:  37%|███████████████████████▊                                         | 5954/16232 [00:57<01:36, 106.10it/s]"
     ]
    },
    {
     "name": "stderr",
     "output_type": "stream",
     "text": [
      "\r",
      "Iter. Sofia projections:  37%|███████████████████████▉                                         | 5965/16232 [00:57<01:36, 106.06it/s]"
     ]
    },
    {
     "name": "stderr",
     "output_type": "stream",
     "text": [
      "\r",
      "Iter. Sofia projections:  37%|███████████████████████▉                                         | 5976/16232 [00:57<01:35, 106.90it/s]"
     ]
    },
    {
     "name": "stderr",
     "output_type": "stream",
     "text": [
      "\r",
      "Iter. Sofia projections:  37%|███████████████████████▉                                         | 5988/16232 [00:57<01:34, 107.84it/s]"
     ]
    },
    {
     "name": "stderr",
     "output_type": "stream",
     "text": [
      "\r",
      "Iter. Sofia projections:  37%|████████████████████████                                         | 6000/16232 [00:57<01:32, 110.09it/s]"
     ]
    },
    {
     "name": "stderr",
     "output_type": "stream",
     "text": [
      "\r",
      "Iter. Sofia projections:  37%|████████████████████████                                         | 6012/16232 [00:57<01:32, 110.97it/s]"
     ]
    },
    {
     "name": "stderr",
     "output_type": "stream",
     "text": [
      "\r",
      "Iter. Sofia projections:  37%|████████████████████████                                         | 6024/16232 [00:57<01:30, 112.38it/s]"
     ]
    },
    {
     "name": "stderr",
     "output_type": "stream",
     "text": [
      "\r",
      "Iter. Sofia projections:  37%|████████████████████████▏                                        | 6036/16232 [00:57<01:29, 114.18it/s]"
     ]
    },
    {
     "name": "stderr",
     "output_type": "stream",
     "text": [
      "\r",
      "Iter. Sofia projections:  37%|████████████████████████▏                                        | 6048/16232 [00:58<01:30, 112.19it/s]"
     ]
    },
    {
     "name": "stderr",
     "output_type": "stream",
     "text": [
      "\r",
      "Iter. Sofia projections:  37%|████████████████████████▎                                        | 6060/16232 [00:58<01:31, 111.69it/s]"
     ]
    },
    {
     "name": "stderr",
     "output_type": "stream",
     "text": [
      "\r",
      "Iter. Sofia projections:  37%|████████████████████████▎                                        | 6072/16232 [00:58<01:32, 110.35it/s]"
     ]
    },
    {
     "name": "stderr",
     "output_type": "stream",
     "text": [
      "\r",
      "Iter. Sofia projections:  37%|████████████████████████▎                                        | 6085/16232 [00:58<01:28, 114.22it/s]"
     ]
    },
    {
     "name": "stderr",
     "output_type": "stream",
     "text": [
      "\r",
      "Iter. Sofia projections:  38%|████████████████████████▍                                        | 6097/16232 [00:58<01:28, 114.37it/s]"
     ]
    },
    {
     "name": "stderr",
     "output_type": "stream",
     "text": [
      "\r",
      "Iter. Sofia projections:  38%|████████████████████████▍                                        | 6110/16232 [00:58<01:26, 116.96it/s]"
     ]
    },
    {
     "name": "stderr",
     "output_type": "stream",
     "text": [
      "\r",
      "Iter. Sofia projections:  38%|████████████████████████▌                                        | 6122/16232 [00:58<01:29, 113.21it/s]"
     ]
    },
    {
     "name": "stderr",
     "output_type": "stream",
     "text": [
      "\r",
      "Iter. Sofia projections:  38%|████████████████████████▌                                        | 6134/16232 [00:58<01:28, 114.65it/s]"
     ]
    },
    {
     "name": "stderr",
     "output_type": "stream",
     "text": [
      "\r",
      "Iter. Sofia projections:  38%|████████████████████████▌                                        | 6147/16232 [00:58<01:25, 117.57it/s]"
     ]
    },
    {
     "name": "stderr",
     "output_type": "stream",
     "text": [
      "\r",
      "Iter. Sofia projections:  38%|████████████████████████▋                                        | 6159/16232 [00:58<01:26, 116.32it/s]"
     ]
    },
    {
     "name": "stderr",
     "output_type": "stream",
     "text": [
      "\r",
      "Iter. Sofia projections:  38%|████████████████████████▋                                        | 6171/16232 [00:59<01:28, 113.76it/s]"
     ]
    },
    {
     "name": "stderr",
     "output_type": "stream",
     "text": [
      "\r",
      "Iter. Sofia projections:  38%|████████████████████████▊                                        | 6183/16232 [00:59<01:30, 110.79it/s]"
     ]
    },
    {
     "name": "stderr",
     "output_type": "stream",
     "text": [
      "\r",
      "Iter. Sofia projections:  38%|████████████████████████▊                                        | 6195/16232 [00:59<01:33, 107.28it/s]"
     ]
    },
    {
     "name": "stderr",
     "output_type": "stream",
     "text": [
      "\r",
      "Iter. Sofia projections:  38%|████████████████████████▊                                        | 6206/16232 [00:59<01:34, 106.39it/s]"
     ]
    },
    {
     "name": "stderr",
     "output_type": "stream",
     "text": [
      "\r",
      "Iter. Sofia projections:  38%|████████████████████████▉                                        | 6218/16232 [00:59<01:32, 108.49it/s]"
     ]
    },
    {
     "name": "stderr",
     "output_type": "stream",
     "text": [
      "\r",
      "Iter. Sofia projections:  38%|████████████████████████▉                                        | 6229/16232 [00:59<01:33, 107.46it/s]"
     ]
    },
    {
     "name": "stderr",
     "output_type": "stream",
     "text": [
      "\r",
      "Iter. Sofia projections:  38%|████████████████████████▉                                        | 6240/16232 [00:59<01:32, 108.16it/s]"
     ]
    },
    {
     "name": "stderr",
     "output_type": "stream",
     "text": [
      "\r",
      "Iter. Sofia projections:  39%|█████████████████████████                                        | 6252/16232 [00:59<01:31, 109.53it/s]"
     ]
    },
    {
     "name": "stderr",
     "output_type": "stream",
     "text": [
      "\r",
      "Iter. Sofia projections:  39%|█████████████████████████                                        | 6263/16232 [00:59<01:32, 108.19it/s]"
     ]
    },
    {
     "name": "stderr",
     "output_type": "stream",
     "text": [
      "\r",
      "Iter. Sofia projections:  39%|█████████████████████████▏                                       | 6275/16232 [01:00<01:30, 109.97it/s]"
     ]
    },
    {
     "name": "stderr",
     "output_type": "stream",
     "text": [
      "\r",
      "Iter. Sofia projections:  39%|█████████████████████████▏                                       | 6287/16232 [01:00<01:32, 107.90it/s]"
     ]
    },
    {
     "name": "stderr",
     "output_type": "stream",
     "text": [
      "\r",
      "Iter. Sofia projections:  39%|█████████████████████████▏                                       | 6298/16232 [01:00<01:32, 107.52it/s]"
     ]
    },
    {
     "name": "stderr",
     "output_type": "stream",
     "text": [
      "\r",
      "Iter. Sofia projections:  39%|█████████████████████████▎                                       | 6309/16232 [01:00<01:33, 105.63it/s]"
     ]
    },
    {
     "name": "stderr",
     "output_type": "stream",
     "text": [
      "\r",
      "Iter. Sofia projections:  39%|█████████████████████████▎                                       | 6320/16232 [01:00<01:37, 101.39it/s]"
     ]
    },
    {
     "name": "stderr",
     "output_type": "stream",
     "text": [
      "\r",
      "Iter. Sofia projections:  39%|█████████████████████████▎                                       | 6331/16232 [01:00<01:37, 101.15it/s]"
     ]
    },
    {
     "name": "stderr",
     "output_type": "stream",
     "text": [
      "\r",
      "Iter. Sofia projections:  39%|█████████████████████████▍                                       | 6342/16232 [01:00<01:36, 102.68it/s]"
     ]
    },
    {
     "name": "stderr",
     "output_type": "stream",
     "text": [
      "\r",
      "Iter. Sofia projections:  39%|█████████████████████████▍                                       | 6353/16232 [01:00<01:34, 104.54it/s]"
     ]
    },
    {
     "name": "stderr",
     "output_type": "stream",
     "text": [
      "\r",
      "Iter. Sofia projections:  39%|█████████████████████████▍                                       | 6364/16232 [01:00<01:33, 105.25it/s]"
     ]
    },
    {
     "name": "stderr",
     "output_type": "stream",
     "text": [
      "\r",
      "Iter. Sofia projections:  39%|█████████████████████████▌                                       | 6376/16232 [01:01<01:32, 107.09it/s]"
     ]
    },
    {
     "name": "stderr",
     "output_type": "stream",
     "text": [
      "\r",
      "Iter. Sofia projections:  39%|█████████████████████████▌                                       | 6388/16232 [01:01<01:30, 108.71it/s]"
     ]
    },
    {
     "name": "stderr",
     "output_type": "stream",
     "text": [
      "\r",
      "Iter. Sofia projections:  39%|█████████████████████████▌                                       | 6399/16232 [01:01<01:32, 106.67it/s]"
     ]
    },
    {
     "name": "stderr",
     "output_type": "stream",
     "text": [
      "\r",
      "Iter. Sofia projections:  39%|█████████████████████████▋                                       | 6411/16232 [01:01<01:30, 108.42it/s]"
     ]
    },
    {
     "name": "stderr",
     "output_type": "stream",
     "text": [
      "\r",
      "Iter. Sofia projections:  40%|█████████████████████████▋                                       | 6423/16232 [01:01<01:29, 110.02it/s]"
     ]
    },
    {
     "name": "stderr",
     "output_type": "stream",
     "text": [
      "\r",
      "Iter. Sofia projections:  40%|█████████████████████████▊                                       | 6435/16232 [01:01<01:31, 107.43it/s]"
     ]
    },
    {
     "name": "stderr",
     "output_type": "stream",
     "text": [
      "\r",
      "Iter. Sofia projections:  40%|█████████████████████████▊                                       | 6446/16232 [01:01<01:33, 104.48it/s]"
     ]
    },
    {
     "name": "stderr",
     "output_type": "stream",
     "text": [
      "\r",
      "Iter. Sofia projections:  40%|█████████████████████████▊                                       | 6457/16232 [01:01<01:33, 104.92it/s]"
     ]
    },
    {
     "name": "stderr",
     "output_type": "stream",
     "text": [
      "\r",
      "Iter. Sofia projections:  40%|█████████████████████████▉                                       | 6468/16232 [01:01<01:34, 103.26it/s]"
     ]
    },
    {
     "name": "stderr",
     "output_type": "stream",
     "text": [
      "\r",
      "Iter. Sofia projections:  40%|█████████████████████████▉                                       | 6479/16232 [01:02<01:33, 104.80it/s]"
     ]
    },
    {
     "name": "stderr",
     "output_type": "stream",
     "text": [
      "\r",
      "Iter. Sofia projections:  40%|█████████████████████████▉                                       | 6491/16232 [01:02<01:31, 106.95it/s]"
     ]
    },
    {
     "name": "stderr",
     "output_type": "stream",
     "text": [
      "\r",
      "Iter. Sofia projections:  40%|██████████████████████████                                       | 6502/16232 [01:02<01:31, 106.32it/s]"
     ]
    },
    {
     "name": "stderr",
     "output_type": "stream",
     "text": [
      "\r",
      "Iter. Sofia projections:  40%|██████████████████████████                                       | 6513/16232 [01:02<01:32, 105.06it/s]"
     ]
    },
    {
     "name": "stderr",
     "output_type": "stream",
     "text": [
      "\r",
      "Iter. Sofia projections:  40%|██████████████████████████                                       | 6524/16232 [01:02<01:32, 104.80it/s]"
     ]
    },
    {
     "name": "stderr",
     "output_type": "stream",
     "text": [
      "\r",
      "Iter. Sofia projections:  40%|██████████████████████████▏                                      | 6535/16232 [01:02<01:31, 106.03it/s]"
     ]
    },
    {
     "name": "stderr",
     "output_type": "stream",
     "text": [
      "\r",
      "Iter. Sofia projections:  40%|██████████████████████████▏                                      | 6546/16232 [01:02<01:30, 106.62it/s]"
     ]
    },
    {
     "name": "stderr",
     "output_type": "stream",
     "text": [
      "\r",
      "Iter. Sofia projections:  40%|██████████████████████████▎                                      | 6557/16232 [01:02<01:30, 106.63it/s]"
     ]
    },
    {
     "name": "stderr",
     "output_type": "stream",
     "text": [
      "\r",
      "Iter. Sofia projections:  40%|██████████████████████████▎                                      | 6568/16232 [01:02<01:33, 103.32it/s]"
     ]
    },
    {
     "name": "stderr",
     "output_type": "stream",
     "text": [
      "\r",
      "Iter. Sofia projections:  41%|██████████████████████████▎                                      | 6580/16232 [01:02<01:31, 105.61it/s]"
     ]
    },
    {
     "name": "stderr",
     "output_type": "stream",
     "text": [
      "\r",
      "Iter. Sofia projections:  41%|██████████████████████████▍                                      | 6591/16232 [01:03<01:31, 105.40it/s]"
     ]
    },
    {
     "name": "stderr",
     "output_type": "stream",
     "text": [
      "\r",
      "Iter. Sofia projections:  41%|██████████████████████████▍                                      | 6603/16232 [01:03<01:29, 107.19it/s]"
     ]
    },
    {
     "name": "stderr",
     "output_type": "stream",
     "text": [
      "\r",
      "Iter. Sofia projections:  41%|██████████████████████████▍                                      | 6614/16232 [01:03<01:30, 106.25it/s]"
     ]
    },
    {
     "name": "stderr",
     "output_type": "stream",
     "text": [
      "\r",
      "Iter. Sofia projections:  41%|██████████████████████████▌                                      | 6626/16232 [01:03<01:28, 108.05it/s]"
     ]
    },
    {
     "name": "stderr",
     "output_type": "stream",
     "text": [
      "\r",
      "Iter. Sofia projections:  41%|██████████████████████████▌                                      | 6638/16232 [01:03<01:27, 110.00it/s]"
     ]
    },
    {
     "name": "stderr",
     "output_type": "stream",
     "text": [
      "\r",
      "Iter. Sofia projections:  41%|██████████████████████████▋                                      | 6650/16232 [01:03<01:26, 110.41it/s]"
     ]
    },
    {
     "name": "stderr",
     "output_type": "stream",
     "text": [
      "\r",
      "Iter. Sofia projections:  41%|██████████████████████████▋                                      | 6662/16232 [01:03<01:27, 108.98it/s]"
     ]
    },
    {
     "name": "stderr",
     "output_type": "stream",
     "text": [
      "\r",
      "Iter. Sofia projections:  41%|██████████████████████████▋                                      | 6674/16232 [01:03<01:27, 109.49it/s]"
     ]
    },
    {
     "name": "stderr",
     "output_type": "stream",
     "text": [
      "\r",
      "Iter. Sofia projections:  41%|██████████████████████████▊                                      | 6685/16232 [01:03<01:31, 104.43it/s]"
     ]
    },
    {
     "name": "stderr",
     "output_type": "stream",
     "text": [
      "\r",
      "Iter. Sofia projections:  41%|██████████████████████████▊                                      | 6696/16232 [01:04<01:34, 100.39it/s]"
     ]
    },
    {
     "name": "stderr",
     "output_type": "stream",
     "text": [
      "\r",
      "Iter. Sofia projections:  41%|██████████████████████████▊                                      | 6707/16232 [01:04<01:33, 101.39it/s]"
     ]
    },
    {
     "name": "stderr",
     "output_type": "stream",
     "text": [
      "\r",
      "Iter. Sofia projections:  41%|██████████████████████████▉                                      | 6719/16232 [01:04<01:31, 104.08it/s]"
     ]
    },
    {
     "name": "stderr",
     "output_type": "stream",
     "text": [
      "\r",
      "Iter. Sofia projections:  41%|██████████████████████████▉                                      | 6731/16232 [01:04<01:28, 107.41it/s]"
     ]
    },
    {
     "name": "stderr",
     "output_type": "stream",
     "text": [
      "\r",
      "Iter. Sofia projections:  42%|███████████████████████████                                      | 6743/16232 [01:04<01:26, 110.07it/s]"
     ]
    },
    {
     "name": "stderr",
     "output_type": "stream",
     "text": [
      "\r",
      "Iter. Sofia projections:  42%|███████████████████████████                                      | 6756/16232 [01:04<01:22, 114.62it/s]"
     ]
    },
    {
     "name": "stderr",
     "output_type": "stream",
     "text": [
      "\r",
      "Iter. Sofia projections:  42%|███████████████████████████                                      | 6769/16232 [01:04<01:20, 117.63it/s]"
     ]
    },
    {
     "name": "stderr",
     "output_type": "stream",
     "text": [
      "\r",
      "Iter. Sofia projections:  42%|███████████████████████████▏                                     | 6782/16232 [01:04<01:18, 119.89it/s]"
     ]
    },
    {
     "name": "stderr",
     "output_type": "stream",
     "text": [
      "\r",
      "Iter. Sofia projections:  42%|███████████████████████████▏                                     | 6795/16232 [01:04<01:19, 118.92it/s]"
     ]
    },
    {
     "name": "stderr",
     "output_type": "stream",
     "text": [
      "\r",
      "Iter. Sofia projections:  42%|███████████████████████████▎                                     | 6808/16232 [01:05<01:18, 119.89it/s]"
     ]
    },
    {
     "name": "stderr",
     "output_type": "stream",
     "text": [
      "\r",
      "Iter. Sofia projections:  42%|███████████████████████████▎                                     | 6821/16232 [01:05<01:18, 120.23it/s]"
     ]
    },
    {
     "name": "stderr",
     "output_type": "stream",
     "text": [
      "\r",
      "Iter. Sofia projections:  42%|███████████████████████████▎                                     | 6834/16232 [01:05<01:24, 111.04it/s]"
     ]
    },
    {
     "name": "stderr",
     "output_type": "stream",
     "text": [
      "\r",
      "Iter. Sofia projections:  42%|███████████████████████████▍                                     | 6846/16232 [01:05<01:24, 111.03it/s]"
     ]
    },
    {
     "name": "stderr",
     "output_type": "stream",
     "text": [
      "\r",
      "Iter. Sofia projections:  42%|███████████████████████████▍                                     | 6858/16232 [01:05<01:24, 110.83it/s]"
     ]
    },
    {
     "name": "stderr",
     "output_type": "stream",
     "text": [
      "\r",
      "Iter. Sofia projections:  42%|███████████████████████████▌                                     | 6870/16232 [01:05<01:24, 110.35it/s]"
     ]
    },
    {
     "name": "stderr",
     "output_type": "stream",
     "text": [
      "\r",
      "Iter. Sofia projections:  42%|███████████████████████████▌                                     | 6882/16232 [01:05<01:24, 110.37it/s]"
     ]
    },
    {
     "name": "stderr",
     "output_type": "stream",
     "text": [
      "\r",
      "Iter. Sofia projections:  42%|███████████████████████████▌                                     | 6894/16232 [01:05<01:25, 109.49it/s]"
     ]
    },
    {
     "name": "stderr",
     "output_type": "stream",
     "text": [
      "\r",
      "Iter. Sofia projections:  43%|███████████████████████████▋                                     | 6906/16232 [01:05<01:23, 111.66it/s]"
     ]
    },
    {
     "name": "stderr",
     "output_type": "stream",
     "text": [
      "\r",
      "Iter. Sofia projections:  43%|███████████████████████████▋                                     | 6918/16232 [01:06<01:22, 112.84it/s]"
     ]
    },
    {
     "name": "stderr",
     "output_type": "stream",
     "text": [
      "\r",
      "Iter. Sofia projections:  43%|███████████████████████████▊                                     | 6930/16232 [01:06<01:21, 114.16it/s]"
     ]
    },
    {
     "name": "stderr",
     "output_type": "stream",
     "text": [
      "\r",
      "Iter. Sofia projections:  43%|███████████████████████████▊                                     | 6942/16232 [01:06<01:23, 111.49it/s]"
     ]
    },
    {
     "name": "stderr",
     "output_type": "stream",
     "text": [
      "\r",
      "Iter. Sofia projections:  43%|███████████████████████████▊                                     | 6954/16232 [01:06<01:26, 107.34it/s]"
     ]
    },
    {
     "name": "stderr",
     "output_type": "stream",
     "text": [
      "\r",
      "Iter. Sofia projections:  43%|███████████████████████████▉                                     | 6965/16232 [01:06<01:28, 104.94it/s]"
     ]
    },
    {
     "name": "stderr",
     "output_type": "stream",
     "text": [
      "\r",
      "Iter. Sofia projections:  43%|███████████████████████████▉                                     | 6977/16232 [01:06<01:26, 107.58it/s]"
     ]
    },
    {
     "name": "stderr",
     "output_type": "stream",
     "text": [
      "\r",
      "Iter. Sofia projections:  43%|███████████████████████████▉                                     | 6988/16232 [01:06<01:25, 107.64it/s]"
     ]
    },
    {
     "name": "stderr",
     "output_type": "stream",
     "text": [
      "\r",
      "Iter. Sofia projections:  43%|████████████████████████████                                     | 6999/16232 [01:06<01:27, 106.10it/s]"
     ]
    },
    {
     "name": "stderr",
     "output_type": "stream",
     "text": [
      "\r",
      "Iter. Sofia projections:  43%|████████████████████████████                                     | 7011/16232 [01:06<01:25, 107.92it/s]"
     ]
    },
    {
     "name": "stderr",
     "output_type": "stream",
     "text": [
      "\r",
      "Iter. Sofia projections:  43%|████████████████████████████                                     | 7022/16232 [01:06<01:25, 107.64it/s]"
     ]
    },
    {
     "name": "stderr",
     "output_type": "stream",
     "text": [
      "\r",
      "Iter. Sofia projections:  43%|████████████████████████████▏                                    | 7034/16232 [01:07<01:24, 109.40it/s]"
     ]
    },
    {
     "name": "stderr",
     "output_type": "stream",
     "text": [
      "\r",
      "Iter. Sofia projections:  43%|████████████████████████████▏                                    | 7046/16232 [01:07<01:23, 109.90it/s]"
     ]
    },
    {
     "name": "stderr",
     "output_type": "stream",
     "text": [
      "\r",
      "Iter. Sofia projections:  43%|████████████████████████████▎                                    | 7057/16232 [01:07<01:24, 108.64it/s]"
     ]
    },
    {
     "name": "stderr",
     "output_type": "stream",
     "text": [
      "\r",
      "Iter. Sofia projections:  44%|████████████████████████████▎                                    | 7068/16232 [01:07<01:24, 108.89it/s]"
     ]
    },
    {
     "name": "stderr",
     "output_type": "stream",
     "text": [
      "\r",
      "Iter. Sofia projections:  44%|████████████████████████████▎                                    | 7079/16232 [01:07<01:25, 106.64it/s]"
     ]
    },
    {
     "name": "stderr",
     "output_type": "stream",
     "text": [
      "\r",
      "Iter. Sofia projections:  44%|████████████████████████████▍                                    | 7090/16232 [01:07<01:29, 102.48it/s]"
     ]
    },
    {
     "name": "stderr",
     "output_type": "stream",
     "text": [
      "\r",
      "Iter. Sofia projections:  44%|████████████████████████████▍                                    | 7101/16232 [01:07<01:27, 104.14it/s]"
     ]
    },
    {
     "name": "stderr",
     "output_type": "stream",
     "text": [
      "\r",
      "Iter. Sofia projections:  44%|████████████████████████████▍                                    | 7113/16232 [01:07<01:26, 105.64it/s]"
     ]
    },
    {
     "name": "stderr",
     "output_type": "stream",
     "text": [
      "\r",
      "Iter. Sofia projections:  44%|████████████████████████████▌                                    | 7124/16232 [01:07<01:26, 105.90it/s]"
     ]
    },
    {
     "name": "stderr",
     "output_type": "stream",
     "text": [
      "\r",
      "Iter. Sofia projections:  44%|████████████████████████████▌                                    | 7136/16232 [01:08<01:24, 107.96it/s]"
     ]
    },
    {
     "name": "stderr",
     "output_type": "stream",
     "text": [
      "\r",
      "Iter. Sofia projections:  44%|████████████████████████████▌                                    | 7148/16232 [01:08<01:21, 111.02it/s]"
     ]
    },
    {
     "name": "stderr",
     "output_type": "stream",
     "text": [
      "\r",
      "Iter. Sofia projections:  44%|████████████████████████████▋                                    | 7160/16232 [01:08<01:22, 109.43it/s]"
     ]
    },
    {
     "name": "stderr",
     "output_type": "stream",
     "text": [
      "\r",
      "Iter. Sofia projections:  44%|████████████████████████████▋                                    | 7172/16232 [01:08<01:22, 110.17it/s]"
     ]
    },
    {
     "name": "stderr",
     "output_type": "stream",
     "text": [
      "\r",
      "Iter. Sofia projections:  44%|████████████████████████████▊                                    | 7184/16232 [01:08<01:25, 106.32it/s]"
     ]
    },
    {
     "name": "stderr",
     "output_type": "stream",
     "text": [
      "\r",
      "Iter. Sofia projections:  44%|████████████████████████████▊                                    | 7195/16232 [01:08<01:25, 106.17it/s]"
     ]
    },
    {
     "name": "stderr",
     "output_type": "stream",
     "text": [
      "\r",
      "Iter. Sofia projections:  44%|████████████████████████████▊                                    | 7206/16232 [01:08<01:27, 102.77it/s]"
     ]
    },
    {
     "name": "stderr",
     "output_type": "stream",
     "text": [
      "\r",
      "Iter. Sofia projections:  44%|████████████████████████████▉                                    | 7217/16232 [01:08<01:30, 100.15it/s]"
     ]
    },
    {
     "name": "stderr",
     "output_type": "stream",
     "text": [
      "\r",
      "Iter. Sofia projections:  45%|████████████████████████████▉                                    | 7228/16232 [01:08<01:27, 102.42it/s]"
     ]
    },
    {
     "name": "stderr",
     "output_type": "stream",
     "text": [
      "\r",
      "Iter. Sofia projections:  45%|████████████████████████████▉                                    | 7239/16232 [01:09<01:27, 102.87it/s]"
     ]
    },
    {
     "name": "stderr",
     "output_type": "stream",
     "text": [
      "\r",
      "Iter. Sofia projections:  45%|█████████████████████████████                                    | 7250/16232 [01:09<01:26, 104.31it/s]"
     ]
    },
    {
     "name": "stderr",
     "output_type": "stream",
     "text": [
      "\r",
      "Iter. Sofia projections:  45%|█████████████████████████████                                    | 7261/16232 [01:09<01:25, 104.77it/s]"
     ]
    },
    {
     "name": "stderr",
     "output_type": "stream",
     "text": [
      "\r",
      "Iter. Sofia projections:  45%|█████████████████████████████                                    | 7272/16232 [01:09<01:24, 105.46it/s]"
     ]
    },
    {
     "name": "stderr",
     "output_type": "stream",
     "text": [
      "\r",
      "Iter. Sofia projections:  45%|█████████████████████████████▏                                   | 7284/16232 [01:09<01:23, 107.07it/s]"
     ]
    },
    {
     "name": "stderr",
     "output_type": "stream",
     "text": [
      "\r",
      "Iter. Sofia projections:  45%|█████████████████████████████▏                                   | 7295/16232 [01:09<01:23, 106.69it/s]"
     ]
    },
    {
     "name": "stderr",
     "output_type": "stream",
     "text": [
      "\r",
      "Iter. Sofia projections:  45%|█████████████████████████████▎                                   | 7306/16232 [01:09<01:24, 105.25it/s]"
     ]
    },
    {
     "name": "stderr",
     "output_type": "stream",
     "text": [
      "\r",
      "Iter. Sofia projections:  45%|█████████████████████████████▎                                   | 7317/16232 [01:09<01:25, 104.56it/s]"
     ]
    },
    {
     "name": "stderr",
     "output_type": "stream",
     "text": [
      "\r",
      "Iter. Sofia projections:  45%|█████████████████████████████▎                                   | 7328/16232 [01:09<01:27, 101.66it/s]"
     ]
    },
    {
     "name": "stderr",
     "output_type": "stream",
     "text": [
      "\r",
      "Iter. Sofia projections:  45%|█████████████████████████████▍                                   | 7339/16232 [01:09<01:26, 102.32it/s]"
     ]
    },
    {
     "name": "stderr",
     "output_type": "stream",
     "text": [
      "\r",
      "Iter. Sofia projections:  45%|█████████████████████████████▍                                   | 7350/16232 [01:10<01:26, 102.73it/s]"
     ]
    },
    {
     "name": "stderr",
     "output_type": "stream",
     "text": [
      "\r",
      "Iter. Sofia projections:  45%|█████████████████████████████▍                                   | 7361/16232 [01:10<01:28, 100.39it/s]"
     ]
    },
    {
     "name": "stderr",
     "output_type": "stream",
     "text": [
      "\r",
      "Iter. Sofia projections:  45%|█████████████████████████████▌                                   | 7372/16232 [01:10<01:26, 102.02it/s]"
     ]
    },
    {
     "name": "stderr",
     "output_type": "stream",
     "text": [
      "\r",
      "Iter. Sofia projections:  45%|█████████████████████████████▌                                   | 7383/16232 [01:10<01:25, 103.16it/s]"
     ]
    },
    {
     "name": "stderr",
     "output_type": "stream",
     "text": [
      "\r",
      "Iter. Sofia projections:  46%|█████████████████████████████▌                                   | 7394/16232 [01:10<01:25, 103.68it/s]"
     ]
    },
    {
     "name": "stderr",
     "output_type": "stream",
     "text": [
      "\r",
      "Iter. Sofia projections:  46%|█████████████████████████████▋                                   | 7405/16232 [01:10<01:24, 104.98it/s]"
     ]
    },
    {
     "name": "stderr",
     "output_type": "stream",
     "text": [
      "\r",
      "Iter. Sofia projections:  46%|█████████████████████████████▋                                   | 7416/16232 [01:10<01:23, 105.87it/s]"
     ]
    },
    {
     "name": "stderr",
     "output_type": "stream",
     "text": [
      "\r",
      "Iter. Sofia projections:  46%|█████████████████████████████▋                                   | 7427/16232 [01:10<01:24, 104.28it/s]"
     ]
    },
    {
     "name": "stderr",
     "output_type": "stream",
     "text": [
      "\r",
      "Iter. Sofia projections:  46%|█████████████████████████████▊                                   | 7438/16232 [01:10<01:25, 103.12it/s]"
     ]
    },
    {
     "name": "stderr",
     "output_type": "stream",
     "text": [
      "\r",
      "Iter. Sofia projections:  46%|█████████████████████████████▊                                   | 7449/16232 [01:11<01:26, 101.27it/s]"
     ]
    },
    {
     "name": "stderr",
     "output_type": "stream",
     "text": [
      "\r",
      "Iter. Sofia projections:  46%|█████████████████████████████▊                                   | 7460/16232 [01:11<01:25, 102.81it/s]"
     ]
    },
    {
     "name": "stderr",
     "output_type": "stream",
     "text": [
      "\r",
      "Iter. Sofia projections:  46%|█████████████████████████████▉                                   | 7471/16232 [01:11<01:25, 102.24it/s]"
     ]
    },
    {
     "name": "stderr",
     "output_type": "stream",
     "text": [
      "\r",
      "Iter. Sofia projections:  46%|█████████████████████████████▉                                   | 7482/16232 [01:11<01:25, 102.93it/s]"
     ]
    },
    {
     "name": "stderr",
     "output_type": "stream",
     "text": [
      "\r",
      "Iter. Sofia projections:  46%|██████████████████████████████                                   | 7493/16232 [01:11<01:25, 101.78it/s]"
     ]
    },
    {
     "name": "stderr",
     "output_type": "stream",
     "text": [
      "\r",
      "Iter. Sofia projections:  46%|██████████████████████████████                                   | 7504/16232 [01:11<01:24, 102.93it/s]"
     ]
    },
    {
     "name": "stderr",
     "output_type": "stream",
     "text": [
      "\r",
      "Iter. Sofia projections:  46%|██████████████████████████████                                   | 7515/16232 [01:11<01:25, 101.62it/s]"
     ]
    },
    {
     "name": "stderr",
     "output_type": "stream",
     "text": [
      "\r",
      "Iter. Sofia projections:  46%|██████████████████████████████▏                                  | 7526/16232 [01:11<01:24, 103.12it/s]"
     ]
    },
    {
     "name": "stderr",
     "output_type": "stream",
     "text": [
      "\r",
      "Iter. Sofia projections:  46%|██████████████████████████████▏                                  | 7537/16232 [01:11<01:24, 103.37it/s]"
     ]
    },
    {
     "name": "stderr",
     "output_type": "stream",
     "text": [
      "\r",
      "Iter. Sofia projections:  47%|██████████████████████████████▏                                  | 7548/16232 [01:12<01:23, 103.64it/s]"
     ]
    },
    {
     "name": "stderr",
     "output_type": "stream",
     "text": [
      "\r",
      "Iter. Sofia projections:  47%|██████████████████████████████▎                                  | 7559/16232 [01:12<01:23, 103.88it/s]"
     ]
    },
    {
     "name": "stderr",
     "output_type": "stream",
     "text": [
      "\r",
      "Iter. Sofia projections:  47%|██████████████████████████████▎                                  | 7570/16232 [01:12<01:24, 102.87it/s]"
     ]
    },
    {
     "name": "stderr",
     "output_type": "stream",
     "text": [
      "\r",
      "Iter. Sofia projections:  47%|██████████████████████████████▎                                  | 7581/16232 [01:12<01:23, 103.81it/s]"
     ]
    },
    {
     "name": "stderr",
     "output_type": "stream",
     "text": [
      "\r",
      "Iter. Sofia projections:  47%|██████████████████████████████▍                                  | 7592/16232 [01:12<01:24, 102.26it/s]"
     ]
    },
    {
     "name": "stderr",
     "output_type": "stream",
     "text": [
      "\r",
      "Iter. Sofia projections:  47%|██████████████████████████████▍                                  | 7603/16232 [01:12<01:22, 104.07it/s]"
     ]
    },
    {
     "name": "stderr",
     "output_type": "stream",
     "text": [
      "\r",
      "Iter. Sofia projections:  47%|██████████████████████████████▍                                  | 7614/16232 [01:12<01:24, 102.37it/s]"
     ]
    },
    {
     "name": "stderr",
     "output_type": "stream",
     "text": [
      "\r",
      "Iter. Sofia projections:  47%|██████████████████████████████▌                                  | 7625/16232 [01:12<01:24, 102.23it/s]"
     ]
    },
    {
     "name": "stderr",
     "output_type": "stream",
     "text": [
      "\r",
      "Iter. Sofia projections:  47%|██████████████████████████████▌                                  | 7636/16232 [01:12<01:23, 102.77it/s]"
     ]
    },
    {
     "name": "stderr",
     "output_type": "stream",
     "text": [
      "\r",
      "Iter. Sofia projections:  47%|██████████████████████████████▌                                  | 7647/16232 [01:12<01:23, 103.34it/s]"
     ]
    },
    {
     "name": "stderr",
     "output_type": "stream",
     "text": [
      "\r",
      "Iter. Sofia projections:  47%|██████████████████████████████▋                                  | 7658/16232 [01:13<01:22, 104.38it/s]"
     ]
    },
    {
     "name": "stderr",
     "output_type": "stream",
     "text": [
      "\r",
      "Iter. Sofia projections:  47%|██████████████████████████████▋                                  | 7669/16232 [01:13<01:23, 102.54it/s]"
     ]
    },
    {
     "name": "stderr",
     "output_type": "stream",
     "text": [
      "\r",
      "Iter. Sofia projections:  47%|███████████████████████████████▏                                  | 7680/16232 [01:13<01:26, 98.69it/s]"
     ]
    },
    {
     "name": "stderr",
     "output_type": "stream",
     "text": [
      "\r",
      "Iter. Sofia projections:  47%|███████████████████████████████▎                                  | 7691/16232 [01:13<01:25, 99.99it/s]"
     ]
    },
    {
     "name": "stderr",
     "output_type": "stream",
     "text": [
      "\r",
      "Iter. Sofia projections:  47%|██████████████████████████████▊                                  | 7702/16232 [01:13<01:23, 101.68it/s]"
     ]
    },
    {
     "name": "stderr",
     "output_type": "stream",
     "text": [
      "\r",
      "Iter. Sofia projections:  48%|██████████████████████████████▉                                  | 7713/16232 [01:13<01:22, 103.01it/s]"
     ]
    },
    {
     "name": "stderr",
     "output_type": "stream",
     "text": [
      "\r",
      "Iter. Sofia projections:  48%|██████████████████████████████▉                                  | 7725/16232 [01:13<01:20, 105.53it/s]"
     ]
    },
    {
     "name": "stderr",
     "output_type": "stream",
     "text": [
      "\r",
      "Iter. Sofia projections:  48%|██████████████████████████████▉                                  | 7736/16232 [01:13<01:19, 106.69it/s]"
     ]
    },
    {
     "name": "stderr",
     "output_type": "stream",
     "text": [
      "\r",
      "Iter. Sofia projections:  48%|███████████████████████████████                                  | 7747/16232 [01:13<01:20, 105.87it/s]"
     ]
    },
    {
     "name": "stderr",
     "output_type": "stream",
     "text": [
      "\r",
      "Iter. Sofia projections:  48%|███████████████████████████████                                  | 7758/16232 [01:14<01:21, 104.51it/s]"
     ]
    },
    {
     "name": "stderr",
     "output_type": "stream",
     "text": [
      "\r",
      "Iter. Sofia projections:  48%|███████████████████████████████                                  | 7769/16232 [01:14<01:21, 103.63it/s]"
     ]
    },
    {
     "name": "stderr",
     "output_type": "stream",
     "text": [
      "\r",
      "Iter. Sofia projections:  48%|███████████████████████████████▏                                 | 7780/16232 [01:14<01:20, 104.71it/s]"
     ]
    },
    {
     "name": "stderr",
     "output_type": "stream",
     "text": [
      "\r",
      "Iter. Sofia projections:  48%|███████████████████████████████▏                                 | 7791/16232 [01:14<01:20, 105.17it/s]"
     ]
    },
    {
     "name": "stderr",
     "output_type": "stream",
     "text": [
      "\r",
      "Iter. Sofia projections:  48%|███████████████████████████████▏                                 | 7802/16232 [01:14<01:20, 104.87it/s]"
     ]
    },
    {
     "name": "stderr",
     "output_type": "stream",
     "text": [
      "\r",
      "Iter. Sofia projections:  48%|███████████████████████████████▎                                 | 7813/16232 [01:14<01:21, 103.93it/s]"
     ]
    },
    {
     "name": "stderr",
     "output_type": "stream",
     "text": [
      "\r",
      "Iter. Sofia projections:  48%|███████████████████████████████▎                                 | 7825/16232 [01:14<01:19, 106.23it/s]"
     ]
    },
    {
     "name": "stderr",
     "output_type": "stream",
     "text": [
      "\r",
      "Iter. Sofia projections:  48%|███████████████████████████████▍                                 | 7837/16232 [01:14<01:17, 108.12it/s]"
     ]
    },
    {
     "name": "stderr",
     "output_type": "stream",
     "text": [
      "\r",
      "Iter. Sofia projections:  48%|███████████████████████████████▍                                 | 7849/16232 [01:14<01:16, 110.07it/s]"
     ]
    },
    {
     "name": "stderr",
     "output_type": "stream",
     "text": [
      "\r",
      "Iter. Sofia projections:  48%|███████████████████████████████▍                                 | 7861/16232 [01:15<01:15, 111.54it/s]"
     ]
    },
    {
     "name": "stderr",
     "output_type": "stream",
     "text": [
      "\r",
      "Iter. Sofia projections:  49%|███████████████████████████████▌                                 | 7873/16232 [01:15<01:15, 111.16it/s]"
     ]
    },
    {
     "name": "stderr",
     "output_type": "stream",
     "text": [
      "\r",
      "Iter. Sofia projections:  49%|███████████████████████████████▌                                 | 7885/16232 [01:15<01:16, 109.70it/s]"
     ]
    },
    {
     "name": "stderr",
     "output_type": "stream",
     "text": [
      "\r",
      "Iter. Sofia projections:  49%|███████████████████████████████▌                                 | 7896/16232 [01:15<01:17, 107.86it/s]"
     ]
    },
    {
     "name": "stderr",
     "output_type": "stream",
     "text": [
      "\r",
      "Iter. Sofia projections:  49%|███████████████████████████████▋                                 | 7907/16232 [01:15<01:17, 107.58it/s]"
     ]
    },
    {
     "name": "stderr",
     "output_type": "stream",
     "text": [
      "\r",
      "Iter. Sofia projections:  49%|███████████████████████████████▋                                 | 7918/16232 [01:15<01:17, 106.62it/s]"
     ]
    },
    {
     "name": "stderr",
     "output_type": "stream",
     "text": [
      "\r",
      "Iter. Sofia projections:  49%|███████████████████████████████▊                                 | 7929/16232 [01:15<01:21, 101.63it/s]"
     ]
    },
    {
     "name": "stderr",
     "output_type": "stream",
     "text": [
      "\r",
      "Iter. Sofia projections:  49%|███████████████████████████████▊                                 | 7940/16232 [01:15<01:22, 100.49it/s]"
     ]
    },
    {
     "name": "stderr",
     "output_type": "stream",
     "text": [
      "\r",
      "Iter. Sofia projections:  49%|███████████████████████████████▊                                 | 7951/16232 [01:15<01:22, 100.60it/s]"
     ]
    },
    {
     "name": "stderr",
     "output_type": "stream",
     "text": [
      "\r",
      "Iter. Sofia projections:  49%|███████████████████████████████▉                                 | 7962/16232 [01:15<01:21, 101.00it/s]"
     ]
    },
    {
     "name": "stderr",
     "output_type": "stream",
     "text": [
      "\r",
      "Iter. Sofia projections:  49%|███████████████████████████████▉                                 | 7973/16232 [01:16<01:22, 100.70it/s]"
     ]
    },
    {
     "name": "stderr",
     "output_type": "stream",
     "text": [
      "\r",
      "Iter. Sofia projections:  49%|███████████████████████████████▉                                 | 7984/16232 [01:16<01:21, 101.50it/s]"
     ]
    },
    {
     "name": "stderr",
     "output_type": "stream",
     "text": [
      "\r",
      "Iter. Sofia projections:  49%|████████████████████████████████                                 | 7995/16232 [01:16<01:19, 103.21it/s]"
     ]
    },
    {
     "name": "stderr",
     "output_type": "stream",
     "text": [
      "\r",
      "Iter. Sofia projections:  49%|████████████████████████████████                                 | 8006/16232 [01:16<01:18, 104.24it/s]"
     ]
    },
    {
     "name": "stderr",
     "output_type": "stream",
     "text": [
      "\r",
      "Iter. Sofia projections:  49%|████████████████████████████████                                 | 8017/16232 [01:16<01:18, 105.31it/s]"
     ]
    },
    {
     "name": "stderr",
     "output_type": "stream",
     "text": [
      "\r",
      "Iter. Sofia projections:  49%|████████████████████████████████▏                                | 8028/16232 [01:16<01:17, 106.28it/s]"
     ]
    },
    {
     "name": "stderr",
     "output_type": "stream",
     "text": [
      "\r",
      "Iter. Sofia projections:  50%|████████████████████████████████▏                                | 8039/16232 [01:16<01:18, 104.75it/s]"
     ]
    },
    {
     "name": "stderr",
     "output_type": "stream",
     "text": [
      "\r",
      "Iter. Sofia projections:  50%|████████████████████████████████▏                                | 8050/16232 [01:16<01:18, 104.50it/s]"
     ]
    },
    {
     "name": "stderr",
     "output_type": "stream",
     "text": [
      "\r",
      "Iter. Sofia projections:  50%|████████████████████████████████▎                                | 8061/16232 [01:16<01:19, 102.55it/s]"
     ]
    },
    {
     "name": "stderr",
     "output_type": "stream",
     "text": [
      "\r",
      "Iter. Sofia projections:  50%|████████████████████████████████▎                                | 8072/16232 [01:17<01:18, 103.48it/s]"
     ]
    },
    {
     "name": "stderr",
     "output_type": "stream",
     "text": [
      "\r",
      "Iter. Sofia projections:  50%|████████████████████████████████▎                                | 8083/16232 [01:17<01:19, 103.14it/s]"
     ]
    },
    {
     "name": "stderr",
     "output_type": "stream",
     "text": [
      "\r",
      "Iter. Sofia projections:  50%|████████████████████████████████▍                                | 8094/16232 [01:17<01:18, 103.03it/s]"
     ]
    },
    {
     "name": "stderr",
     "output_type": "stream",
     "text": [
      "\r",
      "Iter. Sofia projections:  50%|████████████████████████████████▍                                | 8105/16232 [01:17<01:18, 103.64it/s]"
     ]
    },
    {
     "name": "stderr",
     "output_type": "stream",
     "text": [
      "\r",
      "Iter. Sofia projections:  50%|████████████████████████████████▌                                | 8116/16232 [01:17<01:18, 103.56it/s]"
     ]
    },
    {
     "name": "stderr",
     "output_type": "stream",
     "text": [
      "\r",
      "Iter. Sofia projections:  50%|████████████████████████████████▌                                | 8127/16232 [01:17<01:18, 103.30it/s]"
     ]
    },
    {
     "name": "stderr",
     "output_type": "stream",
     "text": [
      "\r",
      "Iter. Sofia projections:  50%|████████████████████████████████▌                                | 8138/16232 [01:17<01:17, 103.97it/s]"
     ]
    },
    {
     "name": "stderr",
     "output_type": "stream",
     "text": [
      "\r",
      "Iter. Sofia projections:  50%|████████████████████████████████▋                                | 8149/16232 [01:17<01:17, 104.18it/s]"
     ]
    },
    {
     "name": "stderr",
     "output_type": "stream",
     "text": [
      "\r",
      "Iter. Sofia projections:  50%|████████████████████████████████▋                                | 8160/16232 [01:17<01:17, 103.56it/s]"
     ]
    },
    {
     "name": "stderr",
     "output_type": "stream",
     "text": [
      "\r",
      "Iter. Sofia projections:  50%|████████████████████████████████▋                                | 8171/16232 [01:18<01:18, 103.01it/s]"
     ]
    },
    {
     "name": "stderr",
     "output_type": "stream",
     "text": [
      "\r",
      "Iter. Sofia projections:  50%|█████████████████████████████████▎                                | 8182/16232 [01:18<01:21, 98.77it/s]"
     ]
    },
    {
     "name": "stderr",
     "output_type": "stream",
     "text": [
      "\r",
      "Iter. Sofia projections:  50%|████████████████████████████████▊                                | 8193/16232 [01:18<01:20, 100.05it/s]"
     ]
    },
    {
     "name": "stderr",
     "output_type": "stream",
     "text": [
      "\r",
      "Iter. Sofia projections:  51%|████████████████████████████████▊                                | 8204/16232 [01:18<01:18, 102.76it/s]"
     ]
    },
    {
     "name": "stderr",
     "output_type": "stream",
     "text": [
      "\r",
      "Iter. Sofia projections:  51%|████████████████████████████████▉                                | 8215/16232 [01:18<01:16, 104.34it/s]"
     ]
    },
    {
     "name": "stderr",
     "output_type": "stream",
     "text": [
      "\r",
      "Iter. Sofia projections:  51%|████████████████████████████████▉                                | 8226/16232 [01:18<01:17, 103.56it/s]"
     ]
    },
    {
     "name": "stderr",
     "output_type": "stream",
     "text": [
      "\r",
      "Iter. Sofia projections:  51%|████████████████████████████████▉                                | 8237/16232 [01:18<01:16, 103.99it/s]"
     ]
    },
    {
     "name": "stderr",
     "output_type": "stream",
     "text": [
      "\r",
      "Iter. Sofia projections:  51%|█████████████████████████████████                                | 8249/16232 [01:18<01:14, 106.75it/s]"
     ]
    },
    {
     "name": "stderr",
     "output_type": "stream",
     "text": [
      "\r",
      "Iter. Sofia projections:  51%|█████████████████████████████████                                | 8261/16232 [01:18<01:13, 108.09it/s]"
     ]
    },
    {
     "name": "stderr",
     "output_type": "stream",
     "text": [
      "\r",
      "Iter. Sofia projections:  51%|█████████████████████████████████▏                               | 8273/16232 [01:18<01:13, 108.04it/s]"
     ]
    },
    {
     "name": "stderr",
     "output_type": "stream",
     "text": [
      "\r",
      "Iter. Sofia projections:  51%|█████████████████████████████████▏                               | 8284/16232 [01:19<01:13, 107.89it/s]"
     ]
    },
    {
     "name": "stderr",
     "output_type": "stream",
     "text": [
      "\r",
      "Iter. Sofia projections:  51%|█████████████████████████████████▏                               | 8295/16232 [01:19<01:14, 106.06it/s]"
     ]
    },
    {
     "name": "stderr",
     "output_type": "stream",
     "text": [
      "\r",
      "Iter. Sofia projections:  51%|█████████████████████████████████▎                               | 8306/16232 [01:19<01:17, 102.58it/s]"
     ]
    },
    {
     "name": "stderr",
     "output_type": "stream",
     "text": [
      "\r",
      "Iter. Sofia projections:  51%|█████████████████████████████████▎                               | 8317/16232 [01:19<01:16, 103.81it/s]"
     ]
    },
    {
     "name": "stderr",
     "output_type": "stream",
     "text": [
      "\r",
      "Iter. Sofia projections:  51%|█████████████████████████████████▎                               | 8329/16232 [01:19<01:14, 106.44it/s]"
     ]
    },
    {
     "name": "stderr",
     "output_type": "stream",
     "text": [
      "\r",
      "Iter. Sofia projections:  51%|█████████████████████████████████▍                               | 8340/16232 [01:19<01:13, 106.93it/s]"
     ]
    },
    {
     "name": "stderr",
     "output_type": "stream",
     "text": [
      "\r",
      "Iter. Sofia projections:  51%|█████████████████████████████████▍                               | 8352/16232 [01:19<01:12, 108.25it/s]"
     ]
    },
    {
     "name": "stderr",
     "output_type": "stream",
     "text": [
      "\r",
      "Iter. Sofia projections:  52%|█████████████████████████████████▍                               | 8363/16232 [01:19<01:16, 103.00it/s]"
     ]
    },
    {
     "name": "stderr",
     "output_type": "stream",
     "text": [
      "\r",
      "Iter. Sofia projections:  52%|█████████████████████████████████▌                               | 8374/16232 [01:19<01:16, 103.15it/s]"
     ]
    },
    {
     "name": "stderr",
     "output_type": "stream",
     "text": [
      "\r",
      "Iter. Sofia projections:  52%|█████████████████████████████████▌                               | 8385/16232 [01:20<01:15, 103.34it/s]"
     ]
    },
    {
     "name": "stderr",
     "output_type": "stream",
     "text": [
      "\r",
      "Iter. Sofia projections:  52%|█████████████████████████████████▌                               | 8396/16232 [01:20<01:14, 104.86it/s]"
     ]
    },
    {
     "name": "stderr",
     "output_type": "stream",
     "text": [
      "\r",
      "Iter. Sofia projections:  52%|█████████████████████████████████▋                               | 8407/16232 [01:20<01:15, 103.83it/s]"
     ]
    },
    {
     "name": "stderr",
     "output_type": "stream",
     "text": [
      "\r",
      "Iter. Sofia projections:  52%|█████████████████████████████████▋                               | 8418/16232 [01:20<01:16, 101.81it/s]"
     ]
    },
    {
     "name": "stderr",
     "output_type": "stream",
     "text": [
      "\r",
      "Iter. Sofia projections:  52%|█████████████████████████████████▊                               | 8429/16232 [01:20<01:17, 101.09it/s]"
     ]
    },
    {
     "name": "stderr",
     "output_type": "stream",
     "text": [
      "\r",
      "Iter. Sofia projections:  52%|█████████████████████████████████▊                               | 8440/16232 [01:20<01:15, 103.17it/s]"
     ]
    },
    {
     "name": "stderr",
     "output_type": "stream",
     "text": [
      "\r",
      "Iter. Sofia projections:  52%|█████████████████████████████████▊                               | 8451/16232 [01:20<01:14, 103.86it/s]"
     ]
    },
    {
     "name": "stderr",
     "output_type": "stream",
     "text": [
      "\r",
      "Iter. Sofia projections:  52%|█████████████████████████████████▉                               | 8462/16232 [01:20<01:15, 103.03it/s]"
     ]
    },
    {
     "name": "stderr",
     "output_type": "stream",
     "text": [
      "\r",
      "Iter. Sofia projections:  52%|█████████████████████████████████▉                               | 8473/16232 [01:20<01:13, 104.97it/s]"
     ]
    },
    {
     "name": "stderr",
     "output_type": "stream",
     "text": [
      "\r",
      "Iter. Sofia projections:  52%|█████████████████████████████████▉                               | 8484/16232 [01:21<01:12, 106.30it/s]"
     ]
    },
    {
     "name": "stderr",
     "output_type": "stream",
     "text": [
      "\r",
      "Iter. Sofia projections:  52%|██████████████████████████████████                               | 8495/16232 [01:21<01:12, 106.35it/s]"
     ]
    },
    {
     "name": "stderr",
     "output_type": "stream",
     "text": [
      "\r",
      "Iter. Sofia projections:  52%|██████████████████████████████████                               | 8506/16232 [01:21<01:12, 106.34it/s]"
     ]
    },
    {
     "name": "stderr",
     "output_type": "stream",
     "text": [
      "\r",
      "Iter. Sofia projections:  52%|██████████████████████████████████                               | 8517/16232 [01:21<01:13, 105.16it/s]"
     ]
    },
    {
     "name": "stderr",
     "output_type": "stream",
     "text": [
      "\r",
      "Iter. Sofia projections:  53%|██████████████████████████████████▏                              | 8529/16232 [01:21<01:11, 107.30it/s]"
     ]
    },
    {
     "name": "stderr",
     "output_type": "stream",
     "text": [
      "\r",
      "Iter. Sofia projections:  53%|██████████████████████████████████▏                              | 8540/16232 [01:21<01:14, 103.63it/s]"
     ]
    },
    {
     "name": "stderr",
     "output_type": "stream",
     "text": [
      "\r",
      "Iter. Sofia projections:  53%|██████████████████████████████████▏                              | 8551/16232 [01:21<01:15, 101.70it/s]"
     ]
    },
    {
     "name": "stderr",
     "output_type": "stream",
     "text": [
      "\r",
      "Iter. Sofia projections:  53%|██████████████████████████████████▎                              | 8562/16232 [01:21<01:15, 101.91it/s]"
     ]
    },
    {
     "name": "stderr",
     "output_type": "stream",
     "text": [
      "\r",
      "Iter. Sofia projections:  53%|██████████████████████████████████▎                              | 8573/16232 [01:21<01:14, 102.63it/s]"
     ]
    },
    {
     "name": "stderr",
     "output_type": "stream",
     "text": [
      "\r",
      "Iter. Sofia projections:  53%|██████████████████████████████████▎                              | 8584/16232 [01:21<01:13, 103.45it/s]"
     ]
    },
    {
     "name": "stderr",
     "output_type": "stream",
     "text": [
      "\r",
      "Iter. Sofia projections:  53%|██████████████████████████████████▍                              | 8595/16232 [01:22<01:13, 104.46it/s]"
     ]
    },
    {
     "name": "stderr",
     "output_type": "stream",
     "text": [
      "\r",
      "Iter. Sofia projections:  53%|██████████████████████████████████▍                              | 8607/16232 [01:22<01:11, 106.27it/s]"
     ]
    },
    {
     "name": "stderr",
     "output_type": "stream",
     "text": [
      "\r",
      "Iter. Sofia projections:  53%|██████████████████████████████████▌                              | 8618/16232 [01:22<01:13, 103.76it/s]"
     ]
    },
    {
     "name": "stderr",
     "output_type": "stream",
     "text": [
      "\r",
      "Iter. Sofia projections:  53%|██████████████████████████████████▌                              | 8629/16232 [01:22<01:13, 103.28it/s]"
     ]
    },
    {
     "name": "stderr",
     "output_type": "stream",
     "text": [
      "\r",
      "Iter. Sofia projections:  53%|██████████████████████████████████▌                              | 8640/16232 [01:22<01:12, 104.29it/s]"
     ]
    },
    {
     "name": "stderr",
     "output_type": "stream",
     "text": [
      "\r",
      "Iter. Sofia projections:  53%|██████████████████████████████████▋                              | 8651/16232 [01:22<01:13, 102.96it/s]"
     ]
    },
    {
     "name": "stderr",
     "output_type": "stream",
     "text": [
      "\r",
      "Iter. Sofia projections:  53%|██████████████████████████████████▋                              | 8662/16232 [01:22<01:15, 100.64it/s]"
     ]
    },
    {
     "name": "stderr",
     "output_type": "stream",
     "text": [
      "\r",
      "Iter. Sofia projections:  53%|██████████████████████████████████▋                              | 8673/16232 [01:22<01:14, 101.68it/s]"
     ]
    },
    {
     "name": "stderr",
     "output_type": "stream",
     "text": [
      "\r",
      "Iter. Sofia projections:  53%|██████████████████████████████████▊                              | 8684/16232 [01:22<01:13, 102.80it/s]"
     ]
    },
    {
     "name": "stderr",
     "output_type": "stream",
     "text": [
      "\r",
      "Iter. Sofia projections:  54%|██████████████████████████████████▊                              | 8695/16232 [01:23<01:13, 102.20it/s]"
     ]
    },
    {
     "name": "stderr",
     "output_type": "stream",
     "text": [
      "\r",
      "Iter. Sofia projections:  54%|██████████████████████████████████▊                              | 8707/16232 [01:23<01:11, 104.95it/s]"
     ]
    },
    {
     "name": "stderr",
     "output_type": "stream",
     "text": [
      "\r",
      "Iter. Sofia projections:  54%|██████████████████████████████████▉                              | 8718/16232 [01:23<01:11, 105.49it/s]"
     ]
    },
    {
     "name": "stderr",
     "output_type": "stream",
     "text": [
      "\r",
      "Iter. Sofia projections:  54%|██████████████████████████████████▉                              | 8730/16232 [01:23<01:09, 107.36it/s]"
     ]
    },
    {
     "name": "stderr",
     "output_type": "stream",
     "text": [
      "\r",
      "Iter. Sofia projections:  54%|███████████████████████████████████                              | 8742/16232 [01:23<01:08, 108.57it/s]"
     ]
    },
    {
     "name": "stderr",
     "output_type": "stream",
     "text": [
      "\r",
      "Iter. Sofia projections:  54%|███████████████████████████████████                              | 8754/16232 [01:23<01:08, 109.31it/s]"
     ]
    },
    {
     "name": "stderr",
     "output_type": "stream",
     "text": [
      "\r",
      "Iter. Sofia projections:  54%|███████████████████████████████████                              | 8765/16232 [01:23<01:08, 109.43it/s]"
     ]
    },
    {
     "name": "stderr",
     "output_type": "stream",
     "text": [
      "\r",
      "Iter. Sofia projections:  54%|███████████████████████████████████▏                             | 8776/16232 [01:23<01:09, 107.66it/s]"
     ]
    },
    {
     "name": "stderr",
     "output_type": "stream",
     "text": [
      "\r",
      "Iter. Sofia projections:  54%|███████████████████████████████████▏                             | 8787/16232 [01:23<01:10, 105.08it/s]"
     ]
    },
    {
     "name": "stderr",
     "output_type": "stream",
     "text": [
      "\r",
      "Iter. Sofia projections:  54%|███████████████████████████████████▏                             | 8798/16232 [01:24<01:10, 105.72it/s]"
     ]
    },
    {
     "name": "stderr",
     "output_type": "stream",
     "text": [
      "\r",
      "Iter. Sofia projections:  54%|███████████████████████████████████▎                             | 8810/16232 [01:24<01:08, 108.32it/s]"
     ]
    },
    {
     "name": "stderr",
     "output_type": "stream",
     "text": [
      "\r",
      "Iter. Sofia projections:  54%|███████████████████████████████████▎                             | 8822/16232 [01:24<01:07, 110.28it/s]"
     ]
    },
    {
     "name": "stderr",
     "output_type": "stream",
     "text": [
      "\r",
      "Iter. Sofia projections:  54%|███████████████████████████████████▍                             | 8834/16232 [01:24<01:07, 109.45it/s]"
     ]
    },
    {
     "name": "stderr",
     "output_type": "stream",
     "text": [
      "\r",
      "Iter. Sofia projections:  54%|███████████████████████████████████▍                             | 8845/16232 [01:24<01:08, 107.13it/s]"
     ]
    },
    {
     "name": "stderr",
     "output_type": "stream",
     "text": [
      "\r",
      "Iter. Sofia projections:  55%|███████████████████████████████████▍                             | 8856/16232 [01:24<01:09, 106.14it/s]"
     ]
    },
    {
     "name": "stderr",
     "output_type": "stream",
     "text": [
      "\r",
      "Iter. Sofia projections:  55%|███████████████████████████████████▌                             | 8867/16232 [01:24<01:09, 105.51it/s]"
     ]
    },
    {
     "name": "stderr",
     "output_type": "stream",
     "text": [
      "\r",
      "Iter. Sofia projections:  55%|███████████████████████████████████▌                             | 8878/16232 [01:24<01:09, 106.19it/s]"
     ]
    },
    {
     "name": "stderr",
     "output_type": "stream",
     "text": [
      "\r",
      "Iter. Sofia projections:  55%|███████████████████████████████████▌                             | 8890/16232 [01:24<01:07, 108.84it/s]"
     ]
    },
    {
     "name": "stderr",
     "output_type": "stream",
     "text": [
      "\r",
      "Iter. Sofia projections:  55%|███████████████████████████████████▋                             | 8902/16232 [01:24<01:06, 109.45it/s]"
     ]
    },
    {
     "name": "stderr",
     "output_type": "stream",
     "text": [
      "\r",
      "Iter. Sofia projections:  55%|███████████████████████████████████▋                             | 8913/16232 [01:25<01:10, 103.79it/s]"
     ]
    },
    {
     "name": "stderr",
     "output_type": "stream",
     "text": [
      "\r",
      "Iter. Sofia projections:  55%|███████████████████████████████████▋                             | 8925/16232 [01:25<01:08, 106.88it/s]"
     ]
    },
    {
     "name": "stderr",
     "output_type": "stream",
     "text": [
      "\r",
      "Iter. Sofia projections:  55%|███████████████████████████████████▊                             | 8937/16232 [01:25<01:07, 108.14it/s]"
     ]
    },
    {
     "name": "stderr",
     "output_type": "stream",
     "text": [
      "\r",
      "Iter. Sofia projections:  55%|███████████████████████████████████▊                             | 8949/16232 [01:25<01:06, 110.00it/s]"
     ]
    },
    {
     "name": "stderr",
     "output_type": "stream",
     "text": [
      "\r",
      "Iter. Sofia projections:  55%|███████████████████████████████████▉                             | 8961/16232 [01:25<01:05, 110.20it/s]"
     ]
    },
    {
     "name": "stderr",
     "output_type": "stream",
     "text": [
      "\r",
      "Iter. Sofia projections:  55%|███████████████████████████████████▉                             | 8973/16232 [01:25<01:06, 109.05it/s]"
     ]
    },
    {
     "name": "stderr",
     "output_type": "stream",
     "text": [
      "\r",
      "Iter. Sofia projections:  55%|███████████████████████████████████▉                             | 8984/16232 [01:25<01:06, 108.90it/s]"
     ]
    },
    {
     "name": "stderr",
     "output_type": "stream",
     "text": [
      "\r",
      "Iter. Sofia projections:  55%|████████████████████████████████████                             | 8996/16232 [01:25<01:05, 110.80it/s]"
     ]
    },
    {
     "name": "stderr",
     "output_type": "stream",
     "text": [
      "\r",
      "Iter. Sofia projections:  55%|████████████████████████████████████                             | 9008/16232 [01:25<01:05, 109.68it/s]"
     ]
    },
    {
     "name": "stderr",
     "output_type": "stream",
     "text": [
      "\r",
      "Iter. Sofia projections:  56%|████████████████████████████████████                             | 9019/16232 [01:26<01:05, 109.46it/s]"
     ]
    },
    {
     "name": "stderr",
     "output_type": "stream",
     "text": [
      "\r",
      "Iter. Sofia projections:  56%|████████████████████████████████████▏                            | 9030/16232 [01:26<01:09, 103.67it/s]"
     ]
    },
    {
     "name": "stderr",
     "output_type": "stream",
     "text": [
      "\r",
      "Iter. Sofia projections:  56%|████████████████████████████████████▏                            | 9041/16232 [01:26<01:09, 103.04it/s]"
     ]
    },
    {
     "name": "stderr",
     "output_type": "stream",
     "text": [
      "\r",
      "Iter. Sofia projections:  56%|████████████████████████████████████▏                            | 9052/16232 [01:26<01:09, 103.51it/s]"
     ]
    },
    {
     "name": "stderr",
     "output_type": "stream",
     "text": [
      "\r",
      "Iter. Sofia projections:  56%|████████████████████████████████████▎                            | 9063/16232 [01:26<01:09, 103.26it/s]"
     ]
    },
    {
     "name": "stderr",
     "output_type": "stream",
     "text": [
      "\r",
      "Iter. Sofia projections:  56%|████████████████████████████████████▎                            | 9075/16232 [01:26<01:07, 105.62it/s]"
     ]
    },
    {
     "name": "stderr",
     "output_type": "stream",
     "text": [
      "\r",
      "Iter. Sofia projections:  56%|████████████████████████████████████▍                            | 9086/16232 [01:26<01:08, 105.07it/s]"
     ]
    },
    {
     "name": "stderr",
     "output_type": "stream",
     "text": [
      "\r",
      "Iter. Sofia projections:  56%|████████████████████████████████████▍                            | 9097/16232 [01:26<01:07, 105.52it/s]"
     ]
    },
    {
     "name": "stderr",
     "output_type": "stream",
     "text": [
      "\r",
      "Iter. Sofia projections:  56%|████████████████████████████████████▍                            | 9108/16232 [01:26<01:06, 106.69it/s]"
     ]
    },
    {
     "name": "stderr",
     "output_type": "stream",
     "text": [
      "\r",
      "Iter. Sofia projections:  56%|████████████████████████████████████▌                            | 9120/16232 [01:26<01:05, 108.88it/s]"
     ]
    },
    {
     "name": "stderr",
     "output_type": "stream",
     "text": [
      "\r",
      "Iter. Sofia projections:  56%|████████████████████████████████████▌                            | 9131/16232 [01:27<01:05, 107.99it/s]"
     ]
    },
    {
     "name": "stderr",
     "output_type": "stream",
     "text": [
      "\r",
      "Iter. Sofia projections:  56%|████████████████████████████████████▌                            | 9142/16232 [01:27<01:05, 108.00it/s]"
     ]
    },
    {
     "name": "stderr",
     "output_type": "stream",
     "text": [
      "\r",
      "Iter. Sofia projections:  56%|████████████████████████████████████▋                            | 9153/16232 [01:27<01:06, 106.33it/s]"
     ]
    },
    {
     "name": "stderr",
     "output_type": "stream",
     "text": [
      "\r",
      "Iter. Sofia projections:  56%|████████████████████████████████████▋                            | 9164/16232 [01:27<01:09, 101.58it/s]"
     ]
    },
    {
     "name": "stderr",
     "output_type": "stream",
     "text": [
      "\r",
      "Iter. Sofia projections:  57%|████████████████████████████████████▋                            | 9175/16232 [01:27<01:08, 103.40it/s]"
     ]
    },
    {
     "name": "stderr",
     "output_type": "stream",
     "text": [
      "\r",
      "Iter. Sofia projections:  57%|████████████████████████████████████▊                            | 9186/16232 [01:27<01:07, 103.70it/s]"
     ]
    },
    {
     "name": "stderr",
     "output_type": "stream",
     "text": [
      "\r",
      "Iter. Sofia projections:  57%|████████████████████████████████████▊                            | 9197/16232 [01:27<01:07, 104.32it/s]"
     ]
    },
    {
     "name": "stderr",
     "output_type": "stream",
     "text": [
      "\r",
      "Iter. Sofia projections:  57%|████████████████████████████████████▊                            | 9208/16232 [01:27<01:07, 103.42it/s]"
     ]
    },
    {
     "name": "stderr",
     "output_type": "stream",
     "text": [
      "\r",
      "Iter. Sofia projections:  57%|████████████████████████████████████▉                            | 9219/16232 [01:27<01:06, 104.95it/s]"
     ]
    },
    {
     "name": "stderr",
     "output_type": "stream",
     "text": [
      "\r",
      "Iter. Sofia projections:  57%|████████████████████████████████████▉                            | 9230/16232 [01:28<01:06, 104.68it/s]"
     ]
    },
    {
     "name": "stderr",
     "output_type": "stream",
     "text": [
      "\r",
      "Iter. Sofia projections:  57%|█████████████████████████████████████                            | 9241/16232 [01:28<01:07, 103.43it/s]"
     ]
    },
    {
     "name": "stderr",
     "output_type": "stream",
     "text": [
      "\r",
      "Iter. Sofia projections:  57%|█████████████████████████████████████                            | 9252/16232 [01:28<01:08, 101.55it/s]"
     ]
    },
    {
     "name": "stderr",
     "output_type": "stream",
     "text": [
      "\r",
      "Iter. Sofia projections:  57%|█████████████████████████████████████                            | 9263/16232 [01:28<01:07, 102.73it/s]"
     ]
    },
    {
     "name": "stderr",
     "output_type": "stream",
     "text": [
      "\r",
      "Iter. Sofia projections:  57%|█████████████████████████████████████▏                           | 9274/16232 [01:28<01:07, 103.20it/s]"
     ]
    },
    {
     "name": "stderr",
     "output_type": "stream",
     "text": [
      "\r",
      "Iter. Sofia projections:  57%|█████████████████████████████████████▊                            | 9285/16232 [01:28<01:09, 99.55it/s]"
     ]
    },
    {
     "name": "stderr",
     "output_type": "stream",
     "text": [
      "\r",
      "Iter. Sofia projections:  57%|█████████████████████████████████████▏                           | 9296/16232 [01:28<01:09, 100.17it/s]"
     ]
    },
    {
     "name": "stderr",
     "output_type": "stream",
     "text": [
      "\r",
      "Iter. Sofia projections:  57%|█████████████████████████████████████▊                            | 9307/16232 [01:28<01:09, 99.78it/s]"
     ]
    },
    {
     "name": "stderr",
     "output_type": "stream",
     "text": [
      "\r",
      "Iter. Sofia projections:  57%|█████████████████████████████████████▎                           | 9318/16232 [01:28<01:08, 101.54it/s]"
     ]
    },
    {
     "name": "stderr",
     "output_type": "stream",
     "text": [
      "\r",
      "Iter. Sofia projections:  57%|█████████████████████████████████████▎                           | 9329/16232 [01:29<01:07, 101.97it/s]"
     ]
    },
    {
     "name": "stderr",
     "output_type": "stream",
     "text": [
      "\r",
      "Iter. Sofia projections:  58%|█████████████████████████████████████▍                           | 9340/16232 [01:29<01:06, 103.35it/s]"
     ]
    },
    {
     "name": "stderr",
     "output_type": "stream",
     "text": [
      "\r",
      "Iter. Sofia projections:  58%|█████████████████████████████████████▍                           | 9351/16232 [01:29<01:06, 103.63it/s]"
     ]
    },
    {
     "name": "stderr",
     "output_type": "stream",
     "text": [
      "\r",
      "Iter. Sofia projections:  58%|█████████████████████████████████████▍                           | 9362/16232 [01:29<01:06, 104.01it/s]"
     ]
    },
    {
     "name": "stderr",
     "output_type": "stream",
     "text": [
      "\r",
      "Iter. Sofia projections:  58%|█████████████████████████████████████▌                           | 9373/16232 [01:29<01:05, 104.89it/s]"
     ]
    },
    {
     "name": "stderr",
     "output_type": "stream",
     "text": [
      "\r",
      "Iter. Sofia projections:  58%|█████████████████████████████████████▌                           | 9384/16232 [01:29<01:06, 102.62it/s]"
     ]
    },
    {
     "name": "stderr",
     "output_type": "stream",
     "text": [
      "\r",
      "Iter. Sofia projections:  58%|█████████████████████████████████████▌                           | 9395/16232 [01:29<01:06, 103.21it/s]"
     ]
    },
    {
     "name": "stderr",
     "output_type": "stream",
     "text": [
      "\r",
      "Iter. Sofia projections:  58%|██████████████████████████████████████▏                           | 9406/16232 [01:29<01:08, 99.87it/s]"
     ]
    },
    {
     "name": "stderr",
     "output_type": "stream",
     "text": [
      "\r",
      "Iter. Sofia projections:  58%|█████████████████████████████████████▋                           | 9417/16232 [01:29<01:06, 101.87it/s]"
     ]
    },
    {
     "name": "stderr",
     "output_type": "stream",
     "text": [
      "\r",
      "Iter. Sofia projections:  58%|█████████████████████████████████████▊                           | 9428/16232 [01:30<01:07, 101.46it/s]"
     ]
    },
    {
     "name": "stderr",
     "output_type": "stream",
     "text": [
      "\r",
      "Iter. Sofia projections:  58%|█████████████████████████████████████▊                           | 9439/16232 [01:30<01:06, 101.55it/s]"
     ]
    },
    {
     "name": "stderr",
     "output_type": "stream",
     "text": [
      "\r",
      "Iter. Sofia projections:  58%|█████████████████████████████████████▊                           | 9450/16232 [01:30<01:06, 102.10it/s]"
     ]
    },
    {
     "name": "stderr",
     "output_type": "stream",
     "text": [
      "\r",
      "Iter. Sofia projections:  58%|█████████████████████████████████████▉                           | 9461/16232 [01:30<01:07, 100.06it/s]"
     ]
    },
    {
     "name": "stderr",
     "output_type": "stream",
     "text": [
      "\r",
      "Iter. Sofia projections:  58%|██████████████████████████████████████▌                           | 9472/16232 [01:30<01:08, 99.13it/s]"
     ]
    },
    {
     "name": "stderr",
     "output_type": "stream",
     "text": [
      "\r",
      "Iter. Sofia projections:  58%|██████████████████████████████████████▌                           | 9483/16232 [01:30<01:07, 99.89it/s]"
     ]
    },
    {
     "name": "stderr",
     "output_type": "stream",
     "text": [
      "\r",
      "Iter. Sofia projections:  58%|██████████████████████████████████████▌                           | 9494/16232 [01:30<01:07, 99.25it/s]"
     ]
    },
    {
     "name": "stderr",
     "output_type": "stream",
     "text": [
      "\r",
      "Iter. Sofia projections:  59%|██████████████████████████████████████▋                           | 9504/16232 [01:30<01:07, 99.22it/s]"
     ]
    },
    {
     "name": "stderr",
     "output_type": "stream",
     "text": [
      "\r",
      "Iter. Sofia projections:  59%|██████████████████████████████████████▋                           | 9515/16232 [01:30<01:07, 99.66it/s]"
     ]
    },
    {
     "name": "stderr",
     "output_type": "stream",
     "text": [
      "\r",
      "Iter. Sofia projections:  59%|██████████████████████████████████████▋                           | 9525/16232 [01:30<01:07, 99.09it/s]"
     ]
    },
    {
     "name": "stderr",
     "output_type": "stream",
     "text": [
      "\r",
      "Iter. Sofia projections:  59%|██████████████████████████████████████▏                          | 9536/16232 [01:31<01:06, 100.54it/s]"
     ]
    },
    {
     "name": "stderr",
     "output_type": "stream",
     "text": [
      "\r",
      "Iter. Sofia projections:  59%|██████████████████████████████████████▊                           | 9547/16232 [01:31<01:07, 99.77it/s]"
     ]
    },
    {
     "name": "stderr",
     "output_type": "stream",
     "text": [
      "\r",
      "Iter. Sofia projections:  59%|██████████████████████████████████████▎                          | 9558/16232 [01:31<01:06, 100.48it/s]"
     ]
    },
    {
     "name": "stderr",
     "output_type": "stream",
     "text": [
      "\r",
      "Iter. Sofia projections:  59%|██████████████████████████████████████▉                           | 9569/16232 [01:31<01:06, 99.60it/s]"
     ]
    },
    {
     "name": "stderr",
     "output_type": "stream",
     "text": [
      "\r",
      "Iter. Sofia projections:  59%|██████████████████████████████████████▎                          | 9580/16232 [01:31<01:05, 101.12it/s]"
     ]
    },
    {
     "name": "stderr",
     "output_type": "stream",
     "text": [
      "\r",
      "Iter. Sofia projections:  59%|██████████████████████████████████████▍                          | 9591/16232 [01:31<01:04, 102.76it/s]"
     ]
    },
    {
     "name": "stderr",
     "output_type": "stream",
     "text": [
      "\r",
      "Iter. Sofia projections:  59%|██████████████████████████████████████▍                          | 9602/16232 [01:31<01:04, 102.97it/s]"
     ]
    },
    {
     "name": "stderr",
     "output_type": "stream",
     "text": [
      "\r",
      "Iter. Sofia projections:  59%|██████████████████████████████████████▍                          | 9613/16232 [01:31<01:04, 102.99it/s]"
     ]
    },
    {
     "name": "stderr",
     "output_type": "stream",
     "text": [
      "\r",
      "Iter. Sofia projections:  59%|██████████████████████████████████████▌                          | 9624/16232 [01:31<01:03, 104.01it/s]"
     ]
    },
    {
     "name": "stderr",
     "output_type": "stream",
     "text": [
      "\r",
      "Iter. Sofia projections:  59%|██████████████████████████████████████▌                          | 9635/16232 [01:32<01:04, 101.63it/s]"
     ]
    },
    {
     "name": "stderr",
     "output_type": "stream",
     "text": [
      "\r",
      "Iter. Sofia projections:  59%|██████████████████████████████████████▋                          | 9646/16232 [01:32<01:04, 101.57it/s]"
     ]
    },
    {
     "name": "stderr",
     "output_type": "stream",
     "text": [
      "\r",
      "Iter. Sofia projections:  59%|██████████████████████████████████████▋                          | 9657/16232 [01:32<01:03, 103.04it/s]"
     ]
    },
    {
     "name": "stderr",
     "output_type": "stream",
     "text": [
      "\r",
      "Iter. Sofia projections:  60%|██████████████████████████████████████▋                          | 9668/16232 [01:32<01:04, 102.30it/s]"
     ]
    },
    {
     "name": "stderr",
     "output_type": "stream",
     "text": [
      "\r",
      "Iter. Sofia projections:  60%|██████████████████████████████████████▊                          | 9679/16232 [01:32<01:03, 103.64it/s]"
     ]
    },
    {
     "name": "stderr",
     "output_type": "stream",
     "text": [
      "\r",
      "Iter. Sofia projections:  60%|██████████████████████████████████████▊                          | 9690/16232 [01:32<01:02, 105.03it/s]"
     ]
    },
    {
     "name": "stderr",
     "output_type": "stream",
     "text": [
      "\r",
      "Iter. Sofia projections:  60%|██████████████████████████████████████▊                          | 9701/16232 [01:32<01:03, 103.35it/s]"
     ]
    },
    {
     "name": "stderr",
     "output_type": "stream",
     "text": [
      "\r",
      "Iter. Sofia projections:  60%|██████████████████████████████████████▉                          | 9712/16232 [01:32<01:02, 104.04it/s]"
     ]
    },
    {
     "name": "stderr",
     "output_type": "stream",
     "text": [
      "\r",
      "Iter. Sofia projections:  60%|██████████████████████████████████████▉                          | 9723/16232 [01:32<01:01, 105.34it/s]"
     ]
    },
    {
     "name": "stderr",
     "output_type": "stream",
     "text": [
      "\r",
      "Iter. Sofia projections:  60%|██████████████████████████████████████▉                          | 9734/16232 [01:32<01:00, 106.63it/s]"
     ]
    },
    {
     "name": "stderr",
     "output_type": "stream",
     "text": [
      "\r",
      "Iter. Sofia projections:  60%|███████████████████████████████████████                          | 9745/16232 [01:33<01:00, 107.35it/s]"
     ]
    },
    {
     "name": "stderr",
     "output_type": "stream",
     "text": [
      "\r",
      "Iter. Sofia projections:  60%|███████████████████████████████████████                          | 9756/16232 [01:33<01:02, 103.29it/s]"
     ]
    },
    {
     "name": "stderr",
     "output_type": "stream",
     "text": [
      "\r",
      "Iter. Sofia projections:  60%|███████████████████████████████████████                          | 9767/16232 [01:33<01:02, 103.56it/s]"
     ]
    },
    {
     "name": "stderr",
     "output_type": "stream",
     "text": [
      "\r",
      "Iter. Sofia projections:  60%|███████████████████████████████████████▊                          | 9778/16232 [01:33<01:14, 86.18it/s]"
     ]
    },
    {
     "name": "stderr",
     "output_type": "stream",
     "text": [
      "\r",
      "Iter. Sofia projections:  60%|███████████████████████████████████████▊                          | 9789/16232 [01:33<01:10, 91.42it/s]"
     ]
    },
    {
     "name": "stderr",
     "output_type": "stream",
     "text": [
      "\r",
      "Iter. Sofia projections:  60%|███████████████████████████████████████▊                          | 9800/16232 [01:33<01:07, 95.02it/s]"
     ]
    },
    {
     "name": "stderr",
     "output_type": "stream",
     "text": [
      "\r",
      "Iter. Sofia projections:  60%|███████████████████████████████████████▉                          | 9812/16232 [01:33<01:04, 99.25it/s]"
     ]
    },
    {
     "name": "stderr",
     "output_type": "stream",
     "text": [
      "\r",
      "Iter. Sofia projections:  61%|███████████████████████████████████████▎                         | 9823/16232 [01:33<01:03, 100.73it/s]"
     ]
    },
    {
     "name": "stderr",
     "output_type": "stream",
     "text": [
      "\r",
      "Iter. Sofia projections:  61%|███████████████████████████████████████▍                         | 9835/16232 [01:34<01:01, 104.60it/s]"
     ]
    },
    {
     "name": "stderr",
     "output_type": "stream",
     "text": [
      "\r",
      "Iter. Sofia projections:  61%|███████████████████████████████████████▍                         | 9848/16232 [01:34<00:58, 109.82it/s]"
     ]
    },
    {
     "name": "stderr",
     "output_type": "stream",
     "text": [
      "\r",
      "Iter. Sofia projections:  61%|███████████████████████████████████████▍                         | 9860/16232 [01:34<00:58, 108.33it/s]"
     ]
    },
    {
     "name": "stderr",
     "output_type": "stream",
     "text": [
      "\r",
      "Iter. Sofia projections:  61%|███████████████████████████████████████▌                         | 9871/16232 [01:34<00:59, 107.74it/s]"
     ]
    },
    {
     "name": "stderr",
     "output_type": "stream",
     "text": [
      "\r",
      "Iter. Sofia projections:  61%|███████████████████████████████████████▌                         | 9883/16232 [01:34<00:57, 109.95it/s]"
     ]
    },
    {
     "name": "stderr",
     "output_type": "stream",
     "text": [
      "\r",
      "Iter. Sofia projections:  61%|███████████████████████████████████████▌                         | 9895/16232 [01:34<00:57, 110.90it/s]"
     ]
    },
    {
     "name": "stderr",
     "output_type": "stream",
     "text": [
      "\r",
      "Iter. Sofia projections:  61%|███████████████████████████████████████▋                         | 9907/16232 [01:34<00:57, 109.59it/s]"
     ]
    },
    {
     "name": "stderr",
     "output_type": "stream",
     "text": [
      "\r",
      "Iter. Sofia projections:  61%|███████████████████████████████████████▋                         | 9918/16232 [01:34<00:58, 108.09it/s]"
     ]
    },
    {
     "name": "stderr",
     "output_type": "stream",
     "text": [
      "\r",
      "Iter. Sofia projections:  61%|███████████████████████████████████████▊                         | 9929/16232 [01:34<00:58, 108.01it/s]"
     ]
    },
    {
     "name": "stderr",
     "output_type": "stream",
     "text": [
      "\r",
      "Iter. Sofia projections:  61%|███████████████████████████████████████▊                         | 9940/16232 [01:34<00:59, 105.48it/s]"
     ]
    },
    {
     "name": "stderr",
     "output_type": "stream",
     "text": [
      "\r",
      "Iter. Sofia projections:  61%|███████████████████████████████████████▊                         | 9951/16232 [01:35<00:59, 105.84it/s]"
     ]
    },
    {
     "name": "stderr",
     "output_type": "stream",
     "text": [
      "\r",
      "Iter. Sofia projections:  61%|███████████████████████████████████████▉                         | 9962/16232 [01:35<01:00, 104.10it/s]"
     ]
    },
    {
     "name": "stderr",
     "output_type": "stream",
     "text": [
      "\r",
      "Iter. Sofia projections:  61%|███████████████████████████████████████▉                         | 9973/16232 [01:35<00:59, 105.52it/s]"
     ]
    },
    {
     "name": "stderr",
     "output_type": "stream",
     "text": [
      "\r",
      "Iter. Sofia projections:  62%|███████████████████████████████████████▉                         | 9984/16232 [01:35<00:59, 105.86it/s]"
     ]
    },
    {
     "name": "stderr",
     "output_type": "stream",
     "text": [
      "\r",
      "Iter. Sofia projections:  62%|████████████████████████████████████████                         | 9995/16232 [01:35<00:59, 104.46it/s]"
     ]
    },
    {
     "name": "stderr",
     "output_type": "stream",
     "text": [
      "\r",
      "Iter. Sofia projections:  62%|███████████████████████████████████████▍                        | 10006/16232 [01:35<00:59, 104.92it/s]"
     ]
    },
    {
     "name": "stderr",
     "output_type": "stream",
     "text": [
      "\r",
      "Iter. Sofia projections:  62%|███████████████████████████████████████▍                        | 10017/16232 [01:35<00:59, 103.70it/s]"
     ]
    },
    {
     "name": "stderr",
     "output_type": "stream",
     "text": [
      "\r",
      "Iter. Sofia projections:  62%|███████████████████████████████████████▌                        | 10028/16232 [01:35<00:59, 104.49it/s]"
     ]
    },
    {
     "name": "stderr",
     "output_type": "stream",
     "text": [
      "\r",
      "Iter. Sofia projections:  62%|███████████████████████████████████████▌                        | 10039/16232 [01:35<00:58, 105.35it/s]"
     ]
    },
    {
     "name": "stderr",
     "output_type": "stream",
     "text": [
      "\r",
      "Iter. Sofia projections:  62%|███████████████████████████████████████▋                        | 10050/16232 [01:36<00:58, 106.49it/s]"
     ]
    },
    {
     "name": "stderr",
     "output_type": "stream",
     "text": [
      "\r",
      "Iter. Sofia projections:  62%|███████████████████████████████████████▋                        | 10061/16232 [01:36<00:58, 105.47it/s]"
     ]
    },
    {
     "name": "stderr",
     "output_type": "stream",
     "text": [
      "\r",
      "Iter. Sofia projections:  62%|███████████████████████████████████████▋                        | 10072/16232 [01:36<00:59, 104.12it/s]"
     ]
    },
    {
     "name": "stderr",
     "output_type": "stream",
     "text": [
      "\r",
      "Iter. Sofia projections:  62%|███████████████████████████████████████▊                        | 10083/16232 [01:36<00:59, 103.55it/s]"
     ]
    },
    {
     "name": "stderr",
     "output_type": "stream",
     "text": [
      "\r",
      "Iter. Sofia projections:  62%|███████████████████████████████████████▊                        | 10094/16232 [01:36<00:59, 102.88it/s]"
     ]
    },
    {
     "name": "stderr",
     "output_type": "stream",
     "text": [
      "\r",
      "Iter. Sofia projections:  62%|███████████████████████████████████████▊                        | 10105/16232 [01:36<00:58, 104.35it/s]"
     ]
    },
    {
     "name": "stderr",
     "output_type": "stream",
     "text": [
      "\r",
      "Iter. Sofia projections:  62%|███████████████████████████████████████▉                        | 10116/16232 [01:36<01:00, 100.56it/s]"
     ]
    },
    {
     "name": "stderr",
     "output_type": "stream",
     "text": [
      "\r",
      "Iter. Sofia projections:  62%|███████████████████████████████████████▉                        | 10127/16232 [01:36<01:00, 101.17it/s]"
     ]
    },
    {
     "name": "stderr",
     "output_type": "stream",
     "text": [
      "\r",
      "Iter. Sofia projections:  62%|███████████████████████████████████████▉                        | 10138/16232 [01:36<00:59, 102.98it/s]"
     ]
    },
    {
     "name": "stderr",
     "output_type": "stream",
     "text": [
      "\r",
      "Iter. Sofia projections:  63%|████████████████████████████████████████                        | 10150/16232 [01:36<00:57, 106.35it/s]"
     ]
    },
    {
     "name": "stderr",
     "output_type": "stream",
     "text": [
      "\r",
      "Iter. Sofia projections:  63%|████████████████████████████████████████                        | 10162/16232 [01:37<00:56, 108.30it/s]"
     ]
    },
    {
     "name": "stderr",
     "output_type": "stream",
     "text": [
      "\r",
      "Iter. Sofia projections:  63%|████████████████████████████████████████                        | 10173/16232 [01:37<00:56, 107.16it/s]"
     ]
    },
    {
     "name": "stderr",
     "output_type": "stream",
     "text": [
      "\r",
      "Iter. Sofia projections:  63%|████████████████████████████████████████▏                       | 10184/16232 [01:37<00:57, 104.60it/s]"
     ]
    },
    {
     "name": "stderr",
     "output_type": "stream",
     "text": [
      "\r",
      "Iter. Sofia projections:  63%|████████████████████████████████████████▏                       | 10195/16232 [01:37<00:58, 103.64it/s]"
     ]
    },
    {
     "name": "stderr",
     "output_type": "stream",
     "text": [
      "\r",
      "Iter. Sofia projections:  63%|████████████████████████████████████████▏                       | 10206/16232 [01:37<00:57, 104.06it/s]"
     ]
    },
    {
     "name": "stderr",
     "output_type": "stream",
     "text": [
      "\r",
      "Iter. Sofia projections:  63%|████████████████████████████████████████▎                       | 10217/16232 [01:37<00:57, 104.58it/s]"
     ]
    },
    {
     "name": "stderr",
     "output_type": "stream",
     "text": [
      "\r",
      "Iter. Sofia projections:  63%|████████████████████████████████████████▎                       | 10228/16232 [01:37<00:58, 103.41it/s]"
     ]
    },
    {
     "name": "stderr",
     "output_type": "stream",
     "text": [
      "\r",
      "Iter. Sofia projections:  63%|█████████████████████████████████████████                        | 10239/16232 [01:37<01:00, 98.96it/s]"
     ]
    },
    {
     "name": "stderr",
     "output_type": "stream",
     "text": [
      "\r",
      "Iter. Sofia projections:  63%|████████████████████████████████████████▍                       | 10250/16232 [01:37<00:59, 101.37it/s]"
     ]
    },
    {
     "name": "stderr",
     "output_type": "stream",
     "text": [
      "\r",
      "Iter. Sofia projections:  63%|████████████████████████████████████████▍                       | 10262/16232 [01:38<00:56, 105.10it/s]"
     ]
    },
    {
     "name": "stderr",
     "output_type": "stream",
     "text": [
      "\r",
      "Iter. Sofia projections:  63%|████████████████████████████████████████▌                       | 10273/16232 [01:38<00:56, 104.62it/s]"
     ]
    },
    {
     "name": "stderr",
     "output_type": "stream",
     "text": [
      "\r",
      "Iter. Sofia projections:  63%|████████████████████████████████████████▌                       | 10284/16232 [01:38<00:56, 104.73it/s]"
     ]
    },
    {
     "name": "stderr",
     "output_type": "stream",
     "text": [
      "\r",
      "Iter. Sofia projections:  63%|████████████████████████████████████████▌                       | 10295/16232 [01:38<00:56, 105.72it/s]"
     ]
    },
    {
     "name": "stderr",
     "output_type": "stream",
     "text": [
      "\r",
      "Iter. Sofia projections:  63%|████████████████████████████████████████▋                       | 10306/16232 [01:38<00:56, 105.08it/s]"
     ]
    },
    {
     "name": "stderr",
     "output_type": "stream",
     "text": [
      "\r",
      "Iter. Sofia projections:  64%|████████████████████████████████████████▋                       | 10317/16232 [01:38<00:56, 105.29it/s]"
     ]
    },
    {
     "name": "stderr",
     "output_type": "stream",
     "text": [
      "\r",
      "Iter. Sofia projections:  64%|████████████████████████████████████████▋                       | 10329/16232 [01:38<00:55, 106.81it/s]"
     ]
    },
    {
     "name": "stderr",
     "output_type": "stream",
     "text": [
      "\r",
      "Iter. Sofia projections:  64%|████████████████████████████████████████▊                       | 10341/16232 [01:38<00:53, 109.17it/s]"
     ]
    },
    {
     "name": "stderr",
     "output_type": "stream",
     "text": [
      "\r",
      "Iter. Sofia projections:  64%|████████████████████████████████████████▊                       | 10352/16232 [01:38<00:54, 108.57it/s]"
     ]
    },
    {
     "name": "stderr",
     "output_type": "stream",
     "text": [
      "\r",
      "Iter. Sofia projections:  64%|████████████████████████████████████████▊                       | 10363/16232 [01:39<00:58, 100.92it/s]"
     ]
    },
    {
     "name": "stderr",
     "output_type": "stream",
     "text": [
      "\r",
      "Iter. Sofia projections:  64%|████████████████████████████████████████▉                       | 10374/16232 [01:39<00:57, 101.99it/s]"
     ]
    },
    {
     "name": "stderr",
     "output_type": "stream",
     "text": [
      "\r",
      "Iter. Sofia projections:  64%|████████████████████████████████████████▉                       | 10385/16232 [01:39<00:56, 103.79it/s]"
     ]
    },
    {
     "name": "stderr",
     "output_type": "stream",
     "text": [
      "\r",
      "Iter. Sofia projections:  64%|████████████████████████████████████████▉                       | 10397/16232 [01:39<00:54, 106.82it/s]"
     ]
    },
    {
     "name": "stderr",
     "output_type": "stream",
     "text": [
      "\r",
      "Iter. Sofia projections:  64%|█████████████████████████████████████████                       | 10409/16232 [01:39<00:53, 108.57it/s]"
     ]
    },
    {
     "name": "stderr",
     "output_type": "stream",
     "text": [
      "\r",
      "Iter. Sofia projections:  64%|█████████████████████████████████████████                       | 10421/16232 [01:39<00:52, 110.39it/s]"
     ]
    },
    {
     "name": "stderr",
     "output_type": "stream",
     "text": [
      "\r",
      "Iter. Sofia projections:  64%|█████████████████████████████████████████▏                      | 10433/16232 [01:39<00:53, 108.23it/s]"
     ]
    },
    {
     "name": "stderr",
     "output_type": "stream",
     "text": [
      "\r",
      "Iter. Sofia projections:  64%|█████████████████████████████████████████▏                      | 10445/16232 [01:39<00:52, 109.21it/s]"
     ]
    },
    {
     "name": "stderr",
     "output_type": "stream",
     "text": [
      "\r",
      "Iter. Sofia projections:  64%|█████████████████████████████████████████▏                      | 10457/16232 [01:39<00:52, 109.93it/s]"
     ]
    },
    {
     "name": "stderr",
     "output_type": "stream",
     "text": [
      "\r",
      "Iter. Sofia projections:  64%|█████████████████████████████████████████▎                      | 10469/16232 [01:40<00:52, 110.00it/s]"
     ]
    },
    {
     "name": "stderr",
     "output_type": "stream",
     "text": [
      "\r",
      "Iter. Sofia projections:  65%|█████████████████████████████████████████▎                      | 10481/16232 [01:40<00:53, 108.24it/s]"
     ]
    },
    {
     "name": "stderr",
     "output_type": "stream",
     "text": [
      "\r",
      "Iter. Sofia projections:  65%|█████████████████████████████████████████▎                      | 10492/16232 [01:40<00:54, 106.00it/s]"
     ]
    },
    {
     "name": "stderr",
     "output_type": "stream",
     "text": [
      "\r",
      "Iter. Sofia projections:  65%|█████████████████████████████████████████▍                      | 10503/16232 [01:40<00:54, 104.52it/s]"
     ]
    },
    {
     "name": "stderr",
     "output_type": "stream",
     "text": [
      "\r",
      "Iter. Sofia projections:  65%|█████████████████████████████████████████▍                      | 10515/16232 [01:40<00:53, 107.64it/s]"
     ]
    },
    {
     "name": "stderr",
     "output_type": "stream",
     "text": [
      "\r",
      "Iter. Sofia projections:  65%|█████████████████████████████████████████▌                      | 10526/16232 [01:40<00:53, 107.05it/s]"
     ]
    },
    {
     "name": "stderr",
     "output_type": "stream",
     "text": [
      "\r",
      "Iter. Sofia projections:  65%|██████████████████████████████████████████▏                      | 10537/16232 [01:40<01:01, 92.61it/s]"
     ]
    },
    {
     "name": "stderr",
     "output_type": "stream",
     "text": [
      "\r",
      "Iter. Sofia projections:  65%|██████████████████████████████████████████▏                      | 10548/16232 [01:40<00:58, 96.81it/s]"
     ]
    },
    {
     "name": "stderr",
     "output_type": "stream",
     "text": [
      "\r",
      "Iter. Sofia projections:  65%|██████████████████████████████████████████▎                      | 10559/16232 [01:40<00:57, 99.20it/s]"
     ]
    },
    {
     "name": "stderr",
     "output_type": "stream",
     "text": [
      "\r",
      "Iter. Sofia projections:  65%|█████████████████████████████████████████▋                      | 10571/16232 [01:41<00:54, 103.54it/s]"
     ]
    },
    {
     "name": "stderr",
     "output_type": "stream",
     "text": [
      "\r",
      "Iter. Sofia projections:  65%|█████████████████████████████████████████▋                      | 10583/16232 [01:41<00:53, 105.61it/s]"
     ]
    },
    {
     "name": "stderr",
     "output_type": "stream",
     "text": [
      "\r",
      "Iter. Sofia projections:  65%|█████████████████████████████████████████▊                      | 10594/16232 [01:41<00:54, 103.63it/s]"
     ]
    },
    {
     "name": "stderr",
     "output_type": "stream",
     "text": [
      "\r",
      "Iter. Sofia projections:  65%|█████████████████████████████████████████▊                      | 10605/16232 [01:41<00:54, 103.91it/s]"
     ]
    },
    {
     "name": "stderr",
     "output_type": "stream",
     "text": [
      "\r",
      "Iter. Sofia projections:  65%|██████████████████████████████████████████▌                      | 10616/16232 [01:41<00:56, 99.52it/s]"
     ]
    },
    {
     "name": "stderr",
     "output_type": "stream",
     "text": [
      "\r",
      "Iter. Sofia projections:  65%|█████████████████████████████████████████▉                      | 10627/16232 [01:41<00:55, 100.54it/s]"
     ]
    },
    {
     "name": "stderr",
     "output_type": "stream",
     "text": [
      "\r",
      "Iter. Sofia projections:  66%|█████████████████████████████████████████▉                      | 10638/16232 [01:41<00:54, 102.36it/s]"
     ]
    },
    {
     "name": "stderr",
     "output_type": "stream",
     "text": [
      "\r",
      "Iter. Sofia projections:  66%|█████████████████████████████████████████▉                      | 10650/16232 [01:41<00:52, 105.55it/s]"
     ]
    },
    {
     "name": "stderr",
     "output_type": "stream",
     "text": [
      "\r",
      "Iter. Sofia projections:  66%|██████████████████████████████████████████                      | 10662/16232 [01:41<00:51, 107.37it/s]"
     ]
    },
    {
     "name": "stderr",
     "output_type": "stream",
     "text": [
      "\r",
      "Iter. Sofia projections:  66%|██████████████████████████████████████████                      | 10673/16232 [01:41<00:51, 107.94it/s]"
     ]
    },
    {
     "name": "stderr",
     "output_type": "stream",
     "text": [
      "\r",
      "Iter. Sofia projections:  66%|██████████████████████████████████████████▏                     | 10685/16232 [01:42<00:50, 109.04it/s]"
     ]
    },
    {
     "name": "stderr",
     "output_type": "stream",
     "text": [
      "\r",
      "Iter. Sofia projections:  66%|██████████████████████████████████████████▏                     | 10696/16232 [01:42<00:50, 109.15it/s]"
     ]
    },
    {
     "name": "stderr",
     "output_type": "stream",
     "text": [
      "\r",
      "Iter. Sofia projections:  66%|██████████████████████████████████████████▏                     | 10707/16232 [01:42<00:51, 107.64it/s]"
     ]
    },
    {
     "name": "stderr",
     "output_type": "stream",
     "text": [
      "\r",
      "Iter. Sofia projections:  66%|██████████████████████████████████████████▎                     | 10718/16232 [01:42<00:51, 106.56it/s]"
     ]
    },
    {
     "name": "stderr",
     "output_type": "stream",
     "text": [
      "\r",
      "Iter. Sofia projections:  66%|██████████████████████████████████████████▎                     | 10729/16232 [01:42<00:52, 104.40it/s]"
     ]
    },
    {
     "name": "stderr",
     "output_type": "stream",
     "text": [
      "\r",
      "Iter. Sofia projections:  66%|██████████████████████████████████████████▎                     | 10740/16232 [01:42<00:54, 100.95it/s]"
     ]
    },
    {
     "name": "stderr",
     "output_type": "stream",
     "text": [
      "\r",
      "Iter. Sofia projections:  66%|██████████████████████████████████████████▍                     | 10751/16232 [01:42<00:53, 102.52it/s]"
     ]
    },
    {
     "name": "stderr",
     "output_type": "stream",
     "text": [
      "\r",
      "Iter. Sofia projections:  66%|██████████████████████████████████████████▍                     | 10762/16232 [01:42<00:52, 103.93it/s]"
     ]
    },
    {
     "name": "stderr",
     "output_type": "stream",
     "text": [
      "\r",
      "Iter. Sofia projections:  66%|██████████████████████████████████████████▍                     | 10774/16232 [01:42<00:50, 107.09it/s]"
     ]
    },
    {
     "name": "stderr",
     "output_type": "stream",
     "text": [
      "\r",
      "Iter. Sofia projections:  66%|██████████████████████████████████████████▌                     | 10785/16232 [01:43<00:51, 105.60it/s]"
     ]
    },
    {
     "name": "stderr",
     "output_type": "stream",
     "text": [
      "\r",
      "Iter. Sofia projections:  67%|██████████████████████████████████████████▌                     | 10796/16232 [01:43<00:52, 104.05it/s]"
     ]
    },
    {
     "name": "stderr",
     "output_type": "stream",
     "text": [
      "\r",
      "Iter. Sofia projections:  67%|██████████████████████████████████████████▌                     | 10807/16232 [01:43<00:51, 104.84it/s]"
     ]
    },
    {
     "name": "stderr",
     "output_type": "stream",
     "text": [
      "\r",
      "Iter. Sofia projections:  67%|██████████████████████████████████████████▋                     | 10818/16232 [01:43<00:51, 105.10it/s]"
     ]
    },
    {
     "name": "stderr",
     "output_type": "stream",
     "text": [
      "\r",
      "Iter. Sofia projections:  67%|██████████████████████████████████████████▋                     | 10829/16232 [01:43<00:50, 106.36it/s]"
     ]
    },
    {
     "name": "stderr",
     "output_type": "stream",
     "text": [
      "\r",
      "Iter. Sofia projections:  67%|██████████████████████████████████████████▋                     | 10841/16232 [01:43<00:49, 108.63it/s]"
     ]
    },
    {
     "name": "stderr",
     "output_type": "stream",
     "text": [
      "\r",
      "Iter. Sofia projections:  67%|██████████████████████████████████████████▊                     | 10852/16232 [01:43<00:50, 106.43it/s]"
     ]
    },
    {
     "name": "stderr",
     "output_type": "stream",
     "text": [
      "\r",
      "Iter. Sofia projections:  67%|██████████████████████████████████████████▊                     | 10863/16232 [01:43<00:51, 103.32it/s]"
     ]
    },
    {
     "name": "stderr",
     "output_type": "stream",
     "text": [
      "\r",
      "Iter. Sofia projections:  67%|██████████████████████████████████████████▊                     | 10874/16232 [01:43<00:51, 104.15it/s]"
     ]
    },
    {
     "name": "stderr",
     "output_type": "stream",
     "text": [
      "\r",
      "Iter. Sofia projections:  67%|██████████████████████████████████████████▉                     | 10885/16232 [01:44<00:50, 105.50it/s]"
     ]
    },
    {
     "name": "stderr",
     "output_type": "stream",
     "text": [
      "\r",
      "Iter. Sofia projections:  67%|██████████████████████████████████████████▉                     | 10898/16232 [01:44<00:48, 110.58it/s]"
     ]
    },
    {
     "name": "stderr",
     "output_type": "stream",
     "text": [
      "\r",
      "Iter. Sofia projections:  67%|███████████████████████████████████████████                     | 10910/16232 [01:44<00:47, 112.02it/s]"
     ]
    },
    {
     "name": "stderr",
     "output_type": "stream",
     "text": [
      "\r",
      "Iter. Sofia projections:  67%|███████████████████████████████████████████                     | 10922/16232 [01:44<00:46, 113.69it/s]"
     ]
    },
    {
     "name": "stderr",
     "output_type": "stream",
     "text": [
      "\r",
      "Iter. Sofia projections:  67%|███████████████████████████████████████████                     | 10934/16232 [01:44<00:45, 115.37it/s]"
     ]
    },
    {
     "name": "stderr",
     "output_type": "stream",
     "text": [
      "\r",
      "Iter. Sofia projections:  67%|███████████████████████████████████████████▏                    | 10947/16232 [01:44<00:44, 119.61it/s]"
     ]
    },
    {
     "name": "stderr",
     "output_type": "stream",
     "text": [
      "\r",
      "Iter. Sofia projections:  68%|███████████████████████████████████████████▏                    | 10960/16232 [01:44<00:43, 120.51it/s]"
     ]
    },
    {
     "name": "stderr",
     "output_type": "stream",
     "text": [
      "\r",
      "Iter. Sofia projections:  68%|███████████████████████████████████████████▎                    | 10974/16232 [01:44<00:42, 123.65it/s]"
     ]
    },
    {
     "name": "stderr",
     "output_type": "stream",
     "text": [
      "\r",
      "Iter. Sofia projections:  68%|███████████████████████████████████████████▎                    | 10987/16232 [01:44<00:43, 120.74it/s]"
     ]
    },
    {
     "name": "stderr",
     "output_type": "stream",
     "text": [
      "\r",
      "Iter. Sofia projections:  68%|███████████████████████████████████████████▎                    | 11000/16232 [01:44<00:44, 117.29it/s]"
     ]
    },
    {
     "name": "stderr",
     "output_type": "stream",
     "text": [
      "\r",
      "Iter. Sofia projections:  68%|███████████████████████████████████████████▍                    | 11012/16232 [01:45<00:44, 117.72it/s]"
     ]
    },
    {
     "name": "stderr",
     "output_type": "stream",
     "text": [
      "\r",
      "Iter. Sofia projections:  68%|███████████████████████████████████████████▍                    | 11024/16232 [01:45<00:44, 118.16it/s]"
     ]
    },
    {
     "name": "stderr",
     "output_type": "stream",
     "text": [
      "\r",
      "Iter. Sofia projections:  68%|███████████████████████████████████████████▌                    | 11036/16232 [01:45<00:44, 116.15it/s]"
     ]
    },
    {
     "name": "stderr",
     "output_type": "stream",
     "text": [
      "\r",
      "Iter. Sofia projections:  68%|███████████████████████████████████████████▌                    | 11048/16232 [01:45<00:44, 116.01it/s]"
     ]
    },
    {
     "name": "stderr",
     "output_type": "stream",
     "text": [
      "\r",
      "Iter. Sofia projections:  68%|███████████████████████████████████████████▌                    | 11061/16232 [01:45<00:43, 119.36it/s]"
     ]
    },
    {
     "name": "stderr",
     "output_type": "stream",
     "text": [
      "\r",
      "Iter. Sofia projections:  68%|███████████████████████████████████████████▋                    | 11073/16232 [01:45<00:43, 117.86it/s]"
     ]
    },
    {
     "name": "stderr",
     "output_type": "stream",
     "text": [
      "\r",
      "Iter. Sofia projections:  68%|███████████████████████████████████████████▋                    | 11085/16232 [01:45<00:43, 116.99it/s]"
     ]
    },
    {
     "name": "stderr",
     "output_type": "stream",
     "text": [
      "\r",
      "Iter. Sofia projections:  68%|███████████████████████████████████████████▊                    | 11098/16232 [01:45<00:43, 118.57it/s]"
     ]
    },
    {
     "name": "stderr",
     "output_type": "stream",
     "text": [
      "\r",
      "Iter. Sofia projections:  68%|███████████████████████████████████████████▊                    | 11110/16232 [01:45<00:44, 115.33it/s]"
     ]
    },
    {
     "name": "stderr",
     "output_type": "stream",
     "text": [
      "\r",
      "Iter. Sofia projections:  69%|███████████████████████████████████████████▊                    | 11122/16232 [01:46<00:44, 113.88it/s]"
     ]
    },
    {
     "name": "stderr",
     "output_type": "stream",
     "text": [
      "\r",
      "Iter. Sofia projections:  69%|███████████████████████████████████████████▉                    | 11135/16232 [01:46<00:43, 115.86it/s]"
     ]
    },
    {
     "name": "stderr",
     "output_type": "stream",
     "text": [
      "\r",
      "Iter. Sofia projections:  69%|███████████████████████████████████████████▉                    | 11148/16232 [01:46<00:43, 116.55it/s]"
     ]
    },
    {
     "name": "stderr",
     "output_type": "stream",
     "text": [
      "\r",
      "Iter. Sofia projections:  69%|████████████████████████████████████████████                    | 11160/16232 [01:46<00:43, 115.51it/s]"
     ]
    },
    {
     "name": "stderr",
     "output_type": "stream",
     "text": [
      "\r",
      "Iter. Sofia projections:  69%|████████████████████████████████████████████                    | 11172/16232 [01:46<00:43, 116.01it/s]"
     ]
    },
    {
     "name": "stderr",
     "output_type": "stream",
     "text": [
      "\r",
      "Iter. Sofia projections:  69%|████████████████████████████████████████████                    | 11185/16232 [01:46<00:42, 118.58it/s]"
     ]
    },
    {
     "name": "stderr",
     "output_type": "stream",
     "text": [
      "\r",
      "Iter. Sofia projections:  69%|████████████████████████████████████████████▏                   | 11197/16232 [01:46<00:42, 118.07it/s]"
     ]
    },
    {
     "name": "stderr",
     "output_type": "stream",
     "text": [
      "\r",
      "Iter. Sofia projections:  69%|████████████████████████████████████████████▏                   | 11209/16232 [01:46<00:42, 118.03it/s]"
     ]
    },
    {
     "name": "stderr",
     "output_type": "stream",
     "text": [
      "\r",
      "Iter. Sofia projections:  69%|████████████████████████████████████████████▏                   | 11221/16232 [01:46<00:42, 117.62it/s]"
     ]
    },
    {
     "name": "stderr",
     "output_type": "stream",
     "text": [
      "\r",
      "Iter. Sofia projections:  69%|████████████████████████████████████████████▎                   | 11234/16232 [01:46<00:41, 120.41it/s]"
     ]
    },
    {
     "name": "stderr",
     "output_type": "stream",
     "text": [
      "\r",
      "Iter. Sofia projections:  69%|████████████████████████████████████████████▎                   | 11247/16232 [01:47<00:41, 120.60it/s]"
     ]
    },
    {
     "name": "stderr",
     "output_type": "stream",
     "text": [
      "\r",
      "Iter. Sofia projections:  69%|████████████████████████████████████████████▍                   | 11260/16232 [01:47<00:44, 110.74it/s]"
     ]
    },
    {
     "name": "stderr",
     "output_type": "stream",
     "text": [
      "\r",
      "Iter. Sofia projections:  69%|████████████████████████████████████████████▍                   | 11272/16232 [01:47<00:45, 109.52it/s]"
     ]
    },
    {
     "name": "stderr",
     "output_type": "stream",
     "text": [
      "\r",
      "Iter. Sofia projections:  70%|████████████████████████████████████████████▍                   | 11284/16232 [01:47<00:46, 106.77it/s]"
     ]
    },
    {
     "name": "stderr",
     "output_type": "stream",
     "text": [
      "\r",
      "Iter. Sofia projections:  70%|████████████████████████████████████████████▌                   | 11295/16232 [01:47<00:46, 106.31it/s]"
     ]
    },
    {
     "name": "stderr",
     "output_type": "stream",
     "text": [
      "\r",
      "Iter. Sofia projections:  70%|█████████████████████████████████████████████▎                   | 11306/16232 [01:47<00:57, 85.66it/s]"
     ]
    },
    {
     "name": "stderr",
     "output_type": "stream",
     "text": [
      "\r",
      "Iter. Sofia projections:  70%|█████████████████████████████████████████████▎                   | 11317/16232 [01:47<00:54, 89.98it/s]"
     ]
    },
    {
     "name": "stderr",
     "output_type": "stream",
     "text": [
      "\r",
      "Iter. Sofia projections:  70%|█████████████████████████████████████████████▎                   | 11327/16232 [01:47<00:53, 91.56it/s]"
     ]
    },
    {
     "name": "stderr",
     "output_type": "stream",
     "text": [
      "\r",
      "Iter. Sofia projections:  70%|█████████████████████████████████████████████▍                   | 11339/16232 [01:48<00:49, 98.08it/s]"
     ]
    },
    {
     "name": "stderr",
     "output_type": "stream",
     "text": [
      "\r",
      "Iter. Sofia projections:  70%|████████████████████████████████████████████▊                   | 11350/16232 [01:48<00:48, 101.20it/s]"
     ]
    },
    {
     "name": "stderr",
     "output_type": "stream",
     "text": [
      "\r",
      "Iter. Sofia projections:  70%|████████████████████████████████████████████▊                   | 11361/16232 [01:48<00:47, 101.68it/s]"
     ]
    },
    {
     "name": "stderr",
     "output_type": "stream",
     "text": [
      "\r",
      "Iter. Sofia projections:  70%|████████████████████████████████████████████▊                   | 11372/16232 [01:48<00:48, 100.91it/s]"
     ]
    },
    {
     "name": "stderr",
     "output_type": "stream",
     "text": [
      "\r",
      "Iter. Sofia projections:  70%|████████████████████████████████████████████▉                   | 11383/16232 [01:48<00:47, 102.31it/s]"
     ]
    },
    {
     "name": "stderr",
     "output_type": "stream",
     "text": [
      "\r",
      "Iter. Sofia projections:  70%|████████████████████████████████████████████▉                   | 11394/16232 [01:48<00:46, 103.29it/s]"
     ]
    },
    {
     "name": "stderr",
     "output_type": "stream",
     "text": [
      "\r",
      "Iter. Sofia projections:  70%|████████████████████████████████████████████▉                   | 11405/16232 [01:48<00:46, 102.97it/s]"
     ]
    },
    {
     "name": "stderr",
     "output_type": "stream",
     "text": [
      "\r",
      "Iter. Sofia projections:  70%|█████████████████████████████████████████████                   | 11416/16232 [01:48<00:46, 102.83it/s]"
     ]
    },
    {
     "name": "stderr",
     "output_type": "stream",
     "text": [
      "\r",
      "Iter. Sofia projections:  70%|█████████████████████████████████████████████                   | 11427/16232 [01:48<00:46, 102.65it/s]"
     ]
    },
    {
     "name": "stderr",
     "output_type": "stream",
     "text": [
      "\r",
      "Iter. Sofia projections:  70%|█████████████████████████████████████████████                   | 11438/16232 [01:48<00:46, 103.36it/s]"
     ]
    },
    {
     "name": "stderr",
     "output_type": "stream",
     "text": [
      "\r",
      "Iter. Sofia projections:  71%|█████████████████████████████████████████████▏                  | 11449/16232 [01:49<00:46, 103.53it/s]"
     ]
    },
    {
     "name": "stderr",
     "output_type": "stream",
     "text": [
      "\r",
      "Iter. Sofia projections:  71%|█████████████████████████████████████████████▏                  | 11460/16232 [01:49<00:46, 101.68it/s]"
     ]
    },
    {
     "name": "stderr",
     "output_type": "stream",
     "text": [
      "\r",
      "Iter. Sofia projections:  71%|█████████████████████████████████████████████▏                  | 11471/16232 [01:49<00:47, 100.91it/s]"
     ]
    },
    {
     "name": "stderr",
     "output_type": "stream",
     "text": [
      "\r",
      "Iter. Sofia projections:  71%|█████████████████████████████████████████████▎                  | 11482/16232 [01:49<00:47, 100.49it/s]"
     ]
    },
    {
     "name": "stderr",
     "output_type": "stream",
     "text": [
      "\r",
      "Iter. Sofia projections:  71%|██████████████████████████████████████████████                   | 11493/16232 [01:49<00:47, 99.95it/s]"
     ]
    },
    {
     "name": "stderr",
     "output_type": "stream",
     "text": [
      "\r",
      "Iter. Sofia projections:  71%|█████████████████████████████████████████████▎                  | 11504/16232 [01:49<00:46, 101.41it/s]"
     ]
    },
    {
     "name": "stderr",
     "output_type": "stream",
     "text": [
      "\r",
      "Iter. Sofia projections:  71%|█████████████████████████████████████████████▍                  | 11515/16232 [01:49<00:46, 101.46it/s]"
     ]
    },
    {
     "name": "stderr",
     "output_type": "stream",
     "text": [
      "\r",
      "Iter. Sofia projections:  71%|██████████████████████████████████████████████▏                  | 11526/16232 [01:49<00:47, 99.98it/s]"
     ]
    },
    {
     "name": "stderr",
     "output_type": "stream",
     "text": [
      "\r",
      "Iter. Sofia projections:  71%|█████████████████████████████████████████████▍                  | 11538/16232 [01:49<00:45, 103.97it/s]"
     ]
    },
    {
     "name": "stderr",
     "output_type": "stream",
     "text": [
      "\r",
      "Iter. Sofia projections:  71%|█████████████████████████████████████████████▌                  | 11550/16232 [01:50<00:43, 107.18it/s]"
     ]
    },
    {
     "name": "stderr",
     "output_type": "stream",
     "text": [
      "\r",
      "Iter. Sofia projections:  71%|█████████████████████████████████████████████▌                  | 11561/16232 [01:50<00:44, 105.04it/s]"
     ]
    },
    {
     "name": "stderr",
     "output_type": "stream",
     "text": [
      "\r",
      "Iter. Sofia projections:  71%|█████████████████████████████████████████████▋                  | 11572/16232 [01:50<00:44, 104.81it/s]"
     ]
    },
    {
     "name": "stderr",
     "output_type": "stream",
     "text": [
      "\r",
      "Iter. Sofia projections:  71%|█████████████████████████████████████████████▋                  | 11583/16232 [01:50<00:44, 105.34it/s]"
     ]
    },
    {
     "name": "stderr",
     "output_type": "stream",
     "text": [
      "\r",
      "Iter. Sofia projections:  71%|█████████████████████████████████████████████▋                  | 11594/16232 [01:50<00:44, 105.20it/s]"
     ]
    },
    {
     "name": "stderr",
     "output_type": "stream",
     "text": [
      "\r",
      "Iter. Sofia projections:  71%|██████████████████████████████████████████████▍                  | 11605/16232 [01:50<00:46, 99.82it/s]"
     ]
    },
    {
     "name": "stderr",
     "output_type": "stream",
     "text": [
      "\r",
      "Iter. Sofia projections:  72%|█████████████████████████████████████████████▊                  | 11616/16232 [01:50<00:45, 100.64it/s]"
     ]
    },
    {
     "name": "stderr",
     "output_type": "stream",
     "text": [
      "\r",
      "Iter. Sofia projections:  72%|█████████████████████████████████████████████▊                  | 11627/16232 [01:50<00:45, 101.64it/s]"
     ]
    },
    {
     "name": "stderr",
     "output_type": "stream",
     "text": [
      "\r",
      "Iter. Sofia projections:  72%|█████████████████████████████████████████████▉                  | 11638/16232 [01:50<00:44, 102.47it/s]"
     ]
    },
    {
     "name": "stderr",
     "output_type": "stream",
     "text": [
      "\r",
      "Iter. Sofia projections:  72%|█████████████████████████████████████████████▉                  | 11649/16232 [01:51<00:45, 101.82it/s]"
     ]
    },
    {
     "name": "stderr",
     "output_type": "stream",
     "text": [
      "\r",
      "Iter. Sofia projections:  72%|█████████████████████████████████████████████▉                  | 11660/16232 [01:51<00:44, 102.25it/s]"
     ]
    },
    {
     "name": "stderr",
     "output_type": "stream",
     "text": [
      "\r",
      "Iter. Sofia projections:  72%|██████████████████████████████████████████████                  | 11671/16232 [01:51<00:45, 100.81it/s]"
     ]
    },
    {
     "name": "stderr",
     "output_type": "stream",
     "text": [
      "\r",
      "Iter. Sofia projections:  72%|██████████████████████████████████████████████                  | 11682/16232 [01:51<00:44, 102.46it/s]"
     ]
    },
    {
     "name": "stderr",
     "output_type": "stream",
     "text": [
      "\r",
      "Iter. Sofia projections:  72%|██████████████████████████████████████████████                  | 11693/16232 [01:51<00:44, 102.94it/s]"
     ]
    },
    {
     "name": "stderr",
     "output_type": "stream",
     "text": [
      "\r",
      "Iter. Sofia projections:  72%|██████████████████████████████████████████████▏                 | 11704/16232 [01:51<00:43, 103.06it/s]"
     ]
    },
    {
     "name": "stderr",
     "output_type": "stream",
     "text": [
      "\r",
      "Iter. Sofia projections:  72%|██████████████████████████████████████████████▏                 | 11715/16232 [01:51<00:44, 100.40it/s]"
     ]
    },
    {
     "name": "stderr",
     "output_type": "stream",
     "text": [
      "\r",
      "Iter. Sofia projections:  72%|██████████████████████████████████████████████▏                 | 11726/16232 [01:51<00:44, 102.21it/s]"
     ]
    },
    {
     "name": "stderr",
     "output_type": "stream",
     "text": [
      "\r",
      "Iter. Sofia projections:  72%|███████████████████████████████████████████████                  | 11737/16232 [01:51<00:45, 99.86it/s]"
     ]
    },
    {
     "name": "stderr",
     "output_type": "stream",
     "text": [
      "\r",
      "Iter. Sofia projections:  72%|██████████████████████████████████████████████▎                 | 11748/16232 [01:52<00:44, 100.56it/s]"
     ]
    },
    {
     "name": "stderr",
     "output_type": "stream",
     "text": [
      "\r",
      "Iter. Sofia projections:  72%|██████████████████████████████████████████████▎                 | 11759/16232 [01:52<00:44, 101.08it/s]"
     ]
    },
    {
     "name": "stderr",
     "output_type": "stream",
     "text": [
      "\r",
      "Iter. Sofia projections:  73%|██████████████████████████████████████████████▍                 | 11770/16232 [01:52<00:43, 101.50it/s]"
     ]
    },
    {
     "name": "stderr",
     "output_type": "stream",
     "text": [
      "\r",
      "Iter. Sofia projections:  73%|██████████████████████████████████████████████▍                 | 11781/16232 [01:52<00:44, 100.54it/s]"
     ]
    },
    {
     "name": "stderr",
     "output_type": "stream",
     "text": [
      "\r",
      "Iter. Sofia projections:  73%|██████████████████████████████████████████████▍                 | 11792/16232 [01:52<00:43, 102.27it/s]"
     ]
    },
    {
     "name": "stderr",
     "output_type": "stream",
     "text": [
      "\r",
      "Iter. Sofia projections:  73%|██████████████████████████████████████████████▌                 | 11803/16232 [01:52<00:43, 100.99it/s]"
     ]
    },
    {
     "name": "stderr",
     "output_type": "stream",
     "text": [
      "\r",
      "Iter. Sofia projections:  73%|██████████████████████████████████████████████▌                 | 11814/16232 [01:52<00:43, 102.30it/s]"
     ]
    },
    {
     "name": "stderr",
     "output_type": "stream",
     "text": [
      "\r",
      "Iter. Sofia projections:  73%|██████████████████████████████████████████████▌                 | 11825/16232 [01:52<00:42, 102.72it/s]"
     ]
    },
    {
     "name": "stderr",
     "output_type": "stream",
     "text": [
      "\r",
      "Iter. Sofia projections:  73%|██████████████████████████████████████████████▋                 | 11836/16232 [01:52<00:42, 102.81it/s]"
     ]
    },
    {
     "name": "stderr",
     "output_type": "stream",
     "text": [
      "\r",
      "Iter. Sofia projections:  73%|██████████████████████████████████████████████▋                 | 11847/16232 [01:53<00:43, 100.74it/s]"
     ]
    },
    {
     "name": "stderr",
     "output_type": "stream",
     "text": [
      "\r",
      "Iter. Sofia projections:  73%|██████████████████████████████████████████████▊                 | 11858/16232 [01:53<00:43, 100.13it/s]"
     ]
    },
    {
     "name": "stderr",
     "output_type": "stream",
     "text": [
      "\r",
      "Iter. Sofia projections:  73%|██████████████████████████████████████████████▊                 | 11869/16232 [01:53<00:43, 101.09it/s]"
     ]
    },
    {
     "name": "stderr",
     "output_type": "stream",
     "text": [
      "\r",
      "Iter. Sofia projections:  73%|██████████████████████████████████████████████▊                 | 11881/16232 [01:53<00:41, 105.54it/s]"
     ]
    },
    {
     "name": "stderr",
     "output_type": "stream",
     "text": [
      "\r",
      "Iter. Sofia projections:  73%|██████████████████████████████████████████████▉                 | 11892/16232 [01:53<00:40, 105.89it/s]"
     ]
    },
    {
     "name": "stderr",
     "output_type": "stream",
     "text": [
      "\r",
      "Iter. Sofia projections:  73%|██████████████████████████████████████████████▉                 | 11904/16232 [01:53<00:40, 107.38it/s]"
     ]
    },
    {
     "name": "stderr",
     "output_type": "stream",
     "text": [
      "\r",
      "Iter. Sofia projections:  73%|██████████████████████████████████████████████▉                 | 11915/16232 [01:53<00:40, 106.21it/s]"
     ]
    },
    {
     "name": "stderr",
     "output_type": "stream",
     "text": [
      "\r",
      "Iter. Sofia projections:  73%|███████████████████████████████████████████████                 | 11926/16232 [01:53<00:40, 105.93it/s]"
     ]
    },
    {
     "name": "stderr",
     "output_type": "stream",
     "text": [
      "\r",
      "Iter. Sofia projections:  74%|███████████████████████████████████████████████                 | 11937/16232 [01:53<00:41, 104.67it/s]"
     ]
    },
    {
     "name": "stderr",
     "output_type": "stream",
     "text": [
      "\r",
      "Iter. Sofia projections:  74%|███████████████████████████████████████████████                 | 11949/16232 [01:53<00:39, 107.17it/s]"
     ]
    },
    {
     "name": "stderr",
     "output_type": "stream",
     "text": [
      "\r",
      "Iter. Sofia projections:  74%|███████████████████████████████████████████████▏                | 11961/16232 [01:54<00:39, 108.68it/s]"
     ]
    },
    {
     "name": "stderr",
     "output_type": "stream",
     "text": [
      "\r",
      "Iter. Sofia projections:  74%|███████████████████████████████████████████████▏                | 11972/16232 [01:54<00:39, 106.82it/s]"
     ]
    },
    {
     "name": "stderr",
     "output_type": "stream",
     "text": [
      "\r",
      "Iter. Sofia projections:  74%|███████████████████████████████████████████████▏                | 11983/16232 [01:54<00:40, 106.22it/s]"
     ]
    },
    {
     "name": "stderr",
     "output_type": "stream",
     "text": [
      "\r",
      "Iter. Sofia projections:  74%|███████████████████████████████████████████████▎                | 11994/16232 [01:54<00:39, 105.96it/s]"
     ]
    },
    {
     "name": "stderr",
     "output_type": "stream",
     "text": [
      "\r",
      "Iter. Sofia projections:  74%|███████████████████████████████████████████████▎                | 12005/16232 [01:54<00:39, 106.76it/s]"
     ]
    },
    {
     "name": "stderr",
     "output_type": "stream",
     "text": [
      "\r",
      "Iter. Sofia projections:  74%|███████████████████████████████████████████████▍                | 12017/16232 [01:54<00:38, 108.82it/s]"
     ]
    },
    {
     "name": "stderr",
     "output_type": "stream",
     "text": [
      "\r",
      "Iter. Sofia projections:  74%|███████████████████████████████████████████████▍                | 12028/16232 [01:54<00:39, 107.58it/s]"
     ]
    },
    {
     "name": "stderr",
     "output_type": "stream",
     "text": [
      "\r",
      "Iter. Sofia projections:  74%|███████████████████████████████████████████████▍                | 12039/16232 [01:54<00:39, 107.12it/s]"
     ]
    },
    {
     "name": "stderr",
     "output_type": "stream",
     "text": [
      "\r",
      "Iter. Sofia projections:  74%|███████████████████████████████████████████████▌                | 12050/16232 [01:54<00:38, 107.43it/s]"
     ]
    },
    {
     "name": "stderr",
     "output_type": "stream",
     "text": [
      "\r",
      "Iter. Sofia projections:  74%|███████████████████████████████████████████████▌                | 12061/16232 [01:55<00:38, 107.49it/s]"
     ]
    },
    {
     "name": "stderr",
     "output_type": "stream",
     "text": [
      "\r",
      "Iter. Sofia projections:  74%|███████████████████████████████████████████████▌                | 12072/16232 [01:55<00:39, 104.34it/s]"
     ]
    },
    {
     "name": "stderr",
     "output_type": "stream",
     "text": [
      "\r",
      "Iter. Sofia projections:  74%|███████████████████████████████████████████████▋                | 12083/16232 [01:55<00:39, 104.05it/s]"
     ]
    },
    {
     "name": "stderr",
     "output_type": "stream",
     "text": [
      "\r",
      "Iter. Sofia projections:  75%|███████████████████████████████████████████████▋                | 12094/16232 [01:55<00:40, 102.46it/s]"
     ]
    },
    {
     "name": "stderr",
     "output_type": "stream",
     "text": [
      "\r",
      "Iter. Sofia projections:  75%|███████████████████████████████████████████████▋                | 12105/16232 [01:55<00:39, 103.20it/s]"
     ]
    },
    {
     "name": "stderr",
     "output_type": "stream",
     "text": [
      "\r",
      "Iter. Sofia projections:  75%|███████████████████████████████████████████████▊                | 12116/16232 [01:55<00:39, 104.83it/s]"
     ]
    },
    {
     "name": "stderr",
     "output_type": "stream",
     "text": [
      "\r",
      "Iter. Sofia projections:  75%|███████████████████████████████████████████████▊                | 12127/16232 [01:55<00:39, 105.23it/s]"
     ]
    },
    {
     "name": "stderr",
     "output_type": "stream",
     "text": [
      "\r",
      "Iter. Sofia projections:  75%|███████████████████████████████████████████████▊                | 12138/16232 [01:55<00:38, 105.47it/s]"
     ]
    },
    {
     "name": "stderr",
     "output_type": "stream",
     "text": [
      "\r",
      "Iter. Sofia projections:  75%|███████████████████████████████████████████████▉                | 12150/16232 [01:55<00:38, 107.12it/s]"
     ]
    },
    {
     "name": "stderr",
     "output_type": "stream",
     "text": [
      "\r",
      "Iter. Sofia projections:  75%|███████████████████████████████████████████████▉                | 12161/16232 [01:55<00:37, 107.21it/s]"
     ]
    },
    {
     "name": "stderr",
     "output_type": "stream",
     "text": [
      "\r",
      "Iter. Sofia projections:  75%|███████████████████████████████████████████████▉                | 12172/16232 [01:56<00:37, 106.90it/s]"
     ]
    },
    {
     "name": "stderr",
     "output_type": "stream",
     "text": [
      "\r",
      "Iter. Sofia projections:  75%|████████████████████████████████████████████████                | 12183/16232 [01:56<00:38, 105.24it/s]"
     ]
    },
    {
     "name": "stderr",
     "output_type": "stream",
     "text": [
      "\r",
      "Iter. Sofia projections:  75%|████████████████████████████████████████████████                | 12194/16232 [01:56<00:38, 105.81it/s]"
     ]
    },
    {
     "name": "stderr",
     "output_type": "stream",
     "text": [
      "\r",
      "Iter. Sofia projections:  75%|████████████████████████████████████████████████                | 12205/16232 [01:56<00:38, 105.49it/s]"
     ]
    },
    {
     "name": "stderr",
     "output_type": "stream",
     "text": [
      "\r",
      "Iter. Sofia projections:  75%|████████████████████████████████████████████████▏               | 12216/16232 [01:56<00:38, 103.96it/s]"
     ]
    },
    {
     "name": "stderr",
     "output_type": "stream",
     "text": [
      "\r",
      "Iter. Sofia projections:  75%|████████████████████████████████████████████████▏               | 12227/16232 [01:56<00:38, 104.13it/s]"
     ]
    },
    {
     "name": "stderr",
     "output_type": "stream",
     "text": [
      "\r",
      "Iter. Sofia projections:  75%|████████████████████████████████████████████████▎               | 12238/16232 [01:56<00:38, 103.31it/s]"
     ]
    },
    {
     "name": "stderr",
     "output_type": "stream",
     "text": [
      "\r",
      "Iter. Sofia projections:  75%|████████████████████████████████████████████████▎               | 12249/16232 [01:56<00:38, 104.29it/s]"
     ]
    },
    {
     "name": "stderr",
     "output_type": "stream",
     "text": [
      "\r",
      "Iter. Sofia projections:  76%|████████████████████████████████████████████████▎               | 12261/16232 [01:56<00:36, 107.39it/s]"
     ]
    },
    {
     "name": "stderr",
     "output_type": "stream",
     "text": [
      "\r",
      "Iter. Sofia projections:  76%|████████████████████████████████████████████████▍               | 12272/16232 [01:57<00:36, 107.63it/s]"
     ]
    },
    {
     "name": "stderr",
     "output_type": "stream",
     "text": [
      "\r",
      "Iter. Sofia projections:  76%|████████████████████████████████████████████████▍               | 12283/16232 [01:57<00:36, 108.18it/s]"
     ]
    },
    {
     "name": "stderr",
     "output_type": "stream",
     "text": [
      "\r",
      "Iter. Sofia projections:  76%|████████████████████████████████████████████████▍               | 12294/16232 [01:57<00:37, 104.64it/s]"
     ]
    },
    {
     "name": "stderr",
     "output_type": "stream",
     "text": [
      "\r",
      "Iter. Sofia projections:  76%|████████████████████████████████████████████████▌               | 12305/16232 [01:57<00:37, 104.04it/s]"
     ]
    },
    {
     "name": "stderr",
     "output_type": "stream",
     "text": [
      "\r",
      "Iter. Sofia projections:  76%|████████████████████████████████████████████████▌               | 12317/16232 [01:57<00:36, 107.23it/s]"
     ]
    },
    {
     "name": "stderr",
     "output_type": "stream",
     "text": [
      "\r",
      "Iter. Sofia projections:  76%|████████████████████████████████████████████████▌               | 12328/16232 [01:57<00:36, 106.70it/s]"
     ]
    },
    {
     "name": "stderr",
     "output_type": "stream",
     "text": [
      "\r",
      "Iter. Sofia projections:  76%|████████████████████████████████████████████████▋               | 12340/16232 [01:57<00:35, 109.05it/s]"
     ]
    },
    {
     "name": "stderr",
     "output_type": "stream",
     "text": [
      "\r",
      "Iter. Sofia projections:  76%|████████████████████████████████████████████████▋               | 12352/16232 [01:57<00:34, 112.06it/s]"
     ]
    },
    {
     "name": "stderr",
     "output_type": "stream",
     "text": [
      "\r",
      "Iter. Sofia projections:  76%|████████████████████████████████████████████████▋               | 12364/16232 [01:57<00:34, 113.00it/s]"
     ]
    },
    {
     "name": "stderr",
     "output_type": "stream",
     "text": [
      "\r",
      "Iter. Sofia projections:  76%|████████████████████████████████████████████████▊               | 12376/16232 [01:57<00:35, 109.29it/s]"
     ]
    },
    {
     "name": "stderr",
     "output_type": "stream",
     "text": [
      "\r",
      "Iter. Sofia projections:  76%|████████████████████████████████████████████████▊               | 12387/16232 [01:58<00:35, 108.78it/s]"
     ]
    },
    {
     "name": "stderr",
     "output_type": "stream",
     "text": [
      "\r",
      "Iter. Sofia projections:  76%|████████████████████████████████████████████████▉               | 12398/16232 [01:58<00:35, 107.30it/s]"
     ]
    },
    {
     "name": "stderr",
     "output_type": "stream",
     "text": [
      "\r",
      "Iter. Sofia projections:  76%|████████████████████████████████████████████████▉               | 12409/16232 [01:58<00:36, 104.06it/s]"
     ]
    },
    {
     "name": "stderr",
     "output_type": "stream",
     "text": [
      "\r",
      "Iter. Sofia projections:  77%|████████████████████████████████████████████████▉               | 12421/16232 [01:58<00:35, 106.01it/s]"
     ]
    },
    {
     "name": "stderr",
     "output_type": "stream",
     "text": [
      "\r",
      "Iter. Sofia projections:  77%|█████████████████████████████████████████████████               | 12432/16232 [01:58<00:36, 104.85it/s]"
     ]
    },
    {
     "name": "stderr",
     "output_type": "stream",
     "text": [
      "\r",
      "Iter. Sofia projections:  77%|█████████████████████████████████████████████████               | 12443/16232 [01:58<00:37, 101.09it/s]"
     ]
    },
    {
     "name": "stderr",
     "output_type": "stream",
     "text": [
      "\r",
      "Iter. Sofia projections:  77%|█████████████████████████████████████████████████▊               | 12454/16232 [01:58<00:42, 88.29it/s]"
     ]
    },
    {
     "name": "stderr",
     "output_type": "stream",
     "text": [
      "\r",
      "Iter. Sofia projections:  77%|█████████████████████████████████████████████████▉               | 12465/16232 [01:58<00:40, 93.48it/s]"
     ]
    },
    {
     "name": "stderr",
     "output_type": "stream",
     "text": [
      "\r",
      "Iter. Sofia projections:  77%|█████████████████████████████████████████████████▉               | 12477/16232 [01:58<00:37, 98.82it/s]"
     ]
    },
    {
     "name": "stderr",
     "output_type": "stream",
     "text": [
      "\r",
      "Iter. Sofia projections:  77%|█████████████████████████████████████████████████▏              | 12489/16232 [01:59<00:36, 103.35it/s]"
     ]
    },
    {
     "name": "stderr",
     "output_type": "stream",
     "text": [
      "\r",
      "Iter. Sofia projections:  77%|█████████████████████████████████████████████████▎              | 12500/16232 [01:59<00:35, 104.13it/s]"
     ]
    },
    {
     "name": "stderr",
     "output_type": "stream",
     "text": [
      "\r",
      "Iter. Sofia projections:  77%|█████████████████████████████████████████████████▎              | 12512/16232 [01:59<00:34, 106.65it/s]"
     ]
    },
    {
     "name": "stderr",
     "output_type": "stream",
     "text": [
      "\r",
      "Iter. Sofia projections:  77%|█████████████████████████████████████████████████▍              | 12524/16232 [01:59<00:34, 108.16it/s]"
     ]
    },
    {
     "name": "stderr",
     "output_type": "stream",
     "text": [
      "\r",
      "Iter. Sofia projections:  77%|█████████████████████████████████████████████████▍              | 12535/16232 [01:59<00:34, 106.12it/s]"
     ]
    },
    {
     "name": "stderr",
     "output_type": "stream",
     "text": [
      "\r",
      "Iter. Sofia projections:  77%|█████████████████████████████████████████████████▍              | 12546/16232 [01:59<00:35, 105.02it/s]"
     ]
    },
    {
     "name": "stderr",
     "output_type": "stream",
     "text": [
      "\r",
      "Iter. Sofia projections:  77%|█████████████████████████████████████████████████▌              | 12557/16232 [01:59<00:35, 104.51it/s]"
     ]
    },
    {
     "name": "stderr",
     "output_type": "stream",
     "text": [
      "\r",
      "Iter. Sofia projections:  77%|█████████████████████████████████████████████████▌              | 12569/16232 [01:59<00:34, 106.96it/s]"
     ]
    },
    {
     "name": "stderr",
     "output_type": "stream",
     "text": [
      "\r",
      "Iter. Sofia projections:  78%|█████████████████████████████████████████████████▌              | 12580/16232 [01:59<00:35, 103.75it/s]"
     ]
    },
    {
     "name": "stderr",
     "output_type": "stream",
     "text": [
      "\r",
      "Iter. Sofia projections:  78%|█████████████████████████████████████████████████▋              | 12591/16232 [02:00<00:35, 102.89it/s]"
     ]
    },
    {
     "name": "stderr",
     "output_type": "stream",
     "text": [
      "\r",
      "Iter. Sofia projections:  78%|█████████████████████████████████████████████████▋              | 12602/16232 [02:00<00:35, 103.02it/s]"
     ]
    },
    {
     "name": "stderr",
     "output_type": "stream",
     "text": [
      "\r",
      "Iter. Sofia projections:  78%|█████████████████████████████████████████████████▋              | 12613/16232 [02:00<00:34, 103.65it/s]"
     ]
    },
    {
     "name": "stderr",
     "output_type": "stream",
     "text": [
      "\r",
      "Iter. Sofia projections:  78%|█████████████████████████████████████████████████▊              | 12624/16232 [02:00<00:34, 104.24it/s]"
     ]
    },
    {
     "name": "stderr",
     "output_type": "stream",
     "text": [
      "\r",
      "Iter. Sofia projections:  78%|█████████████████████████████████████████████████▊              | 12636/16232 [02:00<00:33, 105.86it/s]"
     ]
    },
    {
     "name": "stderr",
     "output_type": "stream",
     "text": [
      "\r",
      "Iter. Sofia projections:  78%|█████████████████████████████████████████████████▊              | 12647/16232 [02:00<00:33, 106.51it/s]"
     ]
    },
    {
     "name": "stderr",
     "output_type": "stream",
     "text": [
      "\r",
      "Iter. Sofia projections:  78%|█████████████████████████████████████████████████▉              | 12658/16232 [02:00<00:33, 105.25it/s]"
     ]
    },
    {
     "name": "stderr",
     "output_type": "stream",
     "text": [
      "\r",
      "Iter. Sofia projections:  78%|█████████████████████████████████████████████████▉              | 12669/16232 [02:00<00:33, 105.77it/s]"
     ]
    },
    {
     "name": "stderr",
     "output_type": "stream",
     "text": [
      "\r",
      "Iter. Sofia projections:  78%|█████████████████████████████████████████████████▉              | 12681/16232 [02:00<00:32, 107.73it/s]"
     ]
    },
    {
     "name": "stderr",
     "output_type": "stream",
     "text": [
      "\r",
      "Iter. Sofia projections:  78%|██████████████████████████████████████████████████              | 12692/16232 [02:01<00:32, 107.61it/s]"
     ]
    },
    {
     "name": "stderr",
     "output_type": "stream",
     "text": [
      "\r",
      "Iter. Sofia projections:  78%|██████████████████████████████████████████████████              | 12703/16232 [02:01<00:33, 104.68it/s]"
     ]
    },
    {
     "name": "stderr",
     "output_type": "stream",
     "text": [
      "\r",
      "Iter. Sofia projections:  78%|██████████████████████████████████████████████████▏             | 12714/16232 [02:01<00:34, 102.51it/s]"
     ]
    },
    {
     "name": "stderr",
     "output_type": "stream",
     "text": [
      "\r",
      "Iter. Sofia projections:  78%|██████████████████████████████████████████████████▏             | 12725/16232 [02:01<00:33, 104.20it/s]"
     ]
    },
    {
     "name": "stderr",
     "output_type": "stream",
     "text": [
      "\r",
      "Iter. Sofia projections:  78%|██████████████████████████████████████████████████▏             | 12736/16232 [02:01<00:33, 104.42it/s]"
     ]
    },
    {
     "name": "stderr",
     "output_type": "stream",
     "text": [
      "\r",
      "Iter. Sofia projections:  79%|██████████████████████████████████████████████████▎             | 12747/16232 [02:01<00:33, 105.31it/s]"
     ]
    },
    {
     "name": "stderr",
     "output_type": "stream",
     "text": [
      "\r",
      "Iter. Sofia projections:  79%|██████████████████████████████████████████████████▎             | 12758/16232 [02:01<00:33, 104.62it/s]"
     ]
    },
    {
     "name": "stderr",
     "output_type": "stream",
     "text": [
      "\r",
      "Iter. Sofia projections:  79%|██████████████████████████████████████████████████▎             | 12771/16232 [02:01<00:31, 109.60it/s]"
     ]
    },
    {
     "name": "stderr",
     "output_type": "stream",
     "text": [
      "\r",
      "Iter. Sofia projections:  79%|██████████████████████████████████████████████████▍             | 12782/16232 [02:01<00:31, 108.42it/s]"
     ]
    },
    {
     "name": "stderr",
     "output_type": "stream",
     "text": [
      "\r",
      "Iter. Sofia projections:  79%|██████████████████████████████████████████████████▍             | 12794/16232 [02:01<00:31, 109.41it/s]"
     ]
    },
    {
     "name": "stderr",
     "output_type": "stream",
     "text": [
      "\r",
      "Iter. Sofia projections:  79%|██████████████████████████████████████████████████▍             | 12805/16232 [02:02<00:31, 108.38it/s]"
     ]
    },
    {
     "name": "stderr",
     "output_type": "stream",
     "text": [
      "\r",
      "Iter. Sofia projections:  79%|██████████████████████████████████████████████████▌             | 12816/16232 [02:02<00:31, 107.21it/s]"
     ]
    },
    {
     "name": "stderr",
     "output_type": "stream",
     "text": [
      "\r",
      "Iter. Sofia projections:  79%|██████████████████████████████████████████████████▌             | 12827/16232 [02:02<00:32, 103.51it/s]"
     ]
    },
    {
     "name": "stderr",
     "output_type": "stream",
     "text": [
      "\r",
      "Iter. Sofia projections:  79%|███████████████████████████████████████████████████▍             | 12838/16232 [02:02<00:34, 99.44it/s]"
     ]
    },
    {
     "name": "stderr",
     "output_type": "stream",
     "text": [
      "\r",
      "Iter. Sofia projections:  79%|██████████████████████████████████████████████████▋             | 12849/16232 [02:02<00:33, 100.41it/s]"
     ]
    },
    {
     "name": "stderr",
     "output_type": "stream",
     "text": [
      "\r",
      "Iter. Sofia projections:  79%|██████████████████████████████████████████████████▋             | 12860/16232 [02:02<00:33, 100.52it/s]"
     ]
    },
    {
     "name": "stderr",
     "output_type": "stream",
     "text": [
      "\r",
      "Iter. Sofia projections:  79%|██████████████████████████████████████████████████▋             | 12871/16232 [02:02<00:32, 101.91it/s]"
     ]
    },
    {
     "name": "stderr",
     "output_type": "stream",
     "text": [
      "\r",
      "Iter. Sofia projections:  79%|██████████████████████████████████████████████████▊             | 12883/16232 [02:02<00:32, 104.46it/s]"
     ]
    },
    {
     "name": "stderr",
     "output_type": "stream",
     "text": [
      "\r",
      "Iter. Sofia projections:  79%|██████████████████████████████████████████████████▊             | 12895/16232 [02:02<00:31, 106.77it/s]"
     ]
    },
    {
     "name": "stderr",
     "output_type": "stream",
     "text": [
      "\r",
      "Iter. Sofia projections:  80%|██████████████████████████████████████████████████▉             | 12906/16232 [02:03<00:31, 105.49it/s]"
     ]
    },
    {
     "name": "stderr",
     "output_type": "stream",
     "text": [
      "\r",
      "Iter. Sofia projections:  80%|██████████████████████████████████████████████████▉             | 12918/16232 [02:03<00:30, 107.37it/s]"
     ]
    },
    {
     "name": "stderr",
     "output_type": "stream",
     "text": [
      "\r",
      "Iter. Sofia projections:  80%|██████████████████████████████████████████████████▉             | 12929/16232 [02:03<00:31, 105.37it/s]"
     ]
    },
    {
     "name": "stderr",
     "output_type": "stream",
     "text": [
      "\r",
      "Iter. Sofia projections:  80%|███████████████████████████████████████████████████             | 12941/16232 [02:03<00:30, 106.84it/s]"
     ]
    },
    {
     "name": "stderr",
     "output_type": "stream",
     "text": [
      "\r",
      "Iter. Sofia projections:  80%|███████████████████████████████████████████████████             | 12952/16232 [02:03<00:31, 105.70it/s]"
     ]
    },
    {
     "name": "stderr",
     "output_type": "stream",
     "text": [
      "\r",
      "Iter. Sofia projections:  80%|███████████████████████████████████████████████████             | 12963/16232 [02:03<00:31, 103.01it/s]"
     ]
    },
    {
     "name": "stderr",
     "output_type": "stream",
     "text": [
      "\r",
      "Iter. Sofia projections:  80%|███████████████████████████████████████████████████▏            | 12974/16232 [02:03<00:31, 103.67it/s]"
     ]
    },
    {
     "name": "stderr",
     "output_type": "stream",
     "text": [
      "\r",
      "Iter. Sofia projections:  80%|███████████████████████████████████████████████████▏            | 12986/16232 [02:03<00:30, 105.83it/s]"
     ]
    },
    {
     "name": "stderr",
     "output_type": "stream",
     "text": [
      "\r",
      "Iter. Sofia projections:  80%|███████████████████████████████████████████████████▏            | 12997/16232 [02:03<00:30, 104.99it/s]"
     ]
    },
    {
     "name": "stderr",
     "output_type": "stream",
     "text": [
      "\r",
      "Iter. Sofia projections:  80%|███████████████████████████████████████████████████▎            | 13009/16232 [02:04<00:29, 108.16it/s]"
     ]
    },
    {
     "name": "stderr",
     "output_type": "stream",
     "text": [
      "\r",
      "Iter. Sofia projections:  80%|███████████████████████████████████████████████████▎            | 13021/16232 [02:04<00:29, 110.52it/s]"
     ]
    },
    {
     "name": "stderr",
     "output_type": "stream",
     "text": [
      "\r",
      "Iter. Sofia projections:  80%|███████████████████████████████████████████████████▍            | 13033/16232 [02:04<00:29, 108.98it/s]"
     ]
    },
    {
     "name": "stderr",
     "output_type": "stream",
     "text": [
      "\r",
      "Iter. Sofia projections:  80%|███████████████████████████████████████████████████▍            | 13044/16232 [02:04<00:29, 108.77it/s]"
     ]
    },
    {
     "name": "stderr",
     "output_type": "stream",
     "text": [
      "\r",
      "Iter. Sofia projections:  80%|███████████████████████████████████████████████████▍            | 13056/16232 [02:04<00:29, 108.73it/s]"
     ]
    },
    {
     "name": "stderr",
     "output_type": "stream",
     "text": [
      "\r",
      "Iter. Sofia projections:  81%|███████████████████████████████████████████████████▌            | 13068/16232 [02:04<00:28, 110.36it/s]"
     ]
    },
    {
     "name": "stderr",
     "output_type": "stream",
     "text": [
      "\r",
      "Iter. Sofia projections:  81%|███████████████████████████████████████████████████▌            | 13080/16232 [02:04<00:29, 105.32it/s]"
     ]
    },
    {
     "name": "stderr",
     "output_type": "stream",
     "text": [
      "\r",
      "Iter. Sofia projections:  81%|███████████████████████████████████████████████████▌            | 13091/16232 [02:04<00:29, 104.74it/s]"
     ]
    },
    {
     "name": "stderr",
     "output_type": "stream",
     "text": [
      "\r",
      "Iter. Sofia projections:  81%|███████████████████████████████████████████████████▋            | 13102/16232 [02:04<00:29, 105.31it/s]"
     ]
    },
    {
     "name": "stderr",
     "output_type": "stream",
     "text": [
      "\r",
      "Iter. Sofia projections:  81%|███████████████████████████████████████████████████▋            | 13113/16232 [02:05<00:29, 105.90it/s]"
     ]
    },
    {
     "name": "stderr",
     "output_type": "stream",
     "text": [
      "\r",
      "Iter. Sofia projections:  81%|███████████████████████████████████████████████████▋            | 13124/16232 [02:05<00:29, 104.82it/s]"
     ]
    },
    {
     "name": "stderr",
     "output_type": "stream",
     "text": [
      "\r",
      "Iter. Sofia projections:  81%|████████████████████████████████████████████████████▌            | 13135/16232 [02:05<00:31, 98.63it/s]"
     ]
    },
    {
     "name": "stderr",
     "output_type": "stream",
     "text": [
      "\r",
      "Iter. Sofia projections:  81%|███████████████████████████████████████████████████▊            | 13146/16232 [02:05<00:30, 101.06it/s]"
     ]
    },
    {
     "name": "stderr",
     "output_type": "stream",
     "text": [
      "\r",
      "Iter. Sofia projections:  81%|███████████████████████████████████████████████████▉            | 13157/16232 [02:05<00:29, 102.71it/s]"
     ]
    },
    {
     "name": "stderr",
     "output_type": "stream",
     "text": [
      "\r",
      "Iter. Sofia projections:  81%|███████████████████████████████████████████████████▉            | 13168/16232 [02:05<00:29, 103.01it/s]"
     ]
    },
    {
     "name": "stderr",
     "output_type": "stream",
     "text": [
      "\r",
      "Iter. Sofia projections:  81%|███████████████████████████████████████████████████▉            | 13179/16232 [02:05<00:29, 102.25it/s]"
     ]
    },
    {
     "name": "stderr",
     "output_type": "stream",
     "text": [
      "\r",
      "Iter. Sofia projections:  81%|████████████████████████████████████████████████████            | 13190/16232 [02:05<00:29, 102.38it/s]"
     ]
    },
    {
     "name": "stderr",
     "output_type": "stream",
     "text": [
      "\r",
      "Iter. Sofia projections:  81%|████████████████████████████████████████████████████            | 13201/16232 [02:05<00:30, 100.00it/s]"
     ]
    },
    {
     "name": "stderr",
     "output_type": "stream",
     "text": [
      "\r",
      "Iter. Sofia projections:  81%|████████████████████████████████████████████████████            | 13212/16232 [02:05<00:29, 100.96it/s]"
     ]
    },
    {
     "name": "stderr",
     "output_type": "stream",
     "text": [
      "\r",
      "Iter. Sofia projections:  81%|████████████████████████████████████████████████████▏           | 13224/16232 [02:06<00:28, 103.94it/s]"
     ]
    },
    {
     "name": "stderr",
     "output_type": "stream",
     "text": [
      "\r",
      "Iter. Sofia projections:  82%|████████████████████████████████████████████████████▏           | 13235/16232 [02:06<00:28, 105.44it/s]"
     ]
    },
    {
     "name": "stderr",
     "output_type": "stream",
     "text": [
      "\r",
      "Iter. Sofia projections:  82%|████████████████████████████████████████████████████▏           | 13246/16232 [02:06<00:28, 105.73it/s]"
     ]
    },
    {
     "name": "stderr",
     "output_type": "stream",
     "text": [
      "\r",
      "Iter. Sofia projections:  82%|████████████████████████████████████████████████████▎           | 13257/16232 [02:06<00:28, 105.55it/s]"
     ]
    },
    {
     "name": "stderr",
     "output_type": "stream",
     "text": [
      "\r",
      "Iter. Sofia projections:  82%|████████████████████████████████████████████████████▎           | 13268/16232 [02:06<00:27, 105.86it/s]"
     ]
    },
    {
     "name": "stderr",
     "output_type": "stream",
     "text": [
      "\r",
      "Iter. Sofia projections:  82%|████████████████████████████████████████████████████▎           | 13279/16232 [02:06<00:27, 105.88it/s]"
     ]
    },
    {
     "name": "stderr",
     "output_type": "stream",
     "text": [
      "\r",
      "Iter. Sofia projections:  82%|████████████████████████████████████████████████████▍           | 13291/16232 [02:06<00:26, 109.05it/s]"
     ]
    },
    {
     "name": "stderr",
     "output_type": "stream",
     "text": [
      "\r",
      "Iter. Sofia projections:  82%|████████████████████████████████████████████████████▍           | 13302/16232 [02:06<00:27, 107.30it/s]"
     ]
    },
    {
     "name": "stderr",
     "output_type": "stream",
     "text": [
      "\r",
      "Iter. Sofia projections:  82%|████████████████████████████████████████████████████▍           | 13313/16232 [02:06<00:27, 105.99it/s]"
     ]
    },
    {
     "name": "stderr",
     "output_type": "stream",
     "text": [
      "\r",
      "Iter. Sofia projections:  82%|████████████████████████████████████████████████████▌           | 13324/16232 [02:07<00:28, 103.52it/s]"
     ]
    },
    {
     "name": "stderr",
     "output_type": "stream",
     "text": [
      "\r",
      "Iter. Sofia projections:  82%|████████████████████████████████████████████████████▌           | 13335/16232 [02:07<00:28, 103.22it/s]"
     ]
    },
    {
     "name": "stderr",
     "output_type": "stream",
     "text": [
      "\r",
      "Iter. Sofia projections:  82%|████████████████████████████████████████████████████▌           | 13346/16232 [02:07<00:28, 102.03it/s]"
     ]
    },
    {
     "name": "stderr",
     "output_type": "stream",
     "text": [
      "\r",
      "Iter. Sofia projections:  82%|████████████████████████████████████████████████████▋           | 13357/16232 [02:07<00:28, 100.63it/s]"
     ]
    },
    {
     "name": "stderr",
     "output_type": "stream",
     "text": [
      "\r",
      "Iter. Sofia projections:  82%|████████████████████████████████████████████████████▋           | 13368/16232 [02:07<00:28, 102.12it/s]"
     ]
    },
    {
     "name": "stderr",
     "output_type": "stream",
     "text": [
      "\r",
      "Iter. Sofia projections:  82%|████████████████████████████████████████████████████▊           | 13379/16232 [02:07<00:27, 102.92it/s]"
     ]
    },
    {
     "name": "stderr",
     "output_type": "stream",
     "text": [
      "\r",
      "Iter. Sofia projections:  82%|████████████████████████████████████████████████████▊           | 13391/16232 [02:07<00:26, 106.86it/s]"
     ]
    },
    {
     "name": "stderr",
     "output_type": "stream",
     "text": [
      "\r",
      "Iter. Sofia projections:  83%|████████████████████████████████████████████████████▊           | 13403/16232 [02:07<00:25, 108.90it/s]"
     ]
    },
    {
     "name": "stderr",
     "output_type": "stream",
     "text": [
      "\r",
      "Iter. Sofia projections:  83%|████████████████████████████████████████████████████▉           | 13415/16232 [02:07<00:25, 109.13it/s]"
     ]
    },
    {
     "name": "stderr",
     "output_type": "stream",
     "text": [
      "\r",
      "Iter. Sofia projections:  83%|████████████████████████████████████████████████████▉           | 13426/16232 [02:08<00:25, 108.44it/s]"
     ]
    },
    {
     "name": "stderr",
     "output_type": "stream",
     "text": [
      "\r",
      "Iter. Sofia projections:  83%|████████████████████████████████████████████████████▉           | 13437/16232 [02:08<00:26, 105.93it/s]"
     ]
    },
    {
     "name": "stderr",
     "output_type": "stream",
     "text": [
      "\r",
      "Iter. Sofia projections:  83%|█████████████████████████████████████████████████████           | 13448/16232 [02:08<00:27, 102.21it/s]"
     ]
    },
    {
     "name": "stderr",
     "output_type": "stream",
     "text": [
      "\r",
      "Iter. Sofia projections:  83%|█████████████████████████████████████████████████████           | 13459/16232 [02:08<00:27, 102.37it/s]"
     ]
    },
    {
     "name": "stderr",
     "output_type": "stream",
     "text": [
      "\r",
      "Iter. Sofia projections:  83%|█████████████████████████████████████████████████████           | 13470/16232 [02:08<00:27, 101.78it/s]"
     ]
    },
    {
     "name": "stderr",
     "output_type": "stream",
     "text": [
      "\r",
      "Iter. Sofia projections:  83%|█████████████████████████████████████████████████████▏          | 13481/16232 [02:08<00:27, 101.55it/s]"
     ]
    },
    {
     "name": "stderr",
     "output_type": "stream",
     "text": [
      "\r",
      "Iter. Sofia projections:  83%|█████████████████████████████████████████████████████▏          | 13492/16232 [02:08<00:26, 103.09it/s]"
     ]
    },
    {
     "name": "stderr",
     "output_type": "stream",
     "text": [
      "\r",
      "Iter. Sofia projections:  83%|█████████████████████████████████████████████████████▏          | 13504/16232 [02:08<00:25, 105.27it/s]"
     ]
    },
    {
     "name": "stderr",
     "output_type": "stream",
     "text": [
      "\r",
      "Iter. Sofia projections:  83%|█████████████████████████████████████████████████████▎          | 13515/16232 [02:08<00:25, 104.98it/s]"
     ]
    },
    {
     "name": "stderr",
     "output_type": "stream",
     "text": [
      "\r",
      "Iter. Sofia projections:  83%|█████████████████████████████████████████████████████▎          | 13526/16232 [02:08<00:25, 104.26it/s]"
     ]
    },
    {
     "name": "stderr",
     "output_type": "stream",
     "text": [
      "\r",
      "Iter. Sofia projections:  83%|█████████████████████████████████████████████████████▎          | 13537/16232 [02:09<00:25, 105.71it/s]"
     ]
    },
    {
     "name": "stderr",
     "output_type": "stream",
     "text": [
      "\r",
      "Iter. Sofia projections:  83%|█████████████████████████████████████████████████████▍          | 13548/16232 [02:09<00:25, 106.53it/s]"
     ]
    },
    {
     "name": "stderr",
     "output_type": "stream",
     "text": [
      "\r",
      "Iter. Sofia projections:  84%|█████████████████████████████████████████████████████▍          | 13559/16232 [02:09<00:25, 106.47it/s]"
     ]
    },
    {
     "name": "stderr",
     "output_type": "stream",
     "text": [
      "\r",
      "Iter. Sofia projections:  84%|█████████████████████████████████████████████████████▌          | 13570/16232 [02:09<00:25, 105.27it/s]"
     ]
    },
    {
     "name": "stderr",
     "output_type": "stream",
     "text": [
      "\r",
      "Iter. Sofia projections:  84%|█████████████████████████████████████████████████████▌          | 13581/16232 [02:09<00:25, 104.92it/s]"
     ]
    },
    {
     "name": "stderr",
     "output_type": "stream",
     "text": [
      "\r",
      "Iter. Sofia projections:  84%|█████████████████████████████████████████████████████▌          | 13592/16232 [02:09<00:24, 105.94it/s]"
     ]
    },
    {
     "name": "stderr",
     "output_type": "stream",
     "text": [
      "\r",
      "Iter. Sofia projections:  84%|█████████████████████████████████████████████████████▋          | 13603/16232 [02:09<00:24, 106.36it/s]"
     ]
    },
    {
     "name": "stderr",
     "output_type": "stream",
     "text": [
      "\r",
      "Iter. Sofia projections:  84%|█████████████████████████████████████████████████████▋          | 13614/16232 [02:09<00:24, 107.38it/s]"
     ]
    },
    {
     "name": "stderr",
     "output_type": "stream",
     "text": [
      "\r",
      "Iter. Sofia projections:  84%|█████████████████████████████████████████████████████▋          | 13626/16232 [02:09<00:23, 108.81it/s]"
     ]
    },
    {
     "name": "stderr",
     "output_type": "stream",
     "text": [
      "\r",
      "Iter. Sofia projections:  84%|█████████████████████████████████████████████████████▊          | 13638/16232 [02:10<00:23, 109.45it/s]"
     ]
    },
    {
     "name": "stderr",
     "output_type": "stream",
     "text": [
      "\r",
      "Iter. Sofia projections:  84%|█████████████████████████████████████████████████████▊          | 13649/16232 [02:10<00:24, 105.99it/s]"
     ]
    },
    {
     "name": "stderr",
     "output_type": "stream",
     "text": [
      "\r",
      "Iter. Sofia projections:  84%|█████████████████████████████████████████████████████▊          | 13660/16232 [02:10<00:24, 103.99it/s]"
     ]
    },
    {
     "name": "stderr",
     "output_type": "stream",
     "text": [
      "\r",
      "Iter. Sofia projections:  84%|█████████████████████████████████████████████████████▉          | 13671/16232 [02:10<00:24, 102.99it/s]"
     ]
    },
    {
     "name": "stderr",
     "output_type": "stream",
     "text": [
      "\r",
      "Iter. Sofia projections:  84%|█████████████████████████████████████████████████████▉          | 13682/16232 [02:10<00:25, 101.03it/s]"
     ]
    },
    {
     "name": "stderr",
     "output_type": "stream",
     "text": [
      "\r",
      "Iter. Sofia projections:  84%|█████████████████████████████████████████████████████▉          | 13693/16232 [02:10<00:25, 101.18it/s]"
     ]
    },
    {
     "name": "stderr",
     "output_type": "stream",
     "text": [
      "\r",
      "Iter. Sofia projections:  84%|██████████████████████████████████████████████████████          | 13704/16232 [02:10<00:24, 101.48it/s]"
     ]
    },
    {
     "name": "stderr",
     "output_type": "stream",
     "text": [
      "\r",
      "Iter. Sofia projections:  84%|██████████████████████████████████████████████████████          | 13715/16232 [02:10<00:24, 101.54it/s]"
     ]
    },
    {
     "name": "stderr",
     "output_type": "stream",
     "text": [
      "\r",
      "Iter. Sofia projections:  85%|██████████████████████████████████████████████████████          | 13726/16232 [02:10<00:24, 103.54it/s]"
     ]
    },
    {
     "name": "stderr",
     "output_type": "stream",
     "text": [
      "\r",
      "Iter. Sofia projections:  85%|██████████████████████████████████████████████████████▏         | 13737/16232 [02:10<00:23, 105.25it/s]"
     ]
    },
    {
     "name": "stderr",
     "output_type": "stream",
     "text": [
      "\r",
      "Iter. Sofia projections:  85%|██████████████████████████████████████████████████████▏         | 13749/16232 [02:11<00:23, 107.45it/s]"
     ]
    },
    {
     "name": "stderr",
     "output_type": "stream",
     "text": [
      "\r",
      "Iter. Sofia projections:  85%|██████████████████████████████████████████████████████▎         | 13760/16232 [02:11<00:23, 104.81it/s]"
     ]
    },
    {
     "name": "stderr",
     "output_type": "stream",
     "text": [
      "\r",
      "Iter. Sofia projections:  85%|██████████████████████████████████████████████████████▎         | 13771/16232 [02:11<00:23, 103.77it/s]"
     ]
    },
    {
     "name": "stderr",
     "output_type": "stream",
     "text": [
      "\r",
      "Iter. Sofia projections:  85%|██████████████████████████████████████████████████████▎         | 13782/16232 [02:11<00:23, 104.47it/s]"
     ]
    },
    {
     "name": "stderr",
     "output_type": "stream",
     "text": [
      "\r",
      "Iter. Sofia projections:  85%|██████████████████████████████████████████████████████▍         | 13793/16232 [02:11<00:23, 104.42it/s]"
     ]
    },
    {
     "name": "stderr",
     "output_type": "stream",
     "text": [
      "\r",
      "Iter. Sofia projections:  85%|██████████████████████████████████████████████████████▍         | 13804/16232 [02:11<00:23, 101.28it/s]"
     ]
    },
    {
     "name": "stderr",
     "output_type": "stream",
     "text": [
      "\r",
      "Iter. Sofia projections:  85%|██████████████████████████████████████████████████████▍         | 13815/16232 [02:11<00:23, 100.72it/s]"
     ]
    },
    {
     "name": "stderr",
     "output_type": "stream",
     "text": [
      "\r",
      "Iter. Sofia projections:  85%|██████████████████████████████████████████████████████▌         | 13826/16232 [02:11<00:23, 101.48it/s]"
     ]
    },
    {
     "name": "stderr",
     "output_type": "stream",
     "text": [
      "\r",
      "Iter. Sofia projections:  85%|██████████████████████████████████████████████████████▌         | 13837/16232 [02:11<00:23, 103.50it/s]"
     ]
    },
    {
     "name": "stderr",
     "output_type": "stream",
     "text": [
      "\r",
      "Iter. Sofia projections:  85%|██████████████████████████████████████████████████████▌         | 13848/16232 [02:12<00:22, 104.89it/s]"
     ]
    },
    {
     "name": "stderr",
     "output_type": "stream",
     "text": [
      "\r",
      "Iter. Sofia projections:  85%|██████████████████████████████████████████████████████▋         | 13860/16232 [02:12<00:22, 106.66it/s]"
     ]
    },
    {
     "name": "stderr",
     "output_type": "stream",
     "text": [
      "\r",
      "Iter. Sofia projections:  85%|██████████████████████████████████████████████████████▋         | 13871/16232 [02:12<00:22, 105.64it/s]"
     ]
    },
    {
     "name": "stderr",
     "output_type": "stream",
     "text": [
      "\r",
      "Iter. Sofia projections:  86%|██████████████████████████████████████████████████████▋         | 13883/16232 [02:12<00:21, 107.47it/s]"
     ]
    },
    {
     "name": "stderr",
     "output_type": "stream",
     "text": [
      "\r",
      "Iter. Sofia projections:  86%|██████████████████████████████████████████████████████▊         | 13894/16232 [02:12<00:21, 107.77it/s]"
     ]
    },
    {
     "name": "stderr",
     "output_type": "stream",
     "text": [
      "\r",
      "Iter. Sofia projections:  86%|██████████████████████████████████████████████████████▊         | 13906/16232 [02:12<00:21, 108.97it/s]"
     ]
    },
    {
     "name": "stderr",
     "output_type": "stream",
     "text": [
      "\r",
      "Iter. Sofia projections:  86%|██████████████████████████████████████████████████████▊         | 13917/16232 [02:12<00:21, 106.32it/s]"
     ]
    },
    {
     "name": "stderr",
     "output_type": "stream",
     "text": [
      "\r",
      "Iter. Sofia projections:  86%|██████████████████████████████████████████████████████▉         | 13928/16232 [02:12<00:22, 102.51it/s]"
     ]
    },
    {
     "name": "stderr",
     "output_type": "stream",
     "text": [
      "\r",
      "Iter. Sofia projections:  86%|██████████████████████████████████████████████████████▉         | 13939/16232 [02:12<00:22, 102.15it/s]"
     ]
    },
    {
     "name": "stderr",
     "output_type": "stream",
     "text": [
      "\r",
      "Iter. Sofia projections:  86%|███████████████████████████████████████████████████████         | 13950/16232 [02:13<00:22, 101.92it/s]"
     ]
    },
    {
     "name": "stderr",
     "output_type": "stream",
     "text": [
      "\r",
      "Iter. Sofia projections:  86%|███████████████████████████████████████████████████████         | 13961/16232 [02:13<00:22, 102.30it/s]"
     ]
    },
    {
     "name": "stderr",
     "output_type": "stream",
     "text": [
      "\r",
      "Iter. Sofia projections:  86%|███████████████████████████████████████████████████████         | 13972/16232 [02:13<00:22, 102.34it/s]"
     ]
    },
    {
     "name": "stderr",
     "output_type": "stream",
     "text": [
      "\r",
      "Iter. Sofia projections:  86%|███████████████████████████████████████████████████████▏        | 13983/16232 [02:13<00:21, 102.47it/s]"
     ]
    },
    {
     "name": "stderr",
     "output_type": "stream",
     "text": [
      "\r",
      "Iter. Sofia projections:  86%|███████████████████████████████████████████████████████▏        | 13994/16232 [02:13<00:21, 102.25it/s]"
     ]
    },
    {
     "name": "stderr",
     "output_type": "stream",
     "text": [
      "\r",
      "Iter. Sofia projections:  86%|███████████████████████████████████████████████████████▏        | 14005/16232 [02:13<00:21, 103.86it/s]"
     ]
    },
    {
     "name": "stderr",
     "output_type": "stream",
     "text": [
      "\r",
      "Iter. Sofia projections:  86%|███████████████████████████████████████████████████████▎        | 14016/16232 [02:13<00:21, 104.91it/s]"
     ]
    },
    {
     "name": "stderr",
     "output_type": "stream",
     "text": [
      "\r",
      "Iter. Sofia projections:  86%|███████████████████████████████████████████████████████▎        | 14027/16232 [02:13<00:20, 106.16it/s]"
     ]
    },
    {
     "name": "stderr",
     "output_type": "stream",
     "text": [
      "\r",
      "Iter. Sofia projections:  86%|███████████████████████████████████████████████████████▎        | 14038/16232 [02:13<00:21, 104.28it/s]"
     ]
    },
    {
     "name": "stderr",
     "output_type": "stream",
     "text": [
      "\r",
      "Iter. Sofia projections:  87%|███████████████████████████████████████████████████████▍        | 14049/16232 [02:13<00:21, 102.39it/s]"
     ]
    },
    {
     "name": "stderr",
     "output_type": "stream",
     "text": [
      "\r",
      "Iter. Sofia projections:  87%|███████████████████████████████████████████████████████▍        | 14060/16232 [02:14<00:21, 103.19it/s]"
     ]
    },
    {
     "name": "stderr",
     "output_type": "stream",
     "text": [
      "\r",
      "Iter. Sofia projections:  87%|███████████████████████████████████████████████████████▍        | 14071/16232 [02:14<00:20, 104.25it/s]"
     ]
    },
    {
     "name": "stderr",
     "output_type": "stream",
     "text": [
      "\r",
      "Iter. Sofia projections:  87%|███████████████████████████████████████████████████████▌        | 14082/16232 [02:14<00:20, 105.16it/s]"
     ]
    },
    {
     "name": "stderr",
     "output_type": "stream",
     "text": [
      "\r",
      "Iter. Sofia projections:  87%|███████████████████████████████████████████████████████▌        | 14093/16232 [02:14<00:20, 103.59it/s]"
     ]
    },
    {
     "name": "stderr",
     "output_type": "stream",
     "text": [
      "\r",
      "Iter. Sofia projections:  87%|███████████████████████████████████████████████████████▌        | 14104/16232 [02:14<00:20, 103.04it/s]"
     ]
    },
    {
     "name": "stderr",
     "output_type": "stream",
     "text": [
      "\r",
      "Iter. Sofia projections:  87%|███████████████████████████████████████████████████████▋        | 14115/16232 [02:14<00:20, 101.60it/s]"
     ]
    },
    {
     "name": "stderr",
     "output_type": "stream",
     "text": [
      "\r",
      "Iter. Sofia projections:  87%|███████████████████████████████████████████████████████▋        | 14126/16232 [02:14<00:20, 103.26it/s]"
     ]
    },
    {
     "name": "stderr",
     "output_type": "stream",
     "text": [
      "\r",
      "Iter. Sofia projections:  87%|███████████████████████████████████████████████████████▋        | 14137/16232 [02:14<00:20, 104.11it/s]"
     ]
    },
    {
     "name": "stderr",
     "output_type": "stream",
     "text": [
      "\r",
      "Iter. Sofia projections:  87%|███████████████████████████████████████████████████████▊        | 14148/16232 [02:14<00:20, 103.36it/s]"
     ]
    },
    {
     "name": "stderr",
     "output_type": "stream",
     "text": [
      "\r",
      "Iter. Sofia projections:  87%|███████████████████████████████████████████████████████▊        | 14159/16232 [02:15<00:19, 104.35it/s]"
     ]
    },
    {
     "name": "stderr",
     "output_type": "stream",
     "text": [
      "\r",
      "Iter. Sofia projections:  87%|███████████████████████████████████████████████████████▊        | 14170/16232 [02:15<00:19, 104.17it/s]"
     ]
    },
    {
     "name": "stderr",
     "output_type": "stream",
     "text": [
      "\r",
      "Iter. Sofia projections:  87%|███████████████████████████████████████████████████████▉        | 14181/16232 [02:15<00:20, 101.64it/s]"
     ]
    },
    {
     "name": "stderr",
     "output_type": "stream",
     "text": [
      "\r",
      "Iter. Sofia projections:  87%|████████████████████████████████████████████████████████▊        | 14192/16232 [02:15<00:20, 99.91it/s]"
     ]
    },
    {
     "name": "stderr",
     "output_type": "stream",
     "text": [
      "\r",
      "Iter. Sofia projections:  88%|████████████████████████████████████████████████████████        | 14203/16232 [02:15<00:20, 100.68it/s]"
     ]
    },
    {
     "name": "stderr",
     "output_type": "stream",
     "text": [
      "\r",
      "Iter. Sofia projections:  88%|████████████████████████████████████████████████████████        | 14214/16232 [02:15<00:20, 100.69it/s]"
     ]
    },
    {
     "name": "stderr",
     "output_type": "stream",
     "text": [
      "\r",
      "Iter. Sofia projections:  88%|████████████████████████████████████████████████████████        | 14225/16232 [02:15<00:19, 102.07it/s]"
     ]
    },
    {
     "name": "stderr",
     "output_type": "stream",
     "text": [
      "\r",
      "Iter. Sofia projections:  88%|████████████████████████████████████████████████████████▏       | 14236/16232 [02:15<00:19, 103.19it/s]"
     ]
    },
    {
     "name": "stderr",
     "output_type": "stream",
     "text": [
      "\r",
      "Iter. Sofia projections:  88%|████████████████████████████████████████████████████████▏       | 14247/16232 [02:15<00:19, 103.47it/s]"
     ]
    },
    {
     "name": "stderr",
     "output_type": "stream",
     "text": [
      "\r",
      "Iter. Sofia projections:  88%|████████████████████████████████████████████████████████▏       | 14258/16232 [02:16<00:19, 103.81it/s]"
     ]
    },
    {
     "name": "stderr",
     "output_type": "stream",
     "text": [
      "\r",
      "Iter. Sofia projections:  88%|████████████████████████████████████████████████████████▎       | 14269/16232 [02:16<00:18, 104.11it/s]"
     ]
    },
    {
     "name": "stderr",
     "output_type": "stream",
     "text": [
      "\r",
      "Iter. Sofia projections:  88%|████████████████████████████████████████████████████████▎       | 14280/16232 [02:16<00:18, 104.18it/s]"
     ]
    },
    {
     "name": "stderr",
     "output_type": "stream",
     "text": [
      "\r",
      "Iter. Sofia projections:  88%|████████████████████████████████████████████████████████▎       | 14291/16232 [02:16<00:18, 104.02it/s]"
     ]
    },
    {
     "name": "stderr",
     "output_type": "stream",
     "text": [
      "\r",
      "Iter. Sofia projections:  88%|████████████████████████████████████████████████████████▍       | 14302/16232 [02:16<00:18, 101.75it/s]"
     ]
    },
    {
     "name": "stderr",
     "output_type": "stream",
     "text": [
      "\r",
      "Iter. Sofia projections:  88%|████████████████████████████████████████████████████████▍       | 14313/16232 [02:16<00:18, 103.35it/s]"
     ]
    },
    {
     "name": "stderr",
     "output_type": "stream",
     "text": [
      "\r",
      "Iter. Sofia projections:  88%|████████████████████████████████████████████████████████▍       | 14324/16232 [02:16<00:18, 103.85it/s]"
     ]
    },
    {
     "name": "stderr",
     "output_type": "stream",
     "text": [
      "\r",
      "Iter. Sofia projections:  88%|████████████████████████████████████████████████████████▌       | 14335/16232 [02:16<00:18, 102.99it/s]"
     ]
    },
    {
     "name": "stderr",
     "output_type": "stream",
     "text": [
      "\r",
      "Iter. Sofia projections:  88%|████████████████████████████████████████████████████████▌       | 14346/16232 [02:16<00:18, 104.63it/s]"
     ]
    },
    {
     "name": "stderr",
     "output_type": "stream",
     "text": [
      "\r",
      "Iter. Sofia projections:  88%|████████████████████████████████████████████████████████▌       | 14357/16232 [02:16<00:18, 102.82it/s]"
     ]
    },
    {
     "name": "stderr",
     "output_type": "stream",
     "text": [
      "\r",
      "Iter. Sofia projections:  89%|████████████████████████████████████████████████████████▋       | 14369/16232 [02:17<00:17, 106.08it/s]"
     ]
    },
    {
     "name": "stderr",
     "output_type": "stream",
     "text": [
      "\r",
      "Iter. Sofia projections:  89%|████████████████████████████████████████████████████████▋       | 14380/16232 [02:17<00:17, 106.33it/s]"
     ]
    },
    {
     "name": "stderr",
     "output_type": "stream",
     "text": [
      "\r",
      "Iter. Sofia projections:  89%|████████████████████████████████████████████████████████▋       | 14391/16232 [02:17<00:17, 103.25it/s]"
     ]
    },
    {
     "name": "stderr",
     "output_type": "stream",
     "text": [
      "\r",
      "Iter. Sofia projections:  89%|████████████████████████████████████████████████████████▊       | 14402/16232 [02:17<00:17, 104.33it/s]"
     ]
    },
    {
     "name": "stderr",
     "output_type": "stream",
     "text": [
      "\r",
      "Iter. Sofia projections:  89%|████████████████████████████████████████████████████████▊       | 14413/16232 [02:17<00:17, 101.17it/s]"
     ]
    },
    {
     "name": "stderr",
     "output_type": "stream",
     "text": [
      "\r",
      "Iter. Sofia projections:  89%|████████████████████████████████████████████████████████▊       | 14424/16232 [02:17<00:17, 102.30it/s]"
     ]
    },
    {
     "name": "stderr",
     "output_type": "stream",
     "text": [
      "\r",
      "Iter. Sofia projections:  89%|████████████████████████████████████████████████████████▉       | 14435/16232 [02:17<00:17, 103.71it/s]"
     ]
    },
    {
     "name": "stderr",
     "output_type": "stream",
     "text": [
      "\r",
      "Iter. Sofia projections:  89%|████████████████████████████████████████████████████████▉       | 14446/16232 [02:17<00:17, 104.42it/s]"
     ]
    },
    {
     "name": "stderr",
     "output_type": "stream",
     "text": [
      "\r",
      "Iter. Sofia projections:  89%|█████████████████████████████████████████████████████████       | 14457/16232 [02:17<00:17, 103.29it/s]"
     ]
    },
    {
     "name": "stderr",
     "output_type": "stream",
     "text": [
      "\r",
      "Iter. Sofia projections:  89%|█████████████████████████████████████████████████████████       | 14469/16232 [02:18<00:16, 105.89it/s]"
     ]
    },
    {
     "name": "stderr",
     "output_type": "stream",
     "text": [
      "\r",
      "Iter. Sofia projections:  89%|█████████████████████████████████████████████████████████       | 14480/16232 [02:18<00:16, 106.74it/s]"
     ]
    },
    {
     "name": "stderr",
     "output_type": "stream",
     "text": [
      "\r",
      "Iter. Sofia projections:  89%|█████████████████████████████████████████████████████████▏      | 14491/16232 [02:18<00:16, 105.86it/s]"
     ]
    },
    {
     "name": "stderr",
     "output_type": "stream",
     "text": [
      "\r",
      "Iter. Sofia projections:  89%|█████████████████████████████████████████████████████████▏      | 14502/16232 [02:18<00:16, 105.76it/s]"
     ]
    },
    {
     "name": "stderr",
     "output_type": "stream",
     "text": [
      "\r",
      "Iter. Sofia projections:  89%|█████████████████████████████████████████████████████████▏      | 14514/16232 [02:18<00:16, 107.32it/s]"
     ]
    },
    {
     "name": "stderr",
     "output_type": "stream",
     "text": [
      "\r",
      "Iter. Sofia projections:  89%|█████████████████████████████████████████████████████████▎      | 14526/16232 [02:18<00:15, 108.71it/s]"
     ]
    },
    {
     "name": "stderr",
     "output_type": "stream",
     "text": [
      "\r",
      "Iter. Sofia projections:  90%|█████████████████████████████████████████████████████████▎      | 14537/16232 [02:18<00:16, 105.21it/s]"
     ]
    },
    {
     "name": "stderr",
     "output_type": "stream",
     "text": [
      "\r",
      "Iter. Sofia projections:  90%|█████████████████████████████████████████████████████████▎      | 14548/16232 [02:18<00:16, 104.82it/s]"
     ]
    },
    {
     "name": "stderr",
     "output_type": "stream",
     "text": [
      "\r",
      "Iter. Sofia projections:  90%|█████████████████████████████████████████████████████████▍      | 14559/16232 [02:18<00:15, 105.41it/s]"
     ]
    },
    {
     "name": "stderr",
     "output_type": "stream",
     "text": [
      "\r",
      "Iter. Sofia projections:  90%|█████████████████████████████████████████████████████████▍      | 14570/16232 [02:19<00:15, 105.08it/s]"
     ]
    },
    {
     "name": "stderr",
     "output_type": "stream",
     "text": [
      "\r",
      "Iter. Sofia projections:  90%|█████████████████████████████████████████████████████████▍      | 14581/16232 [02:19<00:15, 106.36it/s]"
     ]
    },
    {
     "name": "stderr",
     "output_type": "stream",
     "text": [
      "\r",
      "Iter. Sofia projections:  90%|█████████████████████████████████████████████████████████▌      | 14593/16232 [02:19<00:14, 109.41it/s]"
     ]
    },
    {
     "name": "stderr",
     "output_type": "stream",
     "text": [
      "\r",
      "Iter. Sofia projections:  90%|█████████████████████████████████████████████████████████▌      | 14605/16232 [02:19<00:14, 110.90it/s]"
     ]
    },
    {
     "name": "stderr",
     "output_type": "stream",
     "text": [
      "\r",
      "Iter. Sofia projections:  90%|█████████████████████████████████████████████████████████▋      | 14617/16232 [02:19<00:14, 110.25it/s]"
     ]
    },
    {
     "name": "stderr",
     "output_type": "stream",
     "text": [
      "\r",
      "Iter. Sofia projections:  90%|█████████████████████████████████████████████████████████▋      | 14629/16232 [02:19<00:14, 107.47it/s]"
     ]
    },
    {
     "name": "stderr",
     "output_type": "stream",
     "text": [
      "\r",
      "Iter. Sofia projections:  90%|█████████████████████████████████████████████████████████▋      | 14640/16232 [02:19<00:15, 105.26it/s]"
     ]
    },
    {
     "name": "stderr",
     "output_type": "stream",
     "text": [
      "\r",
      "Iter. Sofia projections:  90%|██████████████████████████████████████████████████████████▋      | 14651/16232 [02:19<00:17, 90.89it/s]"
     ]
    },
    {
     "name": "stderr",
     "output_type": "stream",
     "text": [
      "\r",
      "Iter. Sofia projections:  90%|██████████████████████████████████████████████████████████▋      | 14661/16232 [02:19<00:17, 91.20it/s]"
     ]
    },
    {
     "name": "stderr",
     "output_type": "stream",
     "text": [
      "\r",
      "Iter. Sofia projections:  90%|██████████████████████████████████████████████████████████▊      | 14672/16232 [02:20<00:16, 94.94it/s]"
     ]
    },
    {
     "name": "stderr",
     "output_type": "stream",
     "text": [
      "\r",
      "Iter. Sofia projections:  90%|██████████████████████████████████████████████████████████▊      | 14683/16232 [02:20<00:15, 97.59it/s]"
     ]
    },
    {
     "name": "stderr",
     "output_type": "stream",
     "text": [
      "\r",
      "Iter. Sofia projections:  91%|█████████████████████████████████████████████████████████▉      | 14694/16232 [02:20<00:15, 100.78it/s]"
     ]
    },
    {
     "name": "stderr",
     "output_type": "stream",
     "text": [
      "\r",
      "Iter. Sofia projections:  91%|█████████████████████████████████████████████████████████▉      | 14706/16232 [02:20<00:14, 105.30it/s]"
     ]
    },
    {
     "name": "stderr",
     "output_type": "stream",
     "text": [
      "\r",
      "Iter. Sofia projections:  91%|██████████████████████████████████████████████████████████      | 14718/16232 [02:20<00:13, 108.78it/s]"
     ]
    },
    {
     "name": "stderr",
     "output_type": "stream",
     "text": [
      "\r",
      "Iter. Sofia projections:  91%|██████████████████████████████████████████████████████████      | 14730/16232 [02:20<00:13, 109.30it/s]"
     ]
    },
    {
     "name": "stderr",
     "output_type": "stream",
     "text": [
      "\r",
      "Iter. Sofia projections:  91%|██████████████████████████████████████████████████████████      | 14741/16232 [02:20<00:13, 108.21it/s]"
     ]
    },
    {
     "name": "stderr",
     "output_type": "stream",
     "text": [
      "\r",
      "Iter. Sofia projections:  91%|██████████████████████████████████████████████████████████▏     | 14752/16232 [02:20<00:13, 107.06it/s]"
     ]
    },
    {
     "name": "stderr",
     "output_type": "stream",
     "text": [
      "\r",
      "Iter. Sofia projections:  91%|██████████████████████████████████████████████████████████▏     | 14763/16232 [02:20<00:13, 106.89it/s]"
     ]
    },
    {
     "name": "stderr",
     "output_type": "stream",
     "text": [
      "\r",
      "Iter. Sofia projections:  91%|██████████████████████████████████████████████████████████▎     | 14775/16232 [02:20<00:13, 108.24it/s]"
     ]
    },
    {
     "name": "stderr",
     "output_type": "stream",
     "text": [
      "\r",
      "Iter. Sofia projections:  91%|██████████████████████████████████████████████████████████▎     | 14786/16232 [02:21<00:13, 104.59it/s]"
     ]
    },
    {
     "name": "stderr",
     "output_type": "stream",
     "text": [
      "\r",
      "Iter. Sofia projections:  91%|██████████████████████████████████████████████████████████▎     | 14797/16232 [02:21<00:13, 104.67it/s]"
     ]
    },
    {
     "name": "stderr",
     "output_type": "stream",
     "text": [
      "\r",
      "Iter. Sofia projections:  91%|██████████████████████████████████████████████████████████▍     | 14808/16232 [02:21<00:13, 104.34it/s]"
     ]
    },
    {
     "name": "stderr",
     "output_type": "stream",
     "text": [
      "\r",
      "Iter. Sofia projections:  91%|██████████████████████████████████████████████████████████▍     | 14820/16232 [02:21<00:13, 107.04it/s]"
     ]
    },
    {
     "name": "stderr",
     "output_type": "stream",
     "text": [
      "\r",
      "Iter. Sofia projections:  91%|██████████████████████████████████████████████████████████▍     | 14832/16232 [02:21<00:12, 109.59it/s]"
     ]
    },
    {
     "name": "stderr",
     "output_type": "stream",
     "text": [
      "\r",
      "Iter. Sofia projections:  91%|██████████████████████████████████████████████████████████▌     | 14843/16232 [02:21<00:12, 109.10it/s]"
     ]
    },
    {
     "name": "stderr",
     "output_type": "stream",
     "text": [
      "\r",
      "Iter. Sofia projections:  92%|██████████████████████████████████████████████████████████▌     | 14854/16232 [02:21<00:12, 106.17it/s]"
     ]
    },
    {
     "name": "stderr",
     "output_type": "stream",
     "text": [
      "\r",
      "Iter. Sofia projections:  92%|██████████████████████████████████████████████████████████▌     | 14865/16232 [02:21<00:13, 104.82it/s]"
     ]
    },
    {
     "name": "stderr",
     "output_type": "stream",
     "text": [
      "\r",
      "Iter. Sofia projections:  92%|██████████████████████████████████████████████████████████▋     | 14876/16232 [02:21<00:12, 105.90it/s]"
     ]
    },
    {
     "name": "stderr",
     "output_type": "stream",
     "text": [
      "\r",
      "Iter. Sofia projections:  92%|██████████████████████████████████████████████████████████▋     | 14887/16232 [02:22<00:12, 106.61it/s]"
     ]
    },
    {
     "name": "stderr",
     "output_type": "stream",
     "text": [
      "\r",
      "Iter. Sofia projections:  92%|██████████████████████████████████████████████████████████▋     | 14899/16232 [02:22<00:12, 108.91it/s]"
     ]
    },
    {
     "name": "stderr",
     "output_type": "stream",
     "text": [
      "\r",
      "Iter. Sofia projections:  92%|██████████████████████████████████████████████████████████▊     | 14910/16232 [02:22<00:12, 106.22it/s]"
     ]
    },
    {
     "name": "stderr",
     "output_type": "stream",
     "text": [
      "\r",
      "Iter. Sofia projections:  92%|██████████████████████████████████████████████████████████▊     | 14921/16232 [02:22<00:12, 106.71it/s]"
     ]
    },
    {
     "name": "stderr",
     "output_type": "stream",
     "text": [
      "\r",
      "Iter. Sofia projections:  92%|██████████████████████████████████████████████████████████▉     | 14933/16232 [02:22<00:11, 108.66it/s]"
     ]
    },
    {
     "name": "stderr",
     "output_type": "stream",
     "text": [
      "\r",
      "Iter. Sofia projections:  92%|██████████████████████████████████████████████████████████▉     | 14945/16232 [02:22<00:11, 111.08it/s]"
     ]
    },
    {
     "name": "stderr",
     "output_type": "stream",
     "text": [
      "\r",
      "Iter. Sofia projections:  92%|██████████████████████████████████████████████████████████▉     | 14957/16232 [02:22<00:11, 107.54it/s]"
     ]
    },
    {
     "name": "stderr",
     "output_type": "stream",
     "text": [
      "\r",
      "Iter. Sofia projections:  92%|███████████████████████████████████████████████████████████     | 14968/16232 [02:22<00:11, 105.42it/s]"
     ]
    },
    {
     "name": "stderr",
     "output_type": "stream",
     "text": [
      "\r",
      "Iter. Sofia projections:  92%|███████████████████████████████████████████████████████████     | 14979/16232 [02:22<00:11, 106.50it/s]"
     ]
    },
    {
     "name": "stderr",
     "output_type": "stream",
     "text": [
      "\r",
      "Iter. Sofia projections:  92%|███████████████████████████████████████████████████████████     | 14990/16232 [02:22<00:11, 105.85it/s]"
     ]
    },
    {
     "name": "stderr",
     "output_type": "stream",
     "text": [
      "\r",
      "Iter. Sofia projections:  92%|████████████████████████████████████████████████████████████     | 15001/16232 [02:23<00:12, 97.75it/s]"
     ]
    },
    {
     "name": "stderr",
     "output_type": "stream",
     "text": [
      "\r",
      "Iter. Sofia projections:  92%|████████████████████████████████████████████████████████████     | 15012/16232 [02:23<00:12, 99.37it/s]"
     ]
    },
    {
     "name": "stderr",
     "output_type": "stream",
     "text": [
      "\r",
      "Iter. Sofia projections:  93%|███████████████████████████████████████████████████████████▏    | 15023/16232 [02:23<00:12, 100.17it/s]"
     ]
    },
    {
     "name": "stderr",
     "output_type": "stream",
     "text": [
      "\r",
      "Iter. Sofia projections:  93%|███████████████████████████████████████████████████████████▎    | 15034/16232 [02:23<00:11, 100.85it/s]"
     ]
    },
    {
     "name": "stderr",
     "output_type": "stream",
     "text": [
      "\r",
      "Iter. Sofia projections:  93%|███████████████████████████████████████████████████████████▎    | 15046/16232 [02:23<00:11, 104.47it/s]"
     ]
    },
    {
     "name": "stderr",
     "output_type": "stream",
     "text": [
      "\r",
      "Iter. Sofia projections:  93%|███████████████████████████████████████████████████████████▎    | 15058/16232 [02:23<00:11, 106.59it/s]"
     ]
    },
    {
     "name": "stderr",
     "output_type": "stream",
     "text": [
      "\r",
      "Iter. Sofia projections:  93%|███████████████████████████████████████████████████████████▍    | 15070/16232 [02:23<00:10, 108.23it/s]"
     ]
    },
    {
     "name": "stderr",
     "output_type": "stream",
     "text": [
      "\r",
      "Iter. Sofia projections:  93%|███████████████████████████████████████████████████████████▍    | 15082/16232 [02:23<00:10, 109.88it/s]"
     ]
    },
    {
     "name": "stderr",
     "output_type": "stream",
     "text": [
      "\r",
      "Iter. Sofia projections:  93%|███████████████████████████████████████████████████████████▌    | 15094/16232 [02:23<00:10, 109.11it/s]"
     ]
    },
    {
     "name": "stderr",
     "output_type": "stream",
     "text": [
      "\r",
      "Iter. Sofia projections:  93%|███████████████████████████████████████████████████████████▌    | 15107/16232 [02:24<00:09, 112.68it/s]"
     ]
    },
    {
     "name": "stderr",
     "output_type": "stream",
     "text": [
      "\r",
      "Iter. Sofia projections:  93%|███████████████████████████████████████████████████████████▌    | 15119/16232 [02:24<00:09, 112.97it/s]"
     ]
    },
    {
     "name": "stderr",
     "output_type": "stream",
     "text": [
      "\r",
      "Iter. Sofia projections:  93%|███████████████████████████████████████████████████████████▋    | 15131/16232 [02:24<00:09, 111.95it/s]"
     ]
    },
    {
     "name": "stderr",
     "output_type": "stream",
     "text": [
      "\r",
      "Iter. Sofia projections:  93%|███████████████████████████████████████████████████████████▋    | 15143/16232 [02:24<00:09, 111.06it/s]"
     ]
    },
    {
     "name": "stderr",
     "output_type": "stream",
     "text": [
      "\r",
      "Iter. Sofia projections:  93%|███████████████████████████████████████████████████████████▊    | 15155/16232 [02:24<00:10, 106.58it/s]"
     ]
    },
    {
     "name": "stderr",
     "output_type": "stream",
     "text": [
      "\r",
      "Iter. Sofia projections:  93%|████████████████████████████████████████████████████████████▋    | 15166/16232 [02:24<00:11, 89.78it/s]"
     ]
    },
    {
     "name": "stderr",
     "output_type": "stream",
     "text": [
      "\r",
      "Iter. Sofia projections:  94%|████████████████████████████████████████████████████████████▊    | 15177/16232 [02:24<00:11, 93.87it/s]"
     ]
    },
    {
     "name": "stderr",
     "output_type": "stream",
     "text": [
      "\r",
      "Iter. Sofia projections:  94%|████████████████████████████████████████████████████████████▊    | 15189/16232 [02:24<00:10, 99.09it/s]"
     ]
    },
    {
     "name": "stderr",
     "output_type": "stream",
     "text": [
      "\r",
      "Iter. Sofia projections:  94%|███████████████████████████████████████████████████████████▉    | 15201/16232 [02:25<00:09, 103.99it/s]"
     ]
    },
    {
     "name": "stderr",
     "output_type": "stream",
     "text": [
      "\r",
      "Iter. Sofia projections:  94%|███████████████████████████████████████████████████████████▉    | 15213/16232 [02:25<00:09, 107.27it/s]"
     ]
    },
    {
     "name": "stderr",
     "output_type": "stream",
     "text": [
      "\r",
      "Iter. Sofia projections:  94%|████████████████████████████████████████████████████████████    | 15224/16232 [02:25<00:09, 105.07it/s]"
     ]
    },
    {
     "name": "stderr",
     "output_type": "stream",
     "text": [
      "\r",
      "Iter. Sofia projections:  94%|████████████████████████████████████████████████████████████    | 15235/16232 [02:25<00:09, 105.37it/s]"
     ]
    },
    {
     "name": "stderr",
     "output_type": "stream",
     "text": [
      "\r",
      "Iter. Sofia projections:  94%|████████████████████████████████████████████████████████████    | 15246/16232 [02:25<00:09, 106.35it/s]"
     ]
    },
    {
     "name": "stderr",
     "output_type": "stream",
     "text": [
      "\r",
      "Iter. Sofia projections:  94%|████████████████████████████████████████████████████████████▏   | 15258/16232 [02:25<00:08, 108.48it/s]"
     ]
    },
    {
     "name": "stderr",
     "output_type": "stream",
     "text": [
      "\r",
      "Iter. Sofia projections:  94%|████████████████████████████████████████████████████████████▏   | 15269/16232 [02:25<00:09, 104.41it/s]"
     ]
    },
    {
     "name": "stderr",
     "output_type": "stream",
     "text": [
      "\r",
      "Iter. Sofia projections:  94%|█████████████████████████████████████████████████████████████▏   | 15280/16232 [02:25<00:09, 99.79it/s]"
     ]
    },
    {
     "name": "stderr",
     "output_type": "stream",
     "text": [
      "\r",
      "Iter. Sofia projections:  94%|████████████████████████████████████████████████████████████▎   | 15291/16232 [02:25<00:09, 101.56it/s]"
     ]
    },
    {
     "name": "stderr",
     "output_type": "stream",
     "text": [
      "\r",
      "Iter. Sofia projections:  94%|████████████████████████████████████████████████████████████▎   | 15303/16232 [02:25<00:08, 106.03it/s]"
     ]
    },
    {
     "name": "stderr",
     "output_type": "stream",
     "text": [
      "\r",
      "Iter. Sofia projections:  94%|████████████████████████████████████████████████████████████▍   | 15314/16232 [02:26<00:08, 105.97it/s]"
     ]
    },
    {
     "name": "stderr",
     "output_type": "stream",
     "text": [
      "\r",
      "Iter. Sofia projections:  94%|████████████████████████████████████████████████████████████▍   | 15326/16232 [02:26<00:08, 107.66it/s]"
     ]
    },
    {
     "name": "stderr",
     "output_type": "stream",
     "text": [
      "\r",
      "Iter. Sofia projections:  94%|████████████████████████████████████████████████████████████▍   | 15337/16232 [02:26<00:08, 105.92it/s]"
     ]
    },
    {
     "name": "stderr",
     "output_type": "stream",
     "text": [
      "\r",
      "Iter. Sofia projections:  95%|████████████████████████████████████████████████████████████▌   | 15348/16232 [02:26<00:08, 106.34it/s]"
     ]
    },
    {
     "name": "stderr",
     "output_type": "stream",
     "text": [
      "\r",
      "Iter. Sofia projections:  95%|████████████████████████████████████████████████████████████▌   | 15360/16232 [02:26<00:07, 109.20it/s]"
     ]
    },
    {
     "name": "stderr",
     "output_type": "stream",
     "text": [
      "\r",
      "Iter. Sofia projections:  95%|████████████████████████████████████████████████████████████▌   | 15371/16232 [02:26<00:08, 106.41it/s]"
     ]
    },
    {
     "name": "stderr",
     "output_type": "stream",
     "text": [
      "\r",
      "Iter. Sofia projections:  95%|████████████████████████████████████████████████████████████▋   | 15382/16232 [02:26<00:08, 104.64it/s]"
     ]
    },
    {
     "name": "stderr",
     "output_type": "stream",
     "text": [
      "\r",
      "Iter. Sofia projections:  95%|████████████████████████████████████████████████████████████▋   | 15394/16232 [02:26<00:07, 106.54it/s]"
     ]
    },
    {
     "name": "stderr",
     "output_type": "stream",
     "text": [
      "\r",
      "Iter. Sofia projections:  95%|████████████████████████████████████████████████████████████▋   | 15405/16232 [02:26<00:07, 104.97it/s]"
     ]
    },
    {
     "name": "stderr",
     "output_type": "stream",
     "text": [
      "\r",
      "Iter. Sofia projections:  95%|████████████████████████████████████████████████████████████▊   | 15416/16232 [02:27<00:07, 104.54it/s]"
     ]
    },
    {
     "name": "stderr",
     "output_type": "stream",
     "text": [
      "\r",
      "Iter. Sofia projections:  95%|████████████████████████████████████████████████████████████▊   | 15427/16232 [02:27<00:07, 105.25it/s]"
     ]
    },
    {
     "name": "stderr",
     "output_type": "stream",
     "text": [
      "\r",
      "Iter. Sofia projections:  95%|████████████████████████████████████████████████████████████▊   | 15438/16232 [02:27<00:07, 105.55it/s]"
     ]
    },
    {
     "name": "stderr",
     "output_type": "stream",
     "text": [
      "\r",
      "Iter. Sofia projections:  95%|████████████████████████████████████████████████████████████▉   | 15449/16232 [02:27<00:07, 103.46it/s]"
     ]
    },
    {
     "name": "stderr",
     "output_type": "stream",
     "text": [
      "\r",
      "Iter. Sofia projections:  95%|████████████████████████████████████████████████████████████▉   | 15461/16232 [02:27<00:07, 105.90it/s]"
     ]
    },
    {
     "name": "stderr",
     "output_type": "stream",
     "text": [
      "\r",
      "Iter. Sofia projections:  95%|█████████████████████████████████████████████████████████████   | 15472/16232 [02:27<00:07, 106.76it/s]"
     ]
    },
    {
     "name": "stderr",
     "output_type": "stream",
     "text": [
      "\r",
      "Iter. Sofia projections:  95%|█████████████████████████████████████████████████████████████   | 15483/16232 [02:27<00:07, 104.19it/s]"
     ]
    },
    {
     "name": "stderr",
     "output_type": "stream",
     "text": [
      "\r",
      "Iter. Sofia projections:  95%|█████████████████████████████████████████████████████████████   | 15494/16232 [02:27<00:07, 104.15it/s]"
     ]
    },
    {
     "name": "stderr",
     "output_type": "stream",
     "text": [
      "\r",
      "Iter. Sofia projections:  96%|█████████████████████████████████████████████████████████████▏  | 15505/16232 [02:27<00:07, 103.76it/s]"
     ]
    },
    {
     "name": "stderr",
     "output_type": "stream",
     "text": [
      "\r",
      "Iter. Sofia projections:  96%|█████████████████████████████████████████████████████████████▏  | 15517/16232 [02:28<00:06, 106.50it/s]"
     ]
    },
    {
     "name": "stderr",
     "output_type": "stream",
     "text": [
      "\r",
      "Iter. Sofia projections:  96%|█████████████████████████████████████████████████████████████▏  | 15528/16232 [02:28<00:06, 103.57it/s]"
     ]
    },
    {
     "name": "stderr",
     "output_type": "stream",
     "text": [
      "\r",
      "Iter. Sofia projections:  96%|█████████████████████████████████████████████████████████████▎  | 15539/16232 [02:28<00:06, 102.28it/s]"
     ]
    },
    {
     "name": "stderr",
     "output_type": "stream",
     "text": [
      "\r",
      "Iter. Sofia projections:  96%|█████████████████████████████████████████████████████████████▎  | 15550/16232 [02:28<00:06, 103.74it/s]"
     ]
    },
    {
     "name": "stderr",
     "output_type": "stream",
     "text": [
      "\r",
      "Iter. Sofia projections:  96%|█████████████████████████████████████████████████████████████▎  | 15561/16232 [02:28<00:06, 104.57it/s]"
     ]
    },
    {
     "name": "stderr",
     "output_type": "stream",
     "text": [
      "\r",
      "Iter. Sofia projections:  96%|█████████████████████████████████████████████████████████████▍  | 15572/16232 [02:28<00:06, 105.69it/s]"
     ]
    },
    {
     "name": "stderr",
     "output_type": "stream",
     "text": [
      "\r",
      "Iter. Sofia projections:  96%|█████████████████████████████████████████████████████████████▍  | 15583/16232 [02:28<00:06, 105.71it/s]"
     ]
    },
    {
     "name": "stderr",
     "output_type": "stream",
     "text": [
      "\r",
      "Iter. Sofia projections:  96%|█████████████████████████████████████████████████████████████▍  | 15594/16232 [02:28<00:06, 105.05it/s]"
     ]
    },
    {
     "name": "stderr",
     "output_type": "stream",
     "text": [
      "\r",
      "Iter. Sofia projections:  96%|█████████████████████████████████████████████████████████████▌  | 15605/16232 [02:28<00:05, 105.17it/s]"
     ]
    },
    {
     "name": "stderr",
     "output_type": "stream",
     "text": [
      "\r",
      "Iter. Sofia projections:  96%|█████████████████████████████████████████████████████████████▌  | 15616/16232 [02:28<00:05, 104.37it/s]"
     ]
    },
    {
     "name": "stderr",
     "output_type": "stream",
     "text": [
      "\r",
      "Iter. Sofia projections:  96%|█████████████████████████████████████████████████████████████▌  | 15627/16232 [02:29<00:05, 105.54it/s]"
     ]
    },
    {
     "name": "stderr",
     "output_type": "stream",
     "text": [
      "\r",
      "Iter. Sofia projections:  96%|█████████████████████████████████████████████████████████████▋  | 15638/16232 [02:29<00:05, 103.44it/s]"
     ]
    },
    {
     "name": "stderr",
     "output_type": "stream",
     "text": [
      "\r",
      "Iter. Sofia projections:  96%|█████████████████████████████████████████████████████████████▋  | 15649/16232 [02:29<00:05, 100.51it/s]"
     ]
    },
    {
     "name": "stderr",
     "output_type": "stream",
     "text": [
      "\r",
      "Iter. Sofia projections:  96%|█████████████████████████████████████████████████████████████▋  | 15660/16232 [02:29<00:05, 100.63it/s]"
     ]
    },
    {
     "name": "stderr",
     "output_type": "stream",
     "text": [
      "\r",
      "Iter. Sofia projections:  97%|█████████████████████████████████████████████████████████████▊  | 15671/16232 [02:29<00:05, 101.46it/s]"
     ]
    },
    {
     "name": "stderr",
     "output_type": "stream",
     "text": [
      "\r",
      "Iter. Sofia projections:  97%|█████████████████████████████████████████████████████████████▊  | 15682/16232 [02:29<00:05, 101.62it/s]"
     ]
    },
    {
     "name": "stderr",
     "output_type": "stream",
     "text": [
      "\r",
      "Iter. Sofia projections:  97%|█████████████████████████████████████████████████████████████▊  | 15693/16232 [02:29<00:05, 102.99it/s]"
     ]
    },
    {
     "name": "stderr",
     "output_type": "stream",
     "text": [
      "\r",
      "Iter. Sofia projections:  97%|█████████████████████████████████████████████████████████████▉  | 15704/16232 [02:29<00:05, 102.43it/s]"
     ]
    },
    {
     "name": "stderr",
     "output_type": "stream",
     "text": [
      "\r",
      "Iter. Sofia projections:  97%|█████████████████████████████████████████████████████████████▉  | 15715/16232 [02:29<00:05, 100.85it/s]"
     ]
    },
    {
     "name": "stderr",
     "output_type": "stream",
     "text": [
      "\r",
      "Iter. Sofia projections:  97%|██████████████████████████████████████████████████████████████  | 15726/16232 [02:30<00:04, 101.34it/s]"
     ]
    },
    {
     "name": "stderr",
     "output_type": "stream",
     "text": [
      "\r",
      "Iter. Sofia projections:  97%|██████████████████████████████████████████████████████████████  | 15737/16232 [02:30<00:04, 102.12it/s]"
     ]
    },
    {
     "name": "stderr",
     "output_type": "stream",
     "text": [
      "\r",
      "Iter. Sofia projections:  97%|██████████████████████████████████████████████████████████████  | 15748/16232 [02:30<00:04, 102.32it/s]"
     ]
    },
    {
     "name": "stderr",
     "output_type": "stream",
     "text": [
      "\r",
      "Iter. Sofia projections:  97%|██████████████████████████████████████████████████████████████▏ | 15759/16232 [02:30<00:04, 103.37it/s]"
     ]
    },
    {
     "name": "stderr",
     "output_type": "stream",
     "text": [
      "\r",
      "Iter. Sofia projections:  97%|██████████████████████████████████████████████████████████████▏ | 15770/16232 [02:30<00:04, 102.53it/s]"
     ]
    },
    {
     "name": "stderr",
     "output_type": "stream",
     "text": [
      "\r",
      "Iter. Sofia projections:  97%|██████████████████████████████████████████████████████████████▏ | 15781/16232 [02:30<00:04, 101.99it/s]"
     ]
    },
    {
     "name": "stderr",
     "output_type": "stream",
     "text": [
      "\r",
      "Iter. Sofia projections:  97%|██████████████████████████████████████████████████████████████▎ | 15792/16232 [02:30<00:04, 101.33it/s]"
     ]
    },
    {
     "name": "stderr",
     "output_type": "stream",
     "text": [
      "\r",
      "Iter. Sofia projections:  97%|██████████████████████████████████████████████████████████████▎ | 15803/16232 [02:30<00:04, 102.57it/s]"
     ]
    },
    {
     "name": "stderr",
     "output_type": "stream",
     "text": [
      "\r",
      "Iter. Sofia projections:  97%|██████████████████████████████████████████████████████████████▎ | 15814/16232 [02:30<00:04, 103.85it/s]"
     ]
    },
    {
     "name": "stderr",
     "output_type": "stream",
     "text": [
      "\r",
      "Iter. Sofia projections:  97%|██████████████████████████████████████████████████████████████▍ | 15825/16232 [02:30<00:03, 104.62it/s]"
     ]
    },
    {
     "name": "stderr",
     "output_type": "stream",
     "text": [
      "\r",
      "Iter. Sofia projections:  98%|██████████████████████████████████████████████████████████████▍ | 15836/16232 [02:31<00:03, 105.39it/s]"
     ]
    },
    {
     "name": "stderr",
     "output_type": "stream",
     "text": [
      "\r",
      "Iter. Sofia projections:  98%|██████████████████████████████████████████████████████████████▍ | 15847/16232 [02:31<00:03, 104.84it/s]"
     ]
    },
    {
     "name": "stderr",
     "output_type": "stream",
     "text": [
      "\r",
      "Iter. Sofia projections:  98%|██████████████████████████████████████████████████████████████▌ | 15858/16232 [02:31<00:03, 105.95it/s]"
     ]
    },
    {
     "name": "stderr",
     "output_type": "stream",
     "text": [
      "\r",
      "Iter. Sofia projections:  98%|██████████████████████████████████████████████████████████████▌ | 15869/16232 [02:31<00:03, 105.20it/s]"
     ]
    },
    {
     "name": "stderr",
     "output_type": "stream",
     "text": [
      "\r",
      "Iter. Sofia projections:  98%|██████████████████████████████████████████████████████████████▌ | 15880/16232 [02:31<00:03, 102.14it/s]"
     ]
    },
    {
     "name": "stderr",
     "output_type": "stream",
     "text": [
      "\r",
      "Iter. Sofia projections:  98%|██████████████████████████████████████████████████████████████▋ | 15892/16232 [02:31<00:03, 104.86it/s]"
     ]
    },
    {
     "name": "stderr",
     "output_type": "stream",
     "text": [
      "\r",
      "Iter. Sofia projections:  98%|██████████████████████████████████████████████████████████████▋ | 15903/16232 [02:31<00:03, 105.09it/s]"
     ]
    },
    {
     "name": "stderr",
     "output_type": "stream",
     "text": [
      "\r",
      "Iter. Sofia projections:  98%|██████████████████████████████████████████████████████████████▊ | 15915/16232 [02:31<00:02, 108.21it/s]"
     ]
    },
    {
     "name": "stderr",
     "output_type": "stream",
     "text": [
      "\r",
      "Iter. Sofia projections:  98%|██████████████████████████████████████████████████████████████▊ | 15926/16232 [02:31<00:02, 107.80it/s]"
     ]
    },
    {
     "name": "stderr",
     "output_type": "stream",
     "text": [
      "\r",
      "Iter. Sofia projections:  98%|██████████████████████████████████████████████████████████████▊ | 15938/16232 [02:32<00:02, 108.60it/s]"
     ]
    },
    {
     "name": "stderr",
     "output_type": "stream",
     "text": [
      "\r",
      "Iter. Sofia projections:  98%|██████████████████████████████████████████████████████████████▉ | 15949/16232 [02:32<00:02, 108.43it/s]"
     ]
    },
    {
     "name": "stderr",
     "output_type": "stream",
     "text": [
      "\r",
      "Iter. Sofia projections:  98%|██████████████████████████████████████████████████████████████▉ | 15960/16232 [02:32<00:02, 106.74it/s]"
     ]
    },
    {
     "name": "stderr",
     "output_type": "stream",
     "text": [
      "\r",
      "Iter. Sofia projections:  98%|██████████████████████████████████████████████████████████████▉ | 15971/16232 [02:32<00:02, 106.77it/s]"
     ]
    },
    {
     "name": "stderr",
     "output_type": "stream",
     "text": [
      "\r",
      "Iter. Sofia projections:  98%|███████████████████████████████████████████████████████████████ | 15983/16232 [02:32<00:02, 109.74it/s]"
     ]
    },
    {
     "name": "stderr",
     "output_type": "stream",
     "text": [
      "\r",
      "Iter. Sofia projections:  99%|███████████████████████████████████████████████████████████████ | 15994/16232 [02:32<00:02, 108.12it/s]"
     ]
    },
    {
     "name": "stderr",
     "output_type": "stream",
     "text": [
      "\r",
      "Iter. Sofia projections:  99%|███████████████████████████████████████████████████████████████ | 16006/16232 [02:32<00:02, 109.41it/s]"
     ]
    },
    {
     "name": "stderr",
     "output_type": "stream",
     "text": [
      "\r",
      "Iter. Sofia projections:  99%|███████████████████████████████████████████████████████████████▏| 16018/16232 [02:32<00:01, 110.69it/s]"
     ]
    },
    {
     "name": "stderr",
     "output_type": "stream",
     "text": [
      "\r",
      "Iter. Sofia projections:  99%|███████████████████████████████████████████████████████████████▏| 16030/16232 [02:32<00:01, 110.32it/s]"
     ]
    },
    {
     "name": "stderr",
     "output_type": "stream",
     "text": [
      "\r",
      "Iter. Sofia projections:  99%|███████████████████████████████████████████████████████████████▎| 16042/16232 [02:33<00:01, 110.37it/s]"
     ]
    },
    {
     "name": "stderr",
     "output_type": "stream",
     "text": [
      "\r",
      "Iter. Sofia projections:  99%|███████████████████████████████████████████████████████████████▎| 16054/16232 [02:33<00:01, 109.90it/s]"
     ]
    },
    {
     "name": "stderr",
     "output_type": "stream",
     "text": [
      "\r",
      "Iter. Sofia projections:  99%|███████████████████████████████████████████████████████████████▎| 16065/16232 [02:33<00:01, 109.46it/s]"
     ]
    },
    {
     "name": "stderr",
     "output_type": "stream",
     "text": [
      "\r",
      "Iter. Sofia projections:  99%|███████████████████████████████████████████████████████████████▍| 16077/16232 [02:33<00:01, 110.84it/s]"
     ]
    },
    {
     "name": "stderr",
     "output_type": "stream",
     "text": [
      "\r",
      "Iter. Sofia projections:  99%|███████████████████████████████████████████████████████████████▍| 16089/16232 [02:33<00:01, 107.65it/s]"
     ]
    },
    {
     "name": "stderr",
     "output_type": "stream",
     "text": [
      "\r",
      "Iter. Sofia projections:  99%|███████████████████████████████████████████████████████████████▍| 16101/16232 [02:33<00:01, 108.31it/s]"
     ]
    },
    {
     "name": "stderr",
     "output_type": "stream",
     "text": [
      "\r",
      "Iter. Sofia projections:  99%|███████████████████████████████████████████████████████████████▌| 16113/16232 [02:33<00:01, 109.78it/s]"
     ]
    },
    {
     "name": "stderr",
     "output_type": "stream",
     "text": [
      "\r",
      "Iter. Sofia projections:  99%|███████████████████████████████████████████████████████████████▌| 16124/16232 [02:33<00:00, 108.34it/s]"
     ]
    },
    {
     "name": "stderr",
     "output_type": "stream",
     "text": [
      "\r",
      "Iter. Sofia projections:  99%|███████████████████████████████████████████████████████████████▌| 16135/16232 [02:33<00:00, 105.28it/s]"
     ]
    },
    {
     "name": "stderr",
     "output_type": "stream",
     "text": [
      "\r",
      "Iter. Sofia projections:  99%|███████████████████████████████████████████████████████████████▋| 16146/16232 [02:33<00:00, 101.22it/s]"
     ]
    },
    {
     "name": "stderr",
     "output_type": "stream",
     "text": [
      "\r",
      "Iter. Sofia projections: 100%|███████████████████████████████████████████████████████████████▋| 16157/16232 [02:34<00:00, 101.79it/s]"
     ]
    },
    {
     "name": "stderr",
     "output_type": "stream",
     "text": [
      "\r",
      "Iter. Sofia projections: 100%|███████████████████████████████████████████████████████████████▋| 16168/16232 [02:34<00:00, 102.53it/s]"
     ]
    },
    {
     "name": "stderr",
     "output_type": "stream",
     "text": [
      "\r",
      "Iter. Sofia projections: 100%|███████████████████████████████████████████████████████████████▊| 16179/16232 [02:34<00:00, 104.02it/s]"
     ]
    },
    {
     "name": "stderr",
     "output_type": "stream",
     "text": [
      "\r",
      "Iter. Sofia projections: 100%|███████████████████████████████████████████████████████████████▊| 16190/16232 [02:34<00:00, 105.27it/s]"
     ]
    },
    {
     "name": "stderr",
     "output_type": "stream",
     "text": [
      "\r",
      "Iter. Sofia projections: 100%|███████████████████████████████████████████████████████████████▉| 16201/16232 [02:34<00:00, 106.13it/s]"
     ]
    },
    {
     "name": "stderr",
     "output_type": "stream",
     "text": [
      "\r",
      "Iter. Sofia projections: 100%|███████████████████████████████████████████████████████████████▉| 16213/16232 [02:34<00:00, 109.84it/s]"
     ]
    },
    {
     "name": "stderr",
     "output_type": "stream",
     "text": [
      "\r",
      "Iter. Sofia projections: 100%|███████████████████████████████████████████████████████████████▉| 16225/16232 [02:34<00:00, 109.53it/s]"
     ]
    },
    {
     "name": "stderr",
     "output_type": "stream",
     "text": [
      "\r",
      "Iter. Sofia projections: 100%|████████████████████████████████████████████████████████████████| 16232/16232 [02:34<00:00, 104.86it/s]"
     ]
    },
    {
     "name": "stderr",
     "output_type": "stream",
     "text": [
      "\n"
     ]
    }
   ],
   "source": [
    "# create the concept lattice\n",
    "L = ConceptLattice.from_context(K, algo='Sofia', L_max = 1000, min_supp = 0.1, use_tqdm=True)"
   ]
  },
  {
   "cell_type": "code",
   "execution_count": 7,
   "id": "5c4f9363-17e7-44aa-9ba8-c13fad5287eb",
   "metadata": {
    "execution": {
     "iopub.execute_input": "2024-07-27T13:55:30.250234Z",
     "iopub.status.busy": "2024-07-27T13:55:30.249961Z",
     "iopub.status.idle": "2024-07-27T13:55:31.850857Z",
     "shell.execute_reply": "2024-07-27T13:55:31.850024Z"
    },
    "papermill": {
     "duration": 1.661794,
     "end_time": "2024-07-27T13:55:31.852923",
     "exception": false,
     "start_time": "2024-07-27T13:55:30.191129",
     "status": "completed"
    },
    "tags": []
   },
   "outputs": [],
   "source": [
    "L.write_json(objs_order=K.object_names, attrs_order=K.attribute_names, path=output_lattice_file)"
   ]
  }
 ],
 "metadata": {
  "kernelspec": {
   "display_name": "Python 3 (ipykernel)",
   "language": "python",
   "name": "python3"
  },
  "language_info": {
   "codemirror_mode": {
    "name": "ipython",
    "version": 3
   },
   "file_extension": ".py",
   "mimetype": "text/x-python",
   "name": "python",
   "nbconvert_exporter": "python",
   "pygments_lexer": "ipython3",
   "version": "3.12.1"
  },
  "papermill": {
   "default_parameters": {},
   "duration": 9681.276918,
   "end_time": "2024-07-27T13:55:35.149678",
   "environment_variables": {},
   "exception": null,
   "input_path": "full_lattice_.ipynb",
   "output_path": "full_lattice_out.ipynb",
   "parameters": {},
   "start_time": "2024-07-27T11:14:13.872760",
   "version": "2.6.0"
  }
 },
 "nbformat": 4,
 "nbformat_minor": 5
}